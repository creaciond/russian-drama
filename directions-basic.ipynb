{
 "cells": [
  {
   "cell_type": "markdown",
   "metadata": {},
   "source": [
    "# Stage directions: basic features\n",
    "\n",
    "This notebook contains:\n",
    "\n",
    "* directions extraction\n",
    "* basic values calculation"
   ]
  },
  {
   "cell_type": "markdown",
   "metadata": {},
   "source": [
    "## Imports\n",
    "<span style=\"font-size:larger;color:blue;\">Run this before everything else!</span>"
   ]
  },
  {
   "cell_type": "code",
   "execution_count": 1,
   "metadata": {},
   "outputs": [],
   "source": [
    "# imports\n",
    "import os\n",
    "import re\n",
    "import pandas as pd\n",
    "from lxml import etree\n",
    "from bs4 import BeautifulSoup\n",
    "from statistics import mean\n",
    "from pymystem3 import Mystem\n",
    "\n",
    "\n",
    "# we need this namespaces parameter to search in TEI-encoded files correctly\n",
    "tei_ns = {'tei': 'http://www.tei-c.org/ns/1.0'}\n",
    "\n",
    "# one Mystem for everything, so that we won't have to initialize it every time\n",
    "mystem = Mystem()"
   ]
  },
  {
   "cell_type": "markdown",
   "metadata": {},
   "source": [
    "## Preparation\n",
    "\n",
    "### Data\n",
    "I used [RusDraCor](https://github.com/dracor-org/rusdracor) as of 7th April, 2018. More precise data on the corpus is below."
   ]
  },
  {
   "cell_type": "code",
   "execution_count": 2,
   "metadata": {
    "collapsed": true
   },
   "outputs": [],
   "source": [
    "corpus_path = \"..\" + os.sep + \"data\""
   ]
  },
  {
   "cell_type": "markdown",
   "metadata": {},
   "source": [
    "### Play class\n",
    "I want to create a table with information on the plays we research, so it will be much easier to have a separate ```Play``` class with all the data.\n",
    "\n",
    "\n",
    "```python\n",
    "class Play:\n",
    "    def __init__(self, path, author, title, year_written, year_published, amount_of_directions, amount_of_acts):\n",
    "        self.path = path\n",
    "        self.author = author\n",
    "        self.title = title\n",
    "        self.year_written = year_written\n",
    "        self.year_published = year_published\n",
    "        self.amount_of_directions = amount_of_directions\n",
    "        self.amount_of_acts = amount_of_acts\n",
    "```"
   ]
  },
  {
   "cell_type": "markdown",
   "metadata": {},
   "source": [
    "Update: we don't really need that one."
   ]
  },
  {
   "cell_type": "markdown",
   "metadata": {},
   "source": [
    "### Folders"
   ]
  },
  {
   "cell_type": "code",
   "execution_count": null,
   "metadata": {},
   "outputs": [],
   "source": [
    "if not os.path.exists(\"..\" + os.sep)"
   ]
  },
  {
   "cell_type": "markdown",
   "metadata": {},
   "source": [
    "## Extraction\n",
    "\n",
    "### Play information\n",
    "The majority of information pieces can be extracted from the ```html <teiHeader></teiHeader>``` in XML itself. Each act is wrapped in ```<div type=\"act\">```, so counting the acts also isn't much of a problem."
   ]
  },
  {
   "cell_type": "code",
   "execution_count": 3,
   "metadata": {
    "collapsed": true
   },
   "outputs": [],
   "source": [
    "def get_play_data(play_path):\n",
    "    reg_space = re.compile(\"\\s{2,}\")\n",
    "    root = etree.parse(play_path)\n",
    "    title = root.find(\".//tei:titleStmt/tei:title\", tei_ns).text\n",
    "    title = reg_space.sub(\" \", title)\n",
    "    author = root.find(\".//tei:titleStmt/tei:author\", tei_ns).text\n",
    "    try:\n",
    "        written_str = root.find(\".//tei:sourceDesc/tei:bibl/tei:bibl/tei:date[@type=\\\"written\\\"]\", tei_ns).attrib[\"when\"]\n",
    "        year_written = int(written_str)\n",
    "    except:\n",
    "        year_written = -1\n",
    "    try:\n",
    "        published_str = root.find(\".//tei:sourceDesc/tei:bibl/tei:bibl/tei:date[@type=\\\"print\\\"]\", tei_ns).attrib[\"when\"]\n",
    "        year_published = int(published_str)\n",
    "    except:\n",
    "        year_published = -1\n",
    "    acts = len(root.findall(\".//tei:text/tei:body/tei:div[@type=\\\"act\\\"]\", tei_ns))\n",
    "    return author, title, year_written, year_published, acts    "
   ]
  },
  {
   "cell_type": "markdown",
   "metadata": {},
   "source": [
    "### Amount of words in a play\n",
    "Word count is required to count some averages later on."
   ]
  },
  {
   "cell_type": "code",
   "execution_count": 4,
   "metadata": {
    "collapsed": true
   },
   "outputs": [],
   "source": [
    "def word_count(play_path, mystem):\n",
    "    with open(play_path, \"r\", encoding=\"utf-8\") as play:\n",
    "        soup = BeautifulSoup(play, \"xml\")\n",
    "        text = soup.find(\"text\").text\n",
    "    lemmas_play = set(mystem.lemmatize(text))\n",
    "    words_play = [item for item in mystem.analyze(text) if \"analysis\" in item]\n",
    "    return len(lemmas_play), len(words_play)"
   ]
  },
  {
   "cell_type": "markdown",
   "metadata": {},
   "source": [
    "### Directions\n",
    "Basically, all the directions are wrapped by the ```<stage></stage>``` tag, so we can just use regex. The only problem with this approach is that sometimes directions are on separate lines, and many spaces and tabs may occur in between two words — and this can also be fixed with the help of regex. "
   ]
  },
  {
   "cell_type": "code",
   "execution_count": 5,
   "metadata": {
    "collapsed": true
   },
   "outputs": [],
   "source": [
    "def get_directions(play_path):\n",
    "    reg_space = re.compile(\"\\s{2,}\")\n",
    "    root = etree.parse(play_path)\n",
    "    directions_tags = root.findall(\".//tei:stage\", tei_ns)\n",
    "    directions_text = []\n",
    "    for direction in directions_tags:\n",
    "        try:\n",
    "            text = direction.text\n",
    "            text = reg_space.sub(\" \", text)\n",
    "            text = text.replace(\"\\xa0\", \" \")\n",
    "            text = text.strip(\"\\(\\) \\.\")\n",
    "            text = text.lower()\n",
    "            directions_text.append(text)\n",
    "        except:\n",
    "            pass\n",
    "    return directions_text"
   ]
  },
  {
   "cell_type": "markdown",
   "metadata": {},
   "source": [
    "In addition — let's count the average length of a direction in a play!"
   ]
  },
  {
   "cell_type": "code",
   "execution_count": 6,
   "metadata": {
    "collapsed": true
   },
   "outputs": [],
   "source": [
    "def average_direction(directions, mystem):\n",
    "    dir_length = []\n",
    "    dir_lemmas = []\n",
    "    for direction in directions:\n",
    "        length = len([item for item in mystem.analyze(direction) if \"analysis\" in item])\n",
    "        dir_length.append(length)\n",
    "        lemmas = len(set(mystem.lemmatize(direction)))\n",
    "        dir_lemmas.append(lemmas)\n",
    "    return mean(dir_length), mean(dir_lemmas)"
   ]
  },
  {
   "cell_type": "markdown",
   "metadata": {},
   "source": [
    "## Putting it all together\n",
    "\n",
    "### Saving the data\n",
    "The following is being done in order to save the extraced directions just in case (and not to extract them from the play every time we need them)."
   ]
  },
  {
   "cell_type": "code",
   "execution_count": 7,
   "metadata": {
    "collapsed": true
   },
   "outputs": [],
   "source": [
    "# some basic stuff we need in order to save everything properly\n",
    "directions_path = \"..\" + os.sep + \"data\"\n",
    "if not os.path.exists(directions_path):\n",
    "    os.mkdirs(directions_path)\n",
    "\n",
    "all_directions_file = directions_path + os.sep + \"all_directions.txt\"\n",
    "if not os.path.exists(all_directions_file):\n",
    "    f = open(all_directions_file, \"w\", encoding=\"utf-8\")\n",
    "    f.close()"
   ]
  },
  {
   "cell_type": "code",
   "execution_count": 8,
   "metadata": {
    "collapsed": true
   },
   "outputs": [],
   "source": [
    "def save_directions(play_name, directions, option):\n",
    "    if option == \"sep\":\n",
    "        directions_file = directions_path + os.sep + play_name.replace(\"xml\", \"txt\")\n",
    "        with open(directions_file, \"w\", encoding=\"utf-8\") as directions_save:\n",
    "            directions_save.write(\"\\n\".join(directions))\n",
    "    elif option == \"all\":\n",
    "        with open(all_directions_file, \"a\", encoding=\"utf-8\") as all_directions_save:\n",
    "            all_directions_save.write(\"\\n\".join(directions) + \"\\n\")"
   ]
  },
  {
   "cell_type": "markdown",
   "metadata": {},
   "source": [
    "### Working with the corpus\n",
    "\n",
    "Now, we traverse all the plays in the ```corpus_folder``` and do the following: \n",
    "* extract all the directions and save them: \n",
    "    * in a ```directions_list``` variable,\n",
    "    * in a separate file,\n",
    "    * in a file that contains all the directions\n",
    "* extract information about a play and save it into ```play_list``` (to convert it into a Pandas dataframe later)"
   ]
  },
  {
   "cell_type": "code",
   "execution_count": 9,
   "metadata": {},
   "outputs": [],
   "source": [
    "# this is required because I'm using a Mac, which sometimes creates system folders like .DS_Store;\n",
    "# in any other cases -- never mind\n",
    "play_files = [item for item in os.listdir(corpus_path) if item.endswith(\".xml\")]"
   ]
  },
  {
   "cell_type": "code",
   "execution_count": 10,
   "metadata": {},
   "outputs": [
    {
     "name": "stdout",
     "output_type": "stream",
     "text": [
      "Dropped a play: ../data_april/sukhovo-kobylin-smert-tarelkina.xml, total dropped: 1\n",
      "Dropped a play: ../data_april/shakhovskoy-ne-lubo-ne-slushai.xml, total dropped: 2\n",
      "Dropped a play: ../data_april/shakhovskoy-pustodomy.xml, total dropped: 3\n",
      "Dropped a play: ../data_april/lomonosov-tamira-i-selim.xml, total dropped: 4\n",
      "Dropped a play: ../data_april/naydyonov-deti-vanjushina.xml, total dropped: 5\n",
      "Dropped a play: ../data_april/pisemskij-gorkaja-sudbina.xml, total dropped: 6\n",
      "Dropped a play: ../data_april/plavilshchikov-sgovor-kutejkina.xml, total dropped: 7\n",
      "Dropped a play: ../data_april/shakhovskoy-svoya-semya.xml, total dropped: 8\n",
      "Dropped a play: ../data_april/turgenev-razgovor-na-bolshoj-doroge.xml, total dropped: 9\n",
      "Dropped a play: ../data_april/prutkov-spor-drevnih-grecheskih-filosofov-ob-izjaschnom.xml, total dropped: 10\n",
      "Dropped a play: ../data_april/shakhovskoy-urok-koketkam.xml, total dropped: 11\n",
      "Dropped a play: ../data_april/ozerov-dmitrij-donskoj.xml, total dropped: 12\n",
      "Dropped a play: ../data_april/krylov-urok-dochkam.xml, total dropped: 13\n",
      "Dropped a play: ../data_april/krylov-amerikantsy.xml, total dropped: 14\n"
     ]
    }
   ],
   "source": [
    "directions_list = []\n",
    "play_list = []\n",
    "\n",
    "dropped_count = 1\n",
    "for play in play_files:\n",
    "    play_path = corpus_path + os.sep + play\n",
    "    \n",
    "    st_dirs = get_directions(play_path)\n",
    "    author, title, year_written, year_published, acts = get_play_data(play_path)\n",
    "    lemmas, words = word_count(play_path, mystem)\n",
    "    words_dir, lemmas_dir = average_direction(st_dirs, mystem)\n",
    "    \n",
    "    play_info = {\"File\": play, \n",
    "            \"Author\": author, \n",
    "            \"Title\": title, \n",
    "            \"Written\": year_written, \n",
    "            \"Published\": year_published, \n",
    "            \"Amount of directions\": len(st_dirs), \n",
    "            \"Amount of acts\": acts if acts!=0 else 1,\n",
    "            \"Lemmas\": lemmas,\n",
    "            \"Words\": words,\n",
    "            \"Words per direction\": words_dir,\n",
    "            \"Lemmas per direction\": lemmas_dir}\n",
    "    \n",
    "    if (play_info[\"Written\"] != -1) and (play_info[\"Published\"] != -1):\n",
    "        # directions\n",
    "        directions_list.append(st_dirs)\n",
    "        save_directions(play, st_dirs, option=\"sep\")\n",
    "        save_directions(play, st_dirs, option=\"all\")\n",
    "        \n",
    "        # add information about a play\n",
    "        play_list.append(play_info)\n",
    "    else:\n",
    "        print(\"Dropped a play: {}, total dropped: {}\".format(play_path, dropped_count))\n",
    "        dropped_count += 1"
   ]
  },
  {
   "cell_type": "markdown",
   "metadata": {},
   "source": [
    "#### Corrections\n",
    "Note that the first ```if``` statement in the ```for``` loop removes all the plays where __it is not clear when the play was written and/or published__.\n",
    "\n",
    "Furthermore, if there were no ```<div type=\"act\">```, it means that __there is only one act in the play (not zero)__. I corrected it while creating ```play_info```.\n",
    "\n",
    "### Data frame\n",
    "\n",
    "Now, we create a Pandas data frame with all the information about the plays. We'll use paths to the plays to refer to rows."
   ]
  },
  {
   "cell_type": "code",
   "execution_count": 11,
   "metadata": {
    "scrolled": false
   },
   "outputs": [
    {
     "data": {
      "text/html": [
       "<div>\n",
       "<style>\n",
       "    .dataframe thead tr:only-child th {\n",
       "        text-align: right;\n",
       "    }\n",
       "\n",
       "    .dataframe thead th {\n",
       "        text-align: left;\n",
       "    }\n",
       "\n",
       "    .dataframe tbody tr th {\n",
       "        vertical-align: top;\n",
       "    }\n",
       "</style>\n",
       "<table border=\"1\" class=\"dataframe\">\n",
       "  <thead>\n",
       "    <tr style=\"text-align: right;\">\n",
       "      <th></th>\n",
       "      <th>Amount of acts</th>\n",
       "      <th>Amount of directions</th>\n",
       "      <th>Author</th>\n",
       "      <th>File</th>\n",
       "      <th>Lemmas</th>\n",
       "      <th>Lemmas per direction</th>\n",
       "      <th>Published</th>\n",
       "      <th>Title</th>\n",
       "      <th>Words</th>\n",
       "      <th>Words per direction</th>\n",
       "      <th>Written</th>\n",
       "    </tr>\n",
       "  </thead>\n",
       "  <tbody>\n",
       "    <tr>\n",
       "      <th>0</th>\n",
       "      <td>1</td>\n",
       "      <td>38</td>\n",
       "      <td>Пушкин, Александр Сергеевич</td>\n",
       "      <td>pushkin-stseny-iz-rytsarskih-vremen.xml</td>\n",
       "      <td>996</td>\n",
       "      <td>4.973684</td>\n",
       "      <td>1837</td>\n",
       "      <td>Сцены из рыцарских времен</td>\n",
       "      <td>3399</td>\n",
       "      <td>3.131579</td>\n",
       "      <td>1835</td>\n",
       "    </tr>\n",
       "    <tr>\n",
       "      <th>1</th>\n",
       "      <td>1</td>\n",
       "      <td>687</td>\n",
       "      <td>Тургенев, Иван Сергеевич</td>\n",
       "      <td>turgenev-holostjak.xml</td>\n",
       "      <td>2785</td>\n",
       "      <td>6.391557</td>\n",
       "      <td>1849</td>\n",
       "      <td>Холостяк</td>\n",
       "      <td>21501</td>\n",
       "      <td>4.506550</td>\n",
       "      <td>1849</td>\n",
       "    </tr>\n",
       "    <tr>\n",
       "      <th>2</th>\n",
       "      <td>2</td>\n",
       "      <td>254</td>\n",
       "      <td>Гоголь, Николай Васильевич</td>\n",
       "      <td>gogol-zhenitba.xml</td>\n",
       "      <td>2187</td>\n",
       "      <td>5.952756</td>\n",
       "      <td>1842</td>\n",
       "      <td>Женитьба</td>\n",
       "      <td>13094</td>\n",
       "      <td>3.925197</td>\n",
       "      <td>1835</td>\n",
       "    </tr>\n",
       "    <tr>\n",
       "      <th>3</th>\n",
       "      <td>1</td>\n",
       "      <td>80</td>\n",
       "      <td>Блок, Александр Александрович</td>\n",
       "      <td>blok-neznakomka.xml</td>\n",
       "      <td>1342</td>\n",
       "      <td>18.025000</td>\n",
       "      <td>1907</td>\n",
       "      <td>Незнакомка</td>\n",
       "      <td>4222</td>\n",
       "      <td>16.462500</td>\n",
       "      <td>1906</td>\n",
       "    </tr>\n",
       "    <tr>\n",
       "      <th>4</th>\n",
       "      <td>1</td>\n",
       "      <td>35</td>\n",
       "      <td>Гоголь, Николай Васильевич</td>\n",
       "      <td>gogol-lakeiskaja.xml</td>\n",
       "      <td>611</td>\n",
       "      <td>8.428571</td>\n",
       "      <td>1842</td>\n",
       "      <td>Лакейская</td>\n",
       "      <td>1648</td>\n",
       "      <td>6.657143</td>\n",
       "      <td>1840</td>\n",
       "    </tr>\n",
       "  </tbody>\n",
       "</table>\n",
       "</div>"
      ],
      "text/plain": [
       "   Amount of acts  Amount of directions                         Author  \\\n",
       "0               1                    38    Пушкин, Александр Сергеевич   \n",
       "1               1                   687       Тургенев, Иван Сергеевич   \n",
       "2               2                   254     Гоголь, Николай Васильевич   \n",
       "3               1                    80  Блок, Александр Александрович   \n",
       "4               1                    35     Гоголь, Николай Васильевич   \n",
       "\n",
       "                                      File  Lemmas  Lemmas per direction  \\\n",
       "0  pushkin-stseny-iz-rytsarskih-vremen.xml     996              4.973684   \n",
       "1                   turgenev-holostjak.xml    2785              6.391557   \n",
       "2                       gogol-zhenitba.xml    2187              5.952756   \n",
       "3                      blok-neznakomka.xml    1342             18.025000   \n",
       "4                     gogol-lakeiskaja.xml     611              8.428571   \n",
       "\n",
       "   Published                      Title  Words  Words per direction  Written  \n",
       "0       1837  Сцены из рыцарских времен   3399             3.131579     1835  \n",
       "1       1849                   Холостяк  21501             4.506550     1849  \n",
       "2       1842                   Женитьба  13094             3.925197     1835  \n",
       "3       1907                 Незнакомка   4222            16.462500     1906  \n",
       "4       1842                 Лакейская   1648             6.657143     1840  "
      ]
     },
     "execution_count": 11,
     "metadata": {},
     "output_type": "execute_result"
    }
   ],
   "source": [
    "play_df = pd.DataFrame(play_list)\n",
    "play_df.head()"
   ]
  },
  {
   "cell_type": "markdown",
   "metadata": {},
   "source": [
    "## Simple numbers\n",
    "We will calculate:\n",
    "\n",
    "* word and lemma count,\n",
    "* amounts of the following parts-of-speech:\n",
    "    - nouns,\n",
    "    - adjectives,\n",
    "    - verbs,\n",
    "    - adverbs,\n",
    "    - interjections\n",
    "* amount of directions, per act"
   ]
  },
  {
   "cell_type": "markdown",
   "metadata": {},
   "source": [
    "### Word, lemma count\n",
    "Word and lemma count were calculated previously (see \"Extraction\" chapter). In here, I also calculate amount of words and lemmas per act."
   ]
  },
  {
   "cell_type": "code",
   "execution_count": 12,
   "metadata": {},
   "outputs": [
    {
     "data": {
      "text/html": [
       "<div>\n",
       "<style>\n",
       "    .dataframe thead tr:only-child th {\n",
       "        text-align: right;\n",
       "    }\n",
       "\n",
       "    .dataframe thead th {\n",
       "        text-align: left;\n",
       "    }\n",
       "\n",
       "    .dataframe tbody tr th {\n",
       "        vertical-align: top;\n",
       "    }\n",
       "</style>\n",
       "<table border=\"1\" class=\"dataframe\">\n",
       "  <thead>\n",
       "    <tr style=\"text-align: right;\">\n",
       "      <th></th>\n",
       "      <th>Amount of acts</th>\n",
       "      <th>Amount of directions</th>\n",
       "      <th>Author</th>\n",
       "      <th>File</th>\n",
       "      <th>Lemmas</th>\n",
       "      <th>Lemmas per direction</th>\n",
       "      <th>Published</th>\n",
       "      <th>Title</th>\n",
       "      <th>Words</th>\n",
       "      <th>Words per direction</th>\n",
       "      <th>Written</th>\n",
       "      <th>Directions per act</th>\n",
       "      <th>Words per act</th>\n",
       "      <th>Lemmas per act</th>\n",
       "    </tr>\n",
       "  </thead>\n",
       "  <tbody>\n",
       "    <tr>\n",
       "      <th>0</th>\n",
       "      <td>1</td>\n",
       "      <td>38</td>\n",
       "      <td>Пушкин, Александр Сергеевич</td>\n",
       "      <td>pushkin-stseny-iz-rytsarskih-vremen.xml</td>\n",
       "      <td>996</td>\n",
       "      <td>4.973684</td>\n",
       "      <td>1837</td>\n",
       "      <td>Сцены из рыцарских времен</td>\n",
       "      <td>3399</td>\n",
       "      <td>3.131579</td>\n",
       "      <td>1835</td>\n",
       "      <td>38.0</td>\n",
       "      <td>3399.0</td>\n",
       "      <td>996.0</td>\n",
       "    </tr>\n",
       "    <tr>\n",
       "      <th>1</th>\n",
       "      <td>1</td>\n",
       "      <td>687</td>\n",
       "      <td>Тургенев, Иван Сергеевич</td>\n",
       "      <td>turgenev-holostjak.xml</td>\n",
       "      <td>2785</td>\n",
       "      <td>6.391557</td>\n",
       "      <td>1849</td>\n",
       "      <td>Холостяк</td>\n",
       "      <td>21501</td>\n",
       "      <td>4.506550</td>\n",
       "      <td>1849</td>\n",
       "      <td>687.0</td>\n",
       "      <td>21501.0</td>\n",
       "      <td>2785.0</td>\n",
       "    </tr>\n",
       "    <tr>\n",
       "      <th>2</th>\n",
       "      <td>2</td>\n",
       "      <td>254</td>\n",
       "      <td>Гоголь, Николай Васильевич</td>\n",
       "      <td>gogol-zhenitba.xml</td>\n",
       "      <td>2187</td>\n",
       "      <td>5.952756</td>\n",
       "      <td>1842</td>\n",
       "      <td>Женитьба</td>\n",
       "      <td>13094</td>\n",
       "      <td>3.925197</td>\n",
       "      <td>1835</td>\n",
       "      <td>127.0</td>\n",
       "      <td>6547.0</td>\n",
       "      <td>1093.5</td>\n",
       "    </tr>\n",
       "    <tr>\n",
       "      <th>3</th>\n",
       "      <td>1</td>\n",
       "      <td>80</td>\n",
       "      <td>Блок, Александр Александрович</td>\n",
       "      <td>blok-neznakomka.xml</td>\n",
       "      <td>1342</td>\n",
       "      <td>18.025000</td>\n",
       "      <td>1907</td>\n",
       "      <td>Незнакомка</td>\n",
       "      <td>4222</td>\n",
       "      <td>16.462500</td>\n",
       "      <td>1906</td>\n",
       "      <td>80.0</td>\n",
       "      <td>4222.0</td>\n",
       "      <td>1342.0</td>\n",
       "    </tr>\n",
       "    <tr>\n",
       "      <th>4</th>\n",
       "      <td>1</td>\n",
       "      <td>35</td>\n",
       "      <td>Гоголь, Николай Васильевич</td>\n",
       "      <td>gogol-lakeiskaja.xml</td>\n",
       "      <td>611</td>\n",
       "      <td>8.428571</td>\n",
       "      <td>1842</td>\n",
       "      <td>Лакейская</td>\n",
       "      <td>1648</td>\n",
       "      <td>6.657143</td>\n",
       "      <td>1840</td>\n",
       "      <td>35.0</td>\n",
       "      <td>1648.0</td>\n",
       "      <td>611.0</td>\n",
       "    </tr>\n",
       "  </tbody>\n",
       "</table>\n",
       "</div>"
      ],
      "text/plain": [
       "   Amount of acts  Amount of directions                         Author  \\\n",
       "0               1                    38    Пушкин, Александр Сергеевич   \n",
       "1               1                   687       Тургенев, Иван Сергеевич   \n",
       "2               2                   254     Гоголь, Николай Васильевич   \n",
       "3               1                    80  Блок, Александр Александрович   \n",
       "4               1                    35     Гоголь, Николай Васильевич   \n",
       "\n",
       "                                      File  Lemmas  Lemmas per direction  \\\n",
       "0  pushkin-stseny-iz-rytsarskih-vremen.xml     996              4.973684   \n",
       "1                   turgenev-holostjak.xml    2785              6.391557   \n",
       "2                       gogol-zhenitba.xml    2187              5.952756   \n",
       "3                      blok-neznakomka.xml    1342             18.025000   \n",
       "4                     gogol-lakeiskaja.xml     611              8.428571   \n",
       "\n",
       "   Published                      Title  Words  Words per direction  Written  \\\n",
       "0       1837  Сцены из рыцарских времен   3399             3.131579     1835   \n",
       "1       1849                   Холостяк  21501             4.506550     1849   \n",
       "2       1842                   Женитьба  13094             3.925197     1835   \n",
       "3       1907                 Незнакомка   4222            16.462500     1906   \n",
       "4       1842                 Лакейская   1648             6.657143     1840   \n",
       "\n",
       "   Directions per act  Words per act  Lemmas per act  \n",
       "0                38.0         3399.0           996.0  \n",
       "1               687.0        21501.0          2785.0  \n",
       "2               127.0         6547.0          1093.5  \n",
       "3                80.0         4222.0          1342.0  \n",
       "4                35.0         1648.0           611.0  "
      ]
     },
     "execution_count": 12,
     "metadata": {},
     "output_type": "execute_result"
    }
   ],
   "source": [
    "# directions per act\n",
    "play_df[\"Directions per act\"] = play_df[\"Amount of directions\"]/play_df[\"Amount of acts\"]\n",
    "# words per act\n",
    "play_df[\"Words per act\"] = play_df[\"Words\"]/play_df[\"Amount of acts\"]\n",
    "# lemmas per act\n",
    "play_df[\"Lemmas per act\"] = play_df[\"Lemmas\"]/play_df[\"Amount of acts\"]\n",
    "play_df.head()"
   ]
  },
  {
   "cell_type": "markdown",
   "metadata": {},
   "source": [
    "### Saving the dataframe"
   ]
  },
  {
   "cell_type": "code",
   "execution_count": 13,
   "metadata": {},
   "outputs": [],
   "source": [
    "play_df.to_csv(\"..\" + os.sep + \"data\" + os.sep + \"general_information.csv\", sep=\";\", encoding=\"utf-8\")"
   ]
  }
 ],
 "metadata": {
  "kernelspec": {
   "display_name": "Python 3",
   "language": "python",
   "name": "python3"
  },
  "language_info": {
   "codemirror_mode": {
    "name": "ipython",
    "version": 3
   },
   "file_extension": ".py",
   "mimetype": "text/x-python",
   "name": "python",
   "nbconvert_exporter": "python",
   "pygments_lexer": "ipython3",
   "version": "3.6.2"
  }
 },
 "nbformat": 4,
 "nbformat_minor": 2
}
