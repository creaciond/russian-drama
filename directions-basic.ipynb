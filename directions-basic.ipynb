{
 "cells": [
  {
   "cell_type": "markdown",
   "metadata": {},
   "source": [
    "# Stage directions: basic features\n",
    "\n",
    "This notebook contains:\n",
    "\n",
    "* directions extraction\n",
    "* basic values calculation"
   ]
  },
  {
   "cell_type": "markdown",
   "metadata": {},
   "source": [
    "## Imports\n",
    "<span style=\"font-size:larger;color:blue;\">Run this before everything else!</span>"
   ]
  },
  {
   "cell_type": "code",
   "execution_count": 1,
   "metadata": {},
   "outputs": [],
   "source": [
    "# imports\n",
    "import os\n",
    "import re\n",
    "import pandas as pd\n",
    "from lxml import etree\n",
    "from bs4 import BeautifulSoup\n",
    "from statistics import mean\n",
    "from pymystem3 import Mystem\n",
    "\n",
    "\n",
    "# we need this namespaces parameter to search in TEI-encoded files correctly\n",
    "tei_ns = {'tei': 'http://www.tei-c.org/ns/1.0'}\n",
    "\n",
    "# one Mystem for everything, so that we won't have to initialize it every time\n",
    "mystem = Mystem()"
   ]
  },
  {
   "cell_type": "markdown",
   "metadata": {},
   "source": [
    "## Preparation\n",
    "\n",
    "### Data\n",
    "I used [RusDraCor](https://github.com/dracor-org/rusdracor) as of 9th April, 2018. More precise data on the corpus is below."
   ]
  },
  {
   "cell_type": "code",
   "execution_count": 2,
   "metadata": {
    "collapsed": true
   },
   "outputs": [],
   "source": [
    "corpus_path = \"..\" + os.sep + \"RusDraCor\""
   ]
  },
  {
   "cell_type": "markdown",
   "metadata": {},
   "source": [
    "### Play class\n",
    "I want to create a table with information on the plays we research, so it will be much easier to have a separate ```Play``` class with all the data.\n",
    "\n",
    "\n",
    "```python\n",
    "class Play:\n",
    "    def __init__(self, path, author, title, year_written, year_published, amount_of_directions, amount_of_acts):\n",
    "        self.path = path\n",
    "        self.author = author\n",
    "        self.title = title\n",
    "        self.year_written = year_written\n",
    "        self.year_published = year_published\n",
    "        self.amount_of_directions = amount_of_directions\n",
    "        self.amount_of_acts = amount_of_acts\n",
    "```"
   ]
  },
  {
   "cell_type": "markdown",
   "metadata": {},
   "source": [
    "Update: we don't really need that one."
   ]
  },
  {
   "cell_type": "markdown",
   "metadata": {},
   "source": [
    "### Folders and files"
   ]
  },
  {
   "cell_type": "code",
   "execution_count": 3,
   "metadata": {},
   "outputs": [],
   "source": [
    "directions_folder = \"..\" + os.sep + \"directions\"\n",
    "if not os.path.exists(directions_folder):\n",
    "    os.mkdir(directions_folder)\n",
    "\n",
    "\n",
    "csv_folder = \".\" + os.sep + \"csv\"\n",
    "if not os.path.exists(csv_folder):\n",
    "    os.mkdir(csv_folder)\n",
    "    \n",
    "\n",
    "all_directions_file = directions_folder + os.sep + \"all_directions.txt\"\n",
    "if not os.path.exists(all_directions_file):\n",
    "    f = open(all_directions_file, \"w\", encoding=\"utf-8\")\n",
    "    f.close()"
   ]
  },
  {
   "cell_type": "markdown",
   "metadata": {},
   "source": [
    "## Extraction"
   ]
  },
  {
   "cell_type": "markdown",
   "metadata": {},
   "source": [
    "### Dates issue\n",
    "\n",
    "There's a certain problem with the date of the play: the corpus provides us three various dates, which are `print`, `premiere` and `written`. Sometimes not all of them are present. To get a single date for a play, we do the following:\n",
    "\n",
    "1. If `print` and `premiere` are available, we take the minimum of the two. \n",
    "2. If `written` is more than 10 years before `print` or `premiere`, we take `written`. This is the case when the play was censored, banned, or probably discovered after author's death. By that we achieve that a manuscript of a play that was only printed 10 years or later after its inception will be grouped among plays from a different time."
   ]
  },
  {
   "cell_type": "code",
   "execution_count": 4,
   "metadata": {},
   "outputs": [],
   "source": [
    "def single_date(date_print, date_premiere, date_written):\n",
    "    if date_print and date_premiere:\n",
    "        date_definite = min(date_print, date_premiere)\n",
    "    elif date_premiere:\n",
    "        date_definite = date_premiere\n",
    "    else:\n",
    "        date_definite = date_print\n",
    "\n",
    "    if date_written and date_definite:\n",
    "        if date_definite - date_written > 10:\n",
    "            date_definite = date_written\n",
    "        elif date_written and not date_definite:\n",
    "            date_definite = date_written\n",
    "    return date_definite"
   ]
  },
  {
   "cell_type": "markdown",
   "metadata": {},
   "source": [
    "### Play information\n",
    "The majority of information pieces can be extracted from the ```html <teiHeader></teiHeader>``` in XML itself. Each act is wrapped in ```<div type=\"act\">```, so counting the acts also isn't much of a problem."
   ]
  },
  {
   "cell_type": "code",
   "execution_count": 5,
   "metadata": {
    "collapsed": true
   },
   "outputs": [],
   "source": [
    "def get_play_data(play_path):\n",
    "    reg_space = re.compile(\"\\s{2,}\")\n",
    "    root = etree.parse(play_path)\n",
    "    \n",
    "    title = root.find(\".//tei:titleStmt/tei:title\", tei_ns).text\n",
    "    title = reg_space.sub(\" \", title)\n",
    "    \n",
    "    author = root.find(\".//tei:titleStmt/tei:author\", tei_ns).text\n",
    "    \n",
    "    try:\n",
    "        written_str = root.find(\".//tei:sourceDesc/tei:bibl/tei:bibl/tei:date[@type=\\\"written\\\"]\", tei_ns).attrib[\"when\"]\n",
    "        year_written = int(written_str)\n",
    "    except:\n",
    "        year_written = None\n",
    "    try:\n",
    "        published_str = root.find(\".//tei:sourceDesc/tei:bibl/tei:bibl/tei:date[@type=\\\"print\\\"]\", tei_ns).attrib[\"when\"]\n",
    "        year_published = int(published_str)\n",
    "    except:\n",
    "        year_published = None\n",
    "    try:\n",
    "        premiere_str = root.find(\".//tei:sourceDesc/tei:bibl/tei:bibl/tei:date[@type=\\\"premiere\\\"]\", tei_ns).attrib[\"when\"]\n",
    "        year_premiere = int(premiere_str)\n",
    "    except:\n",
    "        year_premiere = None\n",
    "    year_definite = single_date(year_published, year_premiere, year_written)\n",
    "        \n",
    "    acts = len(root.findall(\".//tei:text/tei:body/tei:div[@type=\\\"act\\\"]\", tei_ns))\n",
    "    return author, title, year_definite, acts    "
   ]
  },
  {
   "cell_type": "markdown",
   "metadata": {},
   "source": [
    "### Amount of words in a play\n",
    "Word count is required to count some averages later on."
   ]
  },
  {
   "cell_type": "code",
   "execution_count": 6,
   "metadata": {
    "collapsed": true
   },
   "outputs": [],
   "source": [
    "def word_count(play_path, mystem):\n",
    "    with open(play_path, \"r\", encoding=\"utf-8\") as play:\n",
    "        soup = BeautifulSoup(play, \"xml\")\n",
    "        text = soup.find(\"text\").text\n",
    "    lemmas_play = set(mystem.lemmatize(text))\n",
    "    words_play = [item for item in mystem.analyze(text) if \"analysis\" in item]\n",
    "    return len(lemmas_play), len(words_play)"
   ]
  },
  {
   "cell_type": "markdown",
   "metadata": {},
   "source": [
    "### Directions\n",
    "Basically, all the directions are wrapped by the ```<stage></stage>``` tag, so we can just use regex. The only problem with this approach is that sometimes directions are on separate lines, and many spaces and tabs may occur in between two words — and this can also be fixed with the help of regex. "
   ]
  },
  {
   "cell_type": "code",
   "execution_count": 7,
   "metadata": {
    "collapsed": true
   },
   "outputs": [],
   "source": [
    "def get_directions(play_path):\n",
    "    reg_space = re.compile(\"\\s{2,}\")\n",
    "    root = etree.parse(play_path)\n",
    "    directions_tags = root.findall(\".//tei:stage\", tei_ns)\n",
    "    directions_text = []\n",
    "    for direction in directions_tags:\n",
    "        try:\n",
    "            text = direction.text\n",
    "            text = reg_space.sub(\" \", text)\n",
    "            text = text.replace(\"\\xa0\", \" \")\n",
    "            text = text.strip(\"\\(\\) \\.\")\n",
    "            text = text.lower()\n",
    "            directions_text.append(text)\n",
    "        except:\n",
    "            pass\n",
    "    return directions_text"
   ]
  },
  {
   "cell_type": "markdown",
   "metadata": {},
   "source": [
    "In addition — let's count the average length of a direction in a play!"
   ]
  },
  {
   "cell_type": "code",
   "execution_count": 8,
   "metadata": {
    "collapsed": true
   },
   "outputs": [],
   "source": [
    "def average_direction(directions, mystem):\n",
    "    dir_length = []\n",
    "    dir_lemmas = []\n",
    "    for direction in directions:\n",
    "        length = len([item for item in mystem.analyze(direction) if \"analysis\" in item])\n",
    "        dir_length.append(length)\n",
    "        lemmas = len(set(mystem.lemmatize(direction)))\n",
    "        dir_lemmas.append(lemmas)\n",
    "    return mean(dir_length), mean(dir_lemmas)"
   ]
  },
  {
   "cell_type": "markdown",
   "metadata": {},
   "source": [
    "## Putting it all together\n",
    "\n",
    "### Saving the data\n",
    "The following is being done in order to save the extracted directions just in case (and not to extract them from the play every time we need them)."
   ]
  },
  {
   "cell_type": "code",
   "execution_count": 9,
   "metadata": {
    "collapsed": true
   },
   "outputs": [],
   "source": [
    "def save_directions(play_name, directions, option):\n",
    "    if option == \"sep\":\n",
    "        directions_file = directions_folder + os.sep + play_name.replace(\"xml\", \"txt\")\n",
    "        with open(directions_file, \"w\", encoding=\"utf-8\") as directions_save:\n",
    "            directions_save.write(\"\\n\".join(directions))\n",
    "    elif option == \"all\":\n",
    "        with open(all_directions_file, \"a\", encoding=\"utf-8\") as all_directions_save:\n",
    "            all_directions_save.write(\"\\n\".join(directions) + \"\\n\")"
   ]
  },
  {
   "cell_type": "markdown",
   "metadata": {},
   "source": [
    "### Working with the corpus\n",
    "\n",
    "Now, we traverse all the plays in the ```corpus_folder``` and do the following: \n",
    "* extract all the directions and save them: \n",
    "    * in a ```directions_list``` variable,\n",
    "    * in a separate file,\n",
    "    * in a file that contains all the directions\n",
    "* extract information about a play and save it into ```play_list``` (to convert it into a Pandas dataframe later)"
   ]
  },
  {
   "cell_type": "code",
   "execution_count": 10,
   "metadata": {},
   "outputs": [],
   "source": [
    "# this is required because I'm using a Mac, which sometimes creates system folders like .DS_Store;\n",
    "# in any other cases -- never mind\n",
    "play_files = [item for item in os.listdir(corpus_path) if item.endswith(\".xml\")]"
   ]
  },
  {
   "cell_type": "code",
   "execution_count": 11,
   "metadata": {},
   "outputs": [
    {
     "name": "stdout",
     "output_type": "stream",
     "text": [
      "All in all, dropped 0 plays.\n"
     ]
    }
   ],
   "source": [
    "directions_list = []\n",
    "play_list = []\n",
    "dropped_count = 0\n",
    "\n",
    "for play in play_files:\n",
    "    play_path = corpus_path + os.sep + play\n",
    "    \n",
    "    st_dirs = get_directions(play_path)\n",
    "    author, title, year, acts = get_play_data(play_path)\n",
    "    lemmas, words = word_count(play_path, mystem)\n",
    "    words_dir, lemmas_dir = average_direction(st_dirs, mystem)\n",
    "    \n",
    "    play_info = {\"File\": play, \n",
    "            \"Author\": author, \n",
    "            \"Title\": title, \n",
    "            \"Year\": year,\n",
    "            \"Amount of directions\": len(st_dirs), \n",
    "            \"Amount of acts\": acts if acts!=0 else 1,\n",
    "            \"Lemmas\": lemmas,\n",
    "            \"Words\": words,\n",
    "            \"Words per direction\": words_dir,\n",
    "            \"Lemmas per direction\": lemmas_dir}\n",
    "    \n",
    "    if play_info[\"Year\"]:\n",
    "        # directions\n",
    "        directions_list.append(st_dirs)\n",
    "        save_directions(play, st_dirs, option=\"sep\")\n",
    "        save_directions(play, st_dirs, option=\"all\")\n",
    "        \n",
    "        # add information about a play\n",
    "        play_list.append(play_info)\n",
    "    else:\n",
    "        dropped_count += 1\n",
    "        print(\"Dropped a play: {}\".format(play_path))\n",
    "\n",
    "print(\"All in all, dropped {} plays.\".format(dropped_count))"
   ]
  },
  {
   "cell_type": "markdown",
   "metadata": {},
   "source": [
    "#### Corrections\n",
    "Note that the first ```if``` statement in the ```for``` loop removes all the plays in which __the `year` is not clear__. Luckily, we don't have those :)\n",
    "\n",
    "Furthermore, if there were no ```<div type=\"act\">```, it means that __there is only one act in the play (not zero)__. I corrected it while creating ```play_info```.\n",
    "\n",
    "### Data frame\n",
    "\n",
    "Now, we create a Pandas data frame with all the information about the plays. We'll use paths to the plays to refer to rows."
   ]
  },
  {
   "cell_type": "code",
   "execution_count": 12,
   "metadata": {
    "scrolled": false
   },
   "outputs": [
    {
     "data": {
      "text/html": [
       "<div>\n",
       "<style scoped>\n",
       "    .dataframe tbody tr th:only-of-type {\n",
       "        vertical-align: middle;\n",
       "    }\n",
       "\n",
       "    .dataframe tbody tr th {\n",
       "        vertical-align: top;\n",
       "    }\n",
       "\n",
       "    .dataframe thead th {\n",
       "        text-align: right;\n",
       "    }\n",
       "</style>\n",
       "<table border=\"1\" class=\"dataframe\">\n",
       "  <thead>\n",
       "    <tr style=\"text-align: right;\">\n",
       "      <th></th>\n",
       "      <th>Amount of acts</th>\n",
       "      <th>Amount of directions</th>\n",
       "      <th>Author</th>\n",
       "      <th>File</th>\n",
       "      <th>Lemmas</th>\n",
       "      <th>Lemmas per direction</th>\n",
       "      <th>Title</th>\n",
       "      <th>Words</th>\n",
       "      <th>Words per direction</th>\n",
       "      <th>Year</th>\n",
       "    </tr>\n",
       "  </thead>\n",
       "  <tbody>\n",
       "    <tr>\n",
       "      <th>0</th>\n",
       "      <td>1</td>\n",
       "      <td>38</td>\n",
       "      <td>Пушкин, Александр Сергеевич</td>\n",
       "      <td>pushkin-stseny-iz-rytsarskih-vremen.xml</td>\n",
       "      <td>996</td>\n",
       "      <td>4.973684</td>\n",
       "      <td>Сцены из рыцарских времен</td>\n",
       "      <td>3399</td>\n",
       "      <td>3.131579</td>\n",
       "      <td>1837</td>\n",
       "    </tr>\n",
       "    <tr>\n",
       "      <th>1</th>\n",
       "      <td>1</td>\n",
       "      <td>687</td>\n",
       "      <td>Тургенев, Иван Сергеевич</td>\n",
       "      <td>turgenev-holostjak.xml</td>\n",
       "      <td>2785</td>\n",
       "      <td>6.391557</td>\n",
       "      <td>Холостяк</td>\n",
       "      <td>21501</td>\n",
       "      <td>4.506550</td>\n",
       "      <td>1849</td>\n",
       "    </tr>\n",
       "    <tr>\n",
       "      <th>2</th>\n",
       "      <td>2</td>\n",
       "      <td>254</td>\n",
       "      <td>Гоголь, Николай Васильевич</td>\n",
       "      <td>gogol-zhenitba.xml</td>\n",
       "      <td>2187</td>\n",
       "      <td>5.952756</td>\n",
       "      <td>Женитьба</td>\n",
       "      <td>13094</td>\n",
       "      <td>3.925197</td>\n",
       "      <td>1842</td>\n",
       "    </tr>\n",
       "    <tr>\n",
       "      <th>3</th>\n",
       "      <td>3</td>\n",
       "      <td>88</td>\n",
       "      <td>Крылов, Иван Андреевич</td>\n",
       "      <td>krylov-sonnyj-poroshok-ili-pohischennaja-krest...</td>\n",
       "      <td>1550</td>\n",
       "      <td>6.522727</td>\n",
       "      <td>Сонный порошок или похищенная крестьянка</td>\n",
       "      <td>7605</td>\n",
       "      <td>4.215909</td>\n",
       "      <td>1800</td>\n",
       "    </tr>\n",
       "    <tr>\n",
       "      <th>4</th>\n",
       "      <td>1</td>\n",
       "      <td>80</td>\n",
       "      <td>Блок, Александр Александрович</td>\n",
       "      <td>blok-neznakomka.xml</td>\n",
       "      <td>1342</td>\n",
       "      <td>18.025000</td>\n",
       "      <td>Незнакомка</td>\n",
       "      <td>4222</td>\n",
       "      <td>16.462500</td>\n",
       "      <td>1907</td>\n",
       "    </tr>\n",
       "  </tbody>\n",
       "</table>\n",
       "</div>"
      ],
      "text/plain": [
       "   Amount of acts  Amount of directions                         Author  \\\n",
       "0               1                    38    Пушкин, Александр Сергеевич   \n",
       "1               1                   687       Тургенев, Иван Сергеевич   \n",
       "2               2                   254     Гоголь, Николай Васильевич   \n",
       "3               3                    88         Крылов, Иван Андреевич   \n",
       "4               1                    80  Блок, Александр Александрович   \n",
       "\n",
       "                                                File  Lemmas  \\\n",
       "0            pushkin-stseny-iz-rytsarskih-vremen.xml     996   \n",
       "1                             turgenev-holostjak.xml    2785   \n",
       "2                                 gogol-zhenitba.xml    2187   \n",
       "3  krylov-sonnyj-poroshok-ili-pohischennaja-krest...    1550   \n",
       "4                                blok-neznakomka.xml    1342   \n",
       "\n",
       "   Lemmas per direction                                     Title  Words  \\\n",
       "0              4.973684                 Сцены из рыцарских времен   3399   \n",
       "1              6.391557                                  Холостяк  21501   \n",
       "2              5.952756                                  Женитьба  13094   \n",
       "3              6.522727  Сонный порошок или похищенная крестьянка   7605   \n",
       "4             18.025000                                Незнакомка   4222   \n",
       "\n",
       "   Words per direction  Year  \n",
       "0             3.131579  1837  \n",
       "1             4.506550  1849  \n",
       "2             3.925197  1842  \n",
       "3             4.215909  1800  \n",
       "4            16.462500  1907  "
      ]
     },
     "execution_count": 12,
     "metadata": {},
     "output_type": "execute_result"
    }
   ],
   "source": [
    "play_df = pd.DataFrame(play_list)\n",
    "play_df.head()"
   ]
  },
  {
   "cell_type": "markdown",
   "metadata": {},
   "source": [
    "## Simple numbers\n",
    "We will calculate:\n",
    "\n",
    "* word and lemma count,\n",
    "* amounts of the following parts-of-speech:\n",
    "    - nouns,\n",
    "    - adjectives,\n",
    "    - verbs,\n",
    "    - adverbs,\n",
    "    - interjections\n",
    "* amount of directions, per act"
   ]
  },
  {
   "cell_type": "markdown",
   "metadata": {},
   "source": [
    "### Word, lemma count\n",
    "Word and lemma count were calculated previously (see \"Extraction\" chapter). In here, I also calculate amount of words and lemmas per act."
   ]
  },
  {
   "cell_type": "code",
   "execution_count": 13,
   "metadata": {},
   "outputs": [
    {
     "data": {
      "text/html": [
       "<div>\n",
       "<style scoped>\n",
       "    .dataframe tbody tr th:only-of-type {\n",
       "        vertical-align: middle;\n",
       "    }\n",
       "\n",
       "    .dataframe tbody tr th {\n",
       "        vertical-align: top;\n",
       "    }\n",
       "\n",
       "    .dataframe thead th {\n",
       "        text-align: right;\n",
       "    }\n",
       "</style>\n",
       "<table border=\"1\" class=\"dataframe\">\n",
       "  <thead>\n",
       "    <tr style=\"text-align: right;\">\n",
       "      <th></th>\n",
       "      <th>Amount of acts</th>\n",
       "      <th>Amount of directions</th>\n",
       "      <th>Author</th>\n",
       "      <th>File</th>\n",
       "      <th>Lemmas</th>\n",
       "      <th>Lemmas per direction</th>\n",
       "      <th>Title</th>\n",
       "      <th>Words</th>\n",
       "      <th>Words per direction</th>\n",
       "      <th>Year</th>\n",
       "      <th>Directions per act</th>\n",
       "      <th>Words per act</th>\n",
       "      <th>Lemmas per act</th>\n",
       "    </tr>\n",
       "  </thead>\n",
       "  <tbody>\n",
       "    <tr>\n",
       "      <th>0</th>\n",
       "      <td>1</td>\n",
       "      <td>38</td>\n",
       "      <td>Пушкин, Александр Сергеевич</td>\n",
       "      <td>pushkin-stseny-iz-rytsarskih-vremen.xml</td>\n",
       "      <td>996</td>\n",
       "      <td>4.973684</td>\n",
       "      <td>Сцены из рыцарских времен</td>\n",
       "      <td>3399</td>\n",
       "      <td>3.131579</td>\n",
       "      <td>1837</td>\n",
       "      <td>38.000000</td>\n",
       "      <td>3399.0</td>\n",
       "      <td>996.000000</td>\n",
       "    </tr>\n",
       "    <tr>\n",
       "      <th>1</th>\n",
       "      <td>1</td>\n",
       "      <td>687</td>\n",
       "      <td>Тургенев, Иван Сергеевич</td>\n",
       "      <td>turgenev-holostjak.xml</td>\n",
       "      <td>2785</td>\n",
       "      <td>6.391557</td>\n",
       "      <td>Холостяк</td>\n",
       "      <td>21501</td>\n",
       "      <td>4.506550</td>\n",
       "      <td>1849</td>\n",
       "      <td>687.000000</td>\n",
       "      <td>21501.0</td>\n",
       "      <td>2785.000000</td>\n",
       "    </tr>\n",
       "    <tr>\n",
       "      <th>2</th>\n",
       "      <td>2</td>\n",
       "      <td>254</td>\n",
       "      <td>Гоголь, Николай Васильевич</td>\n",
       "      <td>gogol-zhenitba.xml</td>\n",
       "      <td>2187</td>\n",
       "      <td>5.952756</td>\n",
       "      <td>Женитьба</td>\n",
       "      <td>13094</td>\n",
       "      <td>3.925197</td>\n",
       "      <td>1842</td>\n",
       "      <td>127.000000</td>\n",
       "      <td>6547.0</td>\n",
       "      <td>1093.500000</td>\n",
       "    </tr>\n",
       "    <tr>\n",
       "      <th>3</th>\n",
       "      <td>3</td>\n",
       "      <td>88</td>\n",
       "      <td>Крылов, Иван Андреевич</td>\n",
       "      <td>krylov-sonnyj-poroshok-ili-pohischennaja-krest...</td>\n",
       "      <td>1550</td>\n",
       "      <td>6.522727</td>\n",
       "      <td>Сонный порошок или похищенная крестьянка</td>\n",
       "      <td>7605</td>\n",
       "      <td>4.215909</td>\n",
       "      <td>1800</td>\n",
       "      <td>29.333333</td>\n",
       "      <td>2535.0</td>\n",
       "      <td>516.666667</td>\n",
       "    </tr>\n",
       "    <tr>\n",
       "      <th>4</th>\n",
       "      <td>1</td>\n",
       "      <td>80</td>\n",
       "      <td>Блок, Александр Александрович</td>\n",
       "      <td>blok-neznakomka.xml</td>\n",
       "      <td>1342</td>\n",
       "      <td>18.025000</td>\n",
       "      <td>Незнакомка</td>\n",
       "      <td>4222</td>\n",
       "      <td>16.462500</td>\n",
       "      <td>1907</td>\n",
       "      <td>80.000000</td>\n",
       "      <td>4222.0</td>\n",
       "      <td>1342.000000</td>\n",
       "    </tr>\n",
       "  </tbody>\n",
       "</table>\n",
       "</div>"
      ],
      "text/plain": [
       "   Amount of acts  Amount of directions                         Author  \\\n",
       "0               1                    38    Пушкин, Александр Сергеевич   \n",
       "1               1                   687       Тургенев, Иван Сергеевич   \n",
       "2               2                   254     Гоголь, Николай Васильевич   \n",
       "3               3                    88         Крылов, Иван Андреевич   \n",
       "4               1                    80  Блок, Александр Александрович   \n",
       "\n",
       "                                                File  Lemmas  \\\n",
       "0            pushkin-stseny-iz-rytsarskih-vremen.xml     996   \n",
       "1                             turgenev-holostjak.xml    2785   \n",
       "2                                 gogol-zhenitba.xml    2187   \n",
       "3  krylov-sonnyj-poroshok-ili-pohischennaja-krest...    1550   \n",
       "4                                blok-neznakomka.xml    1342   \n",
       "\n",
       "   Lemmas per direction                                     Title  Words  \\\n",
       "0              4.973684                 Сцены из рыцарских времен   3399   \n",
       "1              6.391557                                  Холостяк  21501   \n",
       "2              5.952756                                  Женитьба  13094   \n",
       "3              6.522727  Сонный порошок или похищенная крестьянка   7605   \n",
       "4             18.025000                                Незнакомка   4222   \n",
       "\n",
       "   Words per direction  Year  Directions per act  Words per act  \\\n",
       "0             3.131579  1837           38.000000         3399.0   \n",
       "1             4.506550  1849          687.000000        21501.0   \n",
       "2             3.925197  1842          127.000000         6547.0   \n",
       "3             4.215909  1800           29.333333         2535.0   \n",
       "4            16.462500  1907           80.000000         4222.0   \n",
       "\n",
       "   Lemmas per act  \n",
       "0      996.000000  \n",
       "1     2785.000000  \n",
       "2     1093.500000  \n",
       "3      516.666667  \n",
       "4     1342.000000  "
      ]
     },
     "execution_count": 13,
     "metadata": {},
     "output_type": "execute_result"
    }
   ],
   "source": [
    "# directions per act\n",
    "play_df[\"Directions per act\"] = play_df[\"Amount of directions\"]/play_df[\"Amount of acts\"]\n",
    "# words per act\n",
    "play_df[\"Words per act\"] = play_df[\"Words\"]/play_df[\"Amount of acts\"]\n",
    "# lemmas per act\n",
    "play_df[\"Lemmas per act\"] = play_df[\"Lemmas\"]/play_df[\"Amount of acts\"]\n",
    "play_df.head()"
   ]
  },
  {
   "cell_type": "markdown",
   "metadata": {},
   "source": [
    "### Saving the dataframe"
   ]
  },
  {
   "cell_type": "code",
   "execution_count": 14,
   "metadata": {},
   "outputs": [],
   "source": [
    "play_df.to_csv(csv_folder + os.sep + \"general_information.csv\", index=False, sep=\";\", encoding=\"utf-8\")"
   ]
  }
 ],
 "metadata": {
  "kernelspec": {
   "display_name": "Python 3",
   "language": "python",
   "name": "python3"
  },
  "language_info": {
   "codemirror_mode": {
    "name": "ipython",
    "version": 3
   },
   "file_extension": ".py",
   "mimetype": "text/x-python",
   "name": "python",
   "nbconvert_exporter": "python",
   "pygments_lexer": "ipython3",
   "version": "3.6.4"
  }
 },
 "nbformat": 4,
 "nbformat_minor": 2
}
