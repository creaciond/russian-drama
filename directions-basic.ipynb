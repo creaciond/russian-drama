{
 "cells": [
  {
   "cell_type": "markdown",
   "metadata": {},
   "source": [
    "# Stage directions: basic features\n",
    "\n",
    "This notebook contains:\n",
    "\n",
    "* directions extraction\n",
    "* basic values calculation"
   ]
  },
  {
   "cell_type": "markdown",
   "metadata": {},
   "source": [
    "## Preparation\n",
    "\n",
    "### Corpus\n",
    "I used [RusDraCor](https://github.com/dracor-org/rusdracor) as of <font color=\"#900C3F\">20th October, 2018</font>. "
   ]
  },
  {
   "cell_type": "code",
   "execution_count": 1,
   "metadata": {},
   "outputs": [],
   "source": [
    "import os"
   ]
  },
  {
   "cell_type": "code",
   "execution_count": 2,
   "metadata": {},
   "outputs": [],
   "source": [
    "corpus_path = \"..\" + os.sep + \"RusDraCor\""
   ]
  },
  {
   "cell_type": "markdown",
   "metadata": {},
   "source": [
    "### Folders and files\n",
    "\n",
    "|       Folder      |                Path              |         What's inside            |\n",
    "|:-----------------:|:--------------------------------:|:--------------------------------:|\n",
    "|directions_folder  |`../directions/`                  |Extracted directions, play-by-play|\n",
    "|csv_folder         |`../csv/`                         |Datasets in comma-separated format|\n",
    "|all_directions_file|`../directions/all_directions.txt`|All directions in one file        |"
   ]
  },
  {
   "cell_type": "code",
   "execution_count": 3,
   "metadata": {},
   "outputs": [],
   "source": [
    "directions_folder = \"..\" + os.sep + \"directions\"\n",
    "if not os.path.exists(directions_folder):\n",
    "    os.mkdir(directions_folder)"
   ]
  },
  {
   "cell_type": "code",
   "execution_count": 4,
   "metadata": {},
   "outputs": [],
   "source": [
    "csv_folder = \".\" + os.sep + \"csv\"\n",
    "if not os.path.exists(csv_folder):\n",
    "    os.mkdir(csv_folder)"
   ]
  },
  {
   "cell_type": "code",
   "execution_count": 5,
   "metadata": {},
   "outputs": [],
   "source": [
    "all_directions_file = directions_folder + os.sep + \"all_directions.txt\"\n",
    "f = open(all_directions_file, \"w\", encoding=\"utf-8\")\n",
    "f.close()"
   ]
  },
  {
   "cell_type": "markdown",
   "metadata": {},
   "source": [
    "## Extraction"
   ]
  },
  {
   "cell_type": "markdown",
   "metadata": {},
   "source": [
    "### Dates issue\n",
    "\n",
    "There's a certain problem with the date of the play: the corpus provides us three various dates, which are:\n",
    "* `print`, \n",
    "* `premiere`, \n",
    "* and `written`. \n",
    "\n",
    "Sometimes not all of them are present. To get a single date for a play, we do the following:\n",
    "\n",
    "1. If `print` and `premiere` are available, we take the minimum of the two. \n",
    "2. If `written` is more than 10 years before `print` or `premiere`, we take `written`. This is the case when the play was censored, banned, or probably discovered after author's death. By that we achieve that a manuscript of a play that was only printed 10 years or later after its inception will be grouped among plays from a different time."
   ]
  },
  {
   "cell_type": "code",
   "execution_count": 6,
   "metadata": {},
   "outputs": [],
   "source": [
    "def single_date(date_print, date_premiere, date_written):\n",
    "    if date_print and date_premiere:\n",
    "        date_definite = min(date_print, date_premiere)\n",
    "    elif date_premiere:\n",
    "        date_definite = date_premiere\n",
    "    else:\n",
    "        date_definite = date_print\n",
    "    \n",
    "    if date_written and date_definite:\n",
    "        if date_definite - date_written > 10:\n",
    "            date_definite = date_written\n",
    "        elif date_written and not date_definite:\n",
    "            date_definite = date_written\n",
    "    return date_definite"
   ]
  },
  {
   "cell_type": "markdown",
   "metadata": {},
   "source": [
    "### Play information\n",
    "The majority of information pieces can be extracted from the ```html <teiHeader></teiHeader>``` in XML itself. Each act is wrapped in ```<div type=\"act\">```, so counting the acts also isn't much of a problem."
   ]
  },
  {
   "cell_type": "code",
   "execution_count": 7,
   "metadata": {},
   "outputs": [],
   "source": [
    "import re\n",
    "from lxml import etree\n",
    "\n",
    "# we need this parameter to search in TEI-encoded files correctly\n",
    "tei_ns = {'tei': 'http://www.tei-c.org/ns/1.0'}"
   ]
  },
  {
   "cell_type": "code",
   "execution_count": 8,
   "metadata": {},
   "outputs": [],
   "source": [
    "def get_play_data(play_path):\n",
    "    reg_space = re.compile(\"\\s{2,}\")\n",
    "    root = etree.parse(play_path)\n",
    "    \n",
    "    title = root.find(\".//tei:titleStmt/tei:title\", tei_ns).text\n",
    "    title = reg_space.sub(\" \", title)\n",
    "    \n",
    "    author = root.find(\".//tei:titleStmt/tei:author\", tei_ns).text\n",
    "    \n",
    "    try:\n",
    "        written_str = root.find(\".//tei:sourceDesc/tei:bibl/tei:bibl/tei:date[@type=\\\"written\\\"]\", tei_ns).attrib[\"when\"]\n",
    "        year_written = int(written_str)\n",
    "    except:\n",
    "        year_written = None\n",
    "    try:\n",
    "        published_str = root.find(\".//tei:sourceDesc/tei:bibl/tei:bibl/tei:date[@type=\\\"print\\\"]\", tei_ns).attrib[\"when\"]\n",
    "        year_published = int(published_str)\n",
    "    except:\n",
    "        year_published = None\n",
    "    try:\n",
    "        premiere_str = root.find(\".//tei:sourceDesc/tei:bibl/tei:bibl/tei:date[@type=\\\"premiere\\\"]\", tei_ns).attrib[\"when\"]\n",
    "        year_premiere = int(premiere_str)\n",
    "    except:\n",
    "        year_premiere = None\n",
    "    year_definite = single_date(year_published, year_premiere, year_written)\n",
    "        \n",
    "    acts = len(root.findall(\".//tei:text/tei:body/tei:div[@type=\\\"act\\\"]\", tei_ns))\n",
    "    return author, title, year_definite, acts    "
   ]
  },
  {
   "cell_type": "markdown",
   "metadata": {},
   "source": [
    "### Amount of words in a play\n",
    "Word count is required to count some averages later on."
   ]
  },
  {
   "cell_type": "code",
   "execution_count": 9,
   "metadata": {},
   "outputs": [],
   "source": [
    "from bs4 import BeautifulSoup\n",
    "from pymystem3 import Mystem\n",
    "\n",
    "# one Mystem for everything, so that we won't have to initialize it every time\n",
    "mystem = Mystem()"
   ]
  },
  {
   "cell_type": "code",
   "execution_count": 10,
   "metadata": {},
   "outputs": [],
   "source": [
    "def word_count(play_path, mystem):\n",
    "    with open(play_path, \"r\", encoding=\"utf-8\") as play:\n",
    "        soup = BeautifulSoup(play, \"xml\")\n",
    "        text = soup.find(\"text\").text\n",
    "    lemmas_play = set(mystem.lemmatize(text))\n",
    "    words_play = [item for item in mystem.analyze(text) if \"analysis\" in item]\n",
    "    return len(lemmas_play), len(words_play)"
   ]
  },
  {
   "cell_type": "markdown",
   "metadata": {},
   "source": [
    "### Directions\n",
    "Basically, all the directions are wrapped by the ```<stage></stage>``` tag, so we can just use regex. The only problem with this approach is that sometimes directions are on separate lines, and many spaces and tabs may occur in between two words — and this can also be fixed with the help of regex. "
   ]
  },
  {
   "cell_type": "code",
   "execution_count": 11,
   "metadata": {},
   "outputs": [],
   "source": [
    "def get_directions(play_path):\n",
    "    reg_space = re.compile(\"\\s{2,}\")\n",
    "    root = etree.parse(play_path)\n",
    "    directions_tags = root.findall(\".//tei:stage\", tei_ns)\n",
    "    directions_text = []\n",
    "    for direction in directions_tags:\n",
    "        try:\n",
    "            text = direction.text\n",
    "            text = reg_space.sub(\" \", text)\n",
    "            text = text.replace(\"\\xa0\", \" \")\n",
    "            text = text.strip(\"\\(\\) \\.\")\n",
    "            text = text.lower()\n",
    "            directions_text.append(text)\n",
    "        except:\n",
    "            pass\n",
    "    return directions_text"
   ]
  },
  {
   "cell_type": "markdown",
   "metadata": {},
   "source": [
    "In addition — let's count the average length of a direction in a play!"
   ]
  },
  {
   "cell_type": "code",
   "execution_count": 12,
   "metadata": {},
   "outputs": [],
   "source": [
    "from statistics import mean"
   ]
  },
  {
   "cell_type": "code",
   "execution_count": 13,
   "metadata": {},
   "outputs": [],
   "source": [
    "def average_direction(directions, mystem):\n",
    "    dir_length = []\n",
    "    dir_lemmas = []\n",
    "    for direction in directions:\n",
    "        length = len([item for item in mystem.analyze(direction) if \"analysis\" in item])\n",
    "        dir_length.append(length)\n",
    "        lemmas = len(set(mystem.lemmatize(direction)))\n",
    "        dir_lemmas.append(lemmas)\n",
    "    return mean(dir_length), mean(dir_lemmas)"
   ]
  },
  {
   "cell_type": "markdown",
   "metadata": {},
   "source": [
    "## Putting it all together\n",
    "\n",
    "### Saving the data\n",
    "The following is being done in order to save the extracted directions just in case (and not to extract them from the play every time we need them)."
   ]
  },
  {
   "cell_type": "code",
   "execution_count": 14,
   "metadata": {},
   "outputs": [],
   "source": [
    "def save_directions(play_name, directions, option):\n",
    "    if option == \"sep\":\n",
    "        directions_file = directions_folder + os.sep + play_name.replace(\"xml\", \"txt\")\n",
    "        with open(directions_file, \"w\", encoding=\"utf-8\") as directions_save:\n",
    "            directions_save.write(\"\\n\".join(directions))\n",
    "    elif option == \"all\":\n",
    "        with open(all_directions_file, \"a\", encoding=\"utf-8\") as all_directions_save:\n",
    "            all_directions_save.write(\"\\n\".join(directions) + \"\\n\")"
   ]
  },
  {
   "cell_type": "markdown",
   "metadata": {},
   "source": [
    "### Working with the corpus\n",
    "\n",
    "Now, we traverse all the plays in the ```corpus_folder``` and do the following: \n",
    "* extract all the directions and save them: \n",
    "    * in a ```directions_list``` variable,\n",
    "    * in a separate file,\n",
    "    * in a file that contains all the directions\n",
    "* extract information about a play and save it into ```play_list``` (to convert it into a Pandas dataframe later)"
   ]
  },
  {
   "cell_type": "code",
   "execution_count": 15,
   "metadata": {},
   "outputs": [],
   "source": [
    "# this is required because I'm using a Mac, which sometimes creates system folders like .DS_Store;\n",
    "# in any other cases -- never mind\n",
    "play_files = [item for item in os.listdir(corpus_path) if item.endswith(\".xml\")]"
   ]
  },
  {
   "cell_type": "code",
   "execution_count": 16,
   "metadata": {},
   "outputs": [],
   "source": [
    "directions_list = []\n",
    "play_list = []\n",
    "dropped_count = 0\n",
    "parsed_count = 0\n",
    "total_plays = len(play_files)"
   ]
  },
  {
   "cell_type": "code",
   "execution_count": 17,
   "metadata": {},
   "outputs": [
    {
     "name": "stdout",
     "output_type": "stream",
     "text": [
      "Successfully parsed a play: ../RusDraCor/pushkin-stseny-iz-rytsarskih-vremen.xml, total parsed: 1/102 (0.98%)\n",
      "Successfully parsed a play: ../RusDraCor/turgenev-holostjak.xml, total parsed: 2/102 (1.96%)\n",
      "Successfully parsed a play: ../RusDraCor/gogol-zhenitba.xml, total parsed: 3/102 (2.94%)\n",
      "Successfully parsed a play: ../RusDraCor/blok-neznakomka.xml, total parsed: 4/102 (3.92%)\n",
      "Successfully parsed a play: ../RusDraCor/ostrovsky-bednaja-nevesta.xml, total parsed: 5/102 (4.90%)\n",
      "Successfully parsed a play: ../RusDraCor/gogol-lakeiskaja.xml, total parsed: 6/102 (5.88%)\n",
      "Successfully parsed a play: ../RusDraCor/prutkov-fantaziya.xml, total parsed: 7/102 (6.86%)\n",
      "Successfully parsed a play: ../RusDraCor/bulgakov-dni-turbinyh.xml, total parsed: 8/102 (7.84%)\n",
      "Successfully parsed a play: ../RusDraCor/pushkin-pir-vo-vremja-chumy.xml, total parsed: 9/102 (8.82%)\n",
      "Successfully parsed a play: ../RusDraCor/sukhovo-kobylin-smert-tarelkina.xml, total parsed: 10/102 (9.80%)\n",
      "Successfully parsed a play: ../RusDraCor/gumilyov-ditja-allaha.xml, total parsed: 11/102 (10.78%)\n",
      "Successfully parsed a play: ../RusDraCor/pushkin-boris-godunov.xml, total parsed: 12/102 (11.76%)\n",
      "Successfully parsed a play: ../RusDraCor/prutkov-blondy.xml, total parsed: 13/102 (12.75%)\n",
      "Successfully parsed a play: ../RusDraCor/prutkov-spor-drevnih-grecheskih-filosofov.xml, total parsed: 14/102 (13.73%)\n",
      "Successfully parsed a play: ../RusDraCor/shakhovskoy-ne-lubo-ne-slushai.xml, total parsed: 15/102 (14.71%)\n",
      "Successfully parsed a play: ../RusDraCor/blok-korol-na-ploschadi.xml, total parsed: 16/102 (15.69%)\n",
      "Successfully parsed a play: ../RusDraCor/gumilyov-don-zhuan-v-egipte.xml, total parsed: 17/102 (16.67%)\n",
      "Successfully parsed a play: ../RusDraCor/bulgakov-poslednie-dni.xml, total parsed: 18/102 (17.65%)\n",
      "Successfully parsed a play: ../RusDraCor/prutkov-chereposlov-sirech-frenolog.xml, total parsed: 19/102 (18.63%)\n",
      "Successfully parsed a play: ../RusDraCor/gogol-revizor.xml, total parsed: 20/102 (19.61%)\n",
      "Successfully parsed a play: ../RusDraCor/prutkov-oprometchivyj-turka.xml, total parsed: 21/102 (20.59%)\n",
      "Successfully parsed a play: ../RusDraCor/gumilyov-gondla.xml, total parsed: 22/102 (21.57%)\n",
      "Successfully parsed a play: ../RusDraCor/chekhov-leshii.xml, total parsed: 23/102 (22.55%)\n",
      "Successfully parsed a play: ../RusDraCor/prutkov-srodstvo-mirovyh-sil.xml, total parsed: 24/102 (23.53%)\n",
      "Successfully parsed a play: ../RusDraCor/sumarokov-horev.xml, total parsed: 25/102 (24.51%)\n",
      "Successfully parsed a play: ../RusDraCor/gorky-egor-bulychov-i-drugie.xml, total parsed: 26/102 (25.49%)\n",
      "Successfully parsed a play: ../RusDraCor/turgenev-vecher-v-sorrente.xml, total parsed: 27/102 (26.47%)\n",
      "Successfully parsed a play: ../RusDraCor/pushkin-kamenniy-gost.xml, total parsed: 28/102 (27.45%)\n",
      "Successfully parsed a play: ../RusDraCor/chekhov-jubilej.xml, total parsed: 29/102 (28.43%)\n",
      "Successfully parsed a play: ../RusDraCor/shakhovskoy-pustodomy.xml, total parsed: 30/102 (29.41%)\n",
      "Successfully parsed a play: ../RusDraCor/krylov-podschipa-ili-trumf.xml, total parsed: 31/102 (30.39%)\n",
      "Successfully parsed a play: ../RusDraCor/sukhovo-kobylin-svadba-krechinskogo.xml, total parsed: 32/102 (31.37%)\n",
      "Successfully parsed a play: ../RusDraCor/lomonosov-tamira-i-selim.xml, total parsed: 33/102 (32.35%)\n",
      "Successfully parsed a play: ../RusDraCor/chekhov-chaika.xml, total parsed: 34/102 (33.33%)\n",
      "Successfully parsed a play: ../RusDraCor/gorky-na-dne.xml, total parsed: 35/102 (34.31%)\n",
      "Successfully parsed a play: ../RusDraCor/chekhov-medved.xml, total parsed: 36/102 (35.29%)\n",
      "Successfully parsed a play: ../RusDraCor/bulgakov-kabala-svjatosh.xml, total parsed: 37/102 (36.27%)\n",
      "Successfully parsed a play: ../RusDraCor/sumarokov-semira.xml, total parsed: 38/102 (37.25%)\n",
      "Successfully parsed a play: ../RusDraCor/tolstoy-zhivoy-trup.xml, total parsed: 39/102 (38.24%)\n",
      "Successfully parsed a play: ../RusDraCor/ostrovsky-les.xml, total parsed: 40/102 (39.22%)\n",
      "Successfully parsed a play: ../RusDraCor/turgenev-nahlebnik.xml, total parsed: 41/102 (40.20%)\n",
      "Successfully parsed a play: ../RusDraCor/sumarokov-dimitrij-samozvanets.xml, total parsed: 42/102 (41.18%)\n",
      "Successfully parsed a play: ../RusDraCor/naydyonov-deti-vanjushina.xml, total parsed: 43/102 (42.16%)\n",
      "Successfully parsed a play: ../RusDraCor/chekhov-vishnevyi-sad.xml, total parsed: 44/102 (43.14%)\n",
      "Successfully parsed a play: ../RusDraCor/krylov-sonnyj-poroshok.xml, total parsed: 45/102 (44.12%)\n",
      "Successfully parsed a play: ../RusDraCor/ostrovsky-bespridannitsa.xml, total parsed: 46/102 (45.10%)\n",
      "Successfully parsed a play: ../RusDraCor/lomonosov-demofont.xml, total parsed: 47/102 (46.08%)\n",
      "Successfully parsed a play: ../RusDraCor/ostrovsky-bednost-ne-porok.xml, total parsed: 48/102 (47.06%)\n",
      "Successfully parsed a play: ../RusDraCor/ostrovsky-na-vsyakogo-mudreca-dovolno-prostoty.xml, total parsed: 49/102 (48.04%)\n",
      "Successfully parsed a play: ../RusDraCor/gogol-otryvok.xml, total parsed: 50/102 (49.02%)\n",
      "Successfully parsed a play: ../RusDraCor/mayakovsky-misteriya-buff.xml, total parsed: 51/102 (50.00%)\n",
      "Successfully parsed a play: ../RusDraCor/mayakovsky-banja.xml, total parsed: 52/102 (50.98%)\n",
      "Successfully parsed a play: ../RusDraCor/mayakovsky-klop.xml, total parsed: 53/102 (51.96%)\n",
      "Successfully parsed a play: ../RusDraCor/turgenev-zavtrak-u-predvoditelja.xml, total parsed: 54/102 (52.94%)\n",
      "Successfully parsed a play: ../RusDraCor/fonvizin-vybor-guvernera.xml, total parsed: 55/102 (53.92%)\n",
      "Successfully parsed a play: ../RusDraCor/pisemskij-gorkaja-sudbina.xml, total parsed: 56/102 (54.90%)\n",
      "Successfully parsed a play: ../RusDraCor/plavilshchikov-sgovor-kutejkina.xml, total parsed: 57/102 (55.88%)\n",
      "Successfully parsed a play: ../RusDraCor/gumilyov-akteon.xml, total parsed: 58/102 (56.86%)\n",
      "Successfully parsed a play: ../RusDraCor/chekhov-tri-sestry.xml, total parsed: 59/102 (57.84%)\n",
      "Successfully parsed a play: ../RusDraCor/griboyedov-gore-ot-uma.xml, total parsed: 60/102 (58.82%)\n",
      "Successfully parsed a play: ../RusDraCor/turgenev-neostorozhnost.xml, total parsed: 61/102 (59.80%)\n",
      "Successfully parsed a play: ../RusDraCor/pushkin-rusalka.xml, total parsed: 62/102 (60.78%)\n",
      "Successfully parsed a play: ../RusDraCor/shakhovskoy-svoya-semya.xml, total parsed: 63/102 (61.76%)\n",
      "Successfully parsed a play: ../RusDraCor/tolstoy-smert-ioanna-groznogo.xml, total parsed: 64/102 (62.75%)\n",
      "Successfully parsed a play: ../RusDraCor/fonvizin-nedorosl.xml, total parsed: 65/102 (63.73%)\n",
      "Successfully parsed a play: ../RusDraCor/ostrovsky-groza.xml, total parsed: 66/102 (64.71%)\n",
      "Successfully parsed a play: ../RusDraCor/tolstoy-tsar-fedor-ioannovich.xml, total parsed: 67/102 (65.69%)\n",
      "Successfully parsed a play: ../RusDraCor/saltykov-shchedrin-smert-pazuhina.xml, total parsed: 68/102 (66.67%)\n",
      "Successfully parsed a play: ../RusDraCor/sukhovo-kobylin-delo.xml, total parsed: 69/102 (67.65%)\n",
      "Successfully parsed a play: ../RusDraCor/chekhov-predlozhenie.xml, total parsed: 70/102 (68.63%)\n",
      "Successfully parsed a play: ../RusDraCor/turgenev-razgovor-na-bolshoj-doroge.xml, total parsed: 71/102 (69.61%)\n",
      "Successfully parsed a play: ../RusDraCor/chekhov-djadja-vanja.xml, total parsed: 72/102 (70.59%)\n",
      "Successfully parsed a play: ../RusDraCor/fonvizin-brigadir.xml, total parsed: 73/102 (71.57%)\n",
      "Successfully parsed a play: ../RusDraCor/ostrovsky-volki-i-ovtsy.xml, total parsed: 74/102 (72.55%)\n",
      "Successfully parsed a play: ../RusDraCor/pushkin-mocart-i-saleri.xml, total parsed: 75/102 (73.53%)\n",
      "Successfully parsed a play: ../RusDraCor/chekhov-tragik-ponevole.xml, total parsed: 76/102 (74.51%)\n",
      "Successfully parsed a play: ../RusDraCor/ostrovsky-svoi-ljudi.xml, total parsed: 77/102 (75.49%)\n",
      "Successfully parsed a play: ../RusDraCor/tolstoy-vlast-tmy.xml, total parsed: 78/102 (76.47%)\n",
      "Successfully parsed a play: ../RusDraCor/shakhovskoy-urok-koketkam.xml, total parsed: 79/102 (77.45%)\n",
      "Successfully parsed a play: ../RusDraCor/chekhov-svadba.xml, total parsed: 80/102 (78.43%)\n",
      "Successfully parsed a play: ../RusDraCor/turgenev-provintsialka.xml, total parsed: 81/102 (79.41%)\n",
      "Successfully parsed a play: ../RusDraCor/tretyakov-protivogazy.xml, total parsed: 82/102 (80.39%)\n",
      "Successfully parsed a play: ../RusDraCor/bulgakov-ivan-vasilevich.xml, total parsed: 83/102 (81.37%)\n"
     ]
    },
    {
     "name": "stdout",
     "output_type": "stream",
     "text": [
      "Successfully parsed a play: ../RusDraCor/chekhov-ivanov.xml, total parsed: 84/102 (82.35%)\n",
      "Successfully parsed a play: ../RusDraCor/blok-balaganchik.xml, total parsed: 85/102 (83.33%)\n",
      "Successfully parsed a play: ../RusDraCor/kheraskov-venecianskaya-monahinya.xml, total parsed: 86/102 (84.31%)\n",
      "Successfully parsed a play: ../RusDraCor/chekhov-na-bolshoi-doroge.xml, total parsed: 87/102 (85.29%)\n",
      "Successfully parsed a play: ../RusDraCor/pushkin-skupoj-rytsar.xml, total parsed: 88/102 (86.27%)\n",
      "Successfully parsed a play: ../RusDraCor/gogol-igroki.xml, total parsed: 89/102 (87.25%)\n",
      "Successfully parsed a play: ../RusDraCor/ozerov-dmitrij-donskoj.xml, total parsed: 90/102 (88.24%)\n",
      "Successfully parsed a play: ../RusDraCor/gogol-teatralnyi-razezd.xml, total parsed: 91/102 (89.22%)\n",
      "Successfully parsed a play: ../RusDraCor/gogol-utro-delovogo-cheloveka.xml, total parsed: 92/102 (90.20%)\n",
      "Successfully parsed a play: ../RusDraCor/ostrovsky-snegurochka.xml, total parsed: 93/102 (91.18%)\n",
      "Successfully parsed a play: ../RusDraCor/chekhov-tatjana-repina.xml, total parsed: 94/102 (92.16%)\n",
      "Successfully parsed a play: ../RusDraCor/chekhov-noch-pered-sudom.xml, total parsed: 95/102 (93.14%)\n",
      "Successfully parsed a play: ../RusDraCor/tolstoy-tsar-boris.xml, total parsed: 96/102 (94.12%)\n",
      "Successfully parsed a play: ../RusDraCor/krylov-urok-dochkam.xml, total parsed: 97/102 (95.10%)\n",
      "Successfully parsed a play: ../RusDraCor/krylov-modnaja-lavka.xml, total parsed: 98/102 (96.08%)\n",
      "Successfully parsed a play: ../RusDraCor/turgenev-gde-tonko-tam-i-rvetsja.xml, total parsed: 99/102 (97.06%)\n",
      "Successfully parsed a play: ../RusDraCor/krylov-amerikantsy.xml, total parsed: 100/102 (98.04%)\n",
      "Successfully parsed a play: ../RusDraCor/lermontov-maskarad.xml, total parsed: 101/102 (99.02%)\n",
      "Successfully parsed a play: ../RusDraCor/gogol-tjazhba.xml, total parsed: 102/102 (100.00%)\n",
      "All in all, dropped 0 plays.\n"
     ]
    }
   ],
   "source": [
    "for play in play_files:\n",
    "    play_path = corpus_path + os.sep + play\n",
    "    \n",
    "    st_dirs = get_directions(play_path)\n",
    "    author, title, year, acts = get_play_data(play_path)\n",
    "    lemmas, words = word_count(play_path, mystem)\n",
    "    words_dir, lemmas_dir = average_direction(st_dirs, mystem)\n",
    "    \n",
    "    play_info = {\"Path\": play, \n",
    "            \"Author\": author, \n",
    "            \"Title\": title, \n",
    "            \"Year\": year,\n",
    "            \"Directions\": len(st_dirs), \n",
    "            \"Acts\": acts if acts!=0 else 1,\n",
    "            \"Lemmas\": lemmas,\n",
    "            \"Lemmas, per direction\": lemmas_dir,\n",
    "            \"Words\": words,\n",
    "            \"Words, per direction\": words_dir}\n",
    "    \n",
    "    if play_info[\"Year\"]:\n",
    "        # directions\n",
    "        directions_list.append(st_dirs)\n",
    "        save_directions(play, st_dirs, option=\"sep\")\n",
    "        save_directions(play, st_dirs, option=\"all\")\n",
    "        \n",
    "        # add information about a play\n",
    "        play_list.append(play_info)\n",
    "        \n",
    "        # \"logging\" print\n",
    "        parsed_count += 1\n",
    "        print(\"Successfully parsed a play: {}, total parsed: {}/{} ({:.2f}%)\".format(play_path, \n",
    "            parsed_count, total_plays, parsed_count/total_plays*100))\n",
    "    else:\n",
    "        dropped_count += 1\n",
    "        print(\"Dropped a play: {}\".format(play_path))\n",
    "\n",
    "print(\"All in all, dropped {} plays.\".format(dropped_count))"
   ]
  },
  {
   "cell_type": "markdown",
   "metadata": {},
   "source": [
    "#### Corrections\n",
    "Note that the first ```if``` statement in the ```for``` loop removes all the plays in which __the `year` value is not clear__. Luckily, we don't have those :)\n",
    "\n",
    "Furthermore, if there were no ```<div type=\"act\">```, it means that __there is only one act in the play (not zero)__. I corrected it while creating ```play_info```."
   ]
  },
  {
   "cell_type": "markdown",
   "metadata": {},
   "source": [
    "### Data frame\n",
    "\n",
    "Now, we create a Pandas data frame with all the information about the plays. We'll use paths to the plays to refer to rows."
   ]
  },
  {
   "cell_type": "code",
   "execution_count": 18,
   "metadata": {},
   "outputs": [],
   "source": [
    "import pandas as pd"
   ]
  },
  {
   "cell_type": "code",
   "execution_count": 19,
   "metadata": {
    "scrolled": false
   },
   "outputs": [
    {
     "data": {
      "text/html": [
       "<div>\n",
       "<style scoped>\n",
       "    .dataframe tbody tr th:only-of-type {\n",
       "        vertical-align: middle;\n",
       "    }\n",
       "\n",
       "    .dataframe tbody tr th {\n",
       "        vertical-align: top;\n",
       "    }\n",
       "\n",
       "    .dataframe thead th {\n",
       "        text-align: right;\n",
       "    }\n",
       "</style>\n",
       "<table border=\"1\" class=\"dataframe\">\n",
       "  <thead>\n",
       "    <tr style=\"text-align: right;\">\n",
       "      <th></th>\n",
       "      <th>Acts</th>\n",
       "      <th>Author</th>\n",
       "      <th>Directions</th>\n",
       "      <th>Lemmas</th>\n",
       "      <th>Lemmas, per direction</th>\n",
       "      <th>Path</th>\n",
       "      <th>Title</th>\n",
       "      <th>Words</th>\n",
       "      <th>Words, per direction</th>\n",
       "      <th>Year</th>\n",
       "    </tr>\n",
       "  </thead>\n",
       "  <tbody>\n",
       "    <tr>\n",
       "      <th>0</th>\n",
       "      <td>1</td>\n",
       "      <td>Пушкин, Александр Сергеевич</td>\n",
       "      <td>38</td>\n",
       "      <td>996</td>\n",
       "      <td>4.973684</td>\n",
       "      <td>pushkin-stseny-iz-rytsarskih-vremen.xml</td>\n",
       "      <td>Сцены из рыцарских времен</td>\n",
       "      <td>3399</td>\n",
       "      <td>3.131579</td>\n",
       "      <td>1837</td>\n",
       "    </tr>\n",
       "    <tr>\n",
       "      <th>1</th>\n",
       "      <td>1</td>\n",
       "      <td>Тургенев, Иван Сергеевич</td>\n",
       "      <td>687</td>\n",
       "      <td>2785</td>\n",
       "      <td>6.391557</td>\n",
       "      <td>turgenev-holostjak.xml</td>\n",
       "      <td>Холостяк</td>\n",
       "      <td>21501</td>\n",
       "      <td>4.506550</td>\n",
       "      <td>1849</td>\n",
       "    </tr>\n",
       "    <tr>\n",
       "      <th>2</th>\n",
       "      <td>2</td>\n",
       "      <td>Гоголь, Николай Васильевич</td>\n",
       "      <td>254</td>\n",
       "      <td>2187</td>\n",
       "      <td>5.952756</td>\n",
       "      <td>gogol-zhenitba.xml</td>\n",
       "      <td>Женитьба</td>\n",
       "      <td>13094</td>\n",
       "      <td>3.925197</td>\n",
       "      <td>1842</td>\n",
       "    </tr>\n",
       "    <tr>\n",
       "      <th>3</th>\n",
       "      <td>1</td>\n",
       "      <td>Блок, Александр Александрович</td>\n",
       "      <td>132</td>\n",
       "      <td>1373</td>\n",
       "      <td>12.462121</td>\n",
       "      <td>blok-neznakomka.xml</td>\n",
       "      <td>Незнакомка</td>\n",
       "      <td>4314</td>\n",
       "      <td>10.856061</td>\n",
       "      <td>1907</td>\n",
       "    </tr>\n",
       "    <tr>\n",
       "      <th>4</th>\n",
       "      <td>5</td>\n",
       "      <td>Островский, Александр Николаевич</td>\n",
       "      <td>442</td>\n",
       "      <td>2372</td>\n",
       "      <td>5.504525</td>\n",
       "      <td>ostrovsky-bednaja-nevesta.xml</td>\n",
       "      <td>Бедная невеста</td>\n",
       "      <td>22554</td>\n",
       "      <td>3.685520</td>\n",
       "      <td>1852</td>\n",
       "    </tr>\n",
       "  </tbody>\n",
       "</table>\n",
       "</div>"
      ],
      "text/plain": [
       "   Acts                            Author  Directions  Lemmas  \\\n",
       "0     1       Пушкин, Александр Сергеевич          38     996   \n",
       "1     1          Тургенев, Иван Сергеевич         687    2785   \n",
       "2     2        Гоголь, Николай Васильевич         254    2187   \n",
       "3     1     Блок, Александр Александрович         132    1373   \n",
       "4     5  Островский, Александр Николаевич         442    2372   \n",
       "\n",
       "   Lemmas, per direction                                     Path  \\\n",
       "0               4.973684  pushkin-stseny-iz-rytsarskih-vremen.xml   \n",
       "1               6.391557                   turgenev-holostjak.xml   \n",
       "2               5.952756                       gogol-zhenitba.xml   \n",
       "3              12.462121                      blok-neznakomka.xml   \n",
       "4               5.504525            ostrovsky-bednaja-nevesta.xml   \n",
       "\n",
       "                       Title  Words  Words, per direction  Year  \n",
       "0  Сцены из рыцарских времен   3399              3.131579  1837  \n",
       "1                   Холостяк  21501              4.506550  1849  \n",
       "2                   Женитьба  13094              3.925197  1842  \n",
       "3                 Незнакомка   4314             10.856061  1907  \n",
       "4             Бедная невеста  22554              3.685520  1852  "
      ]
     },
     "execution_count": 19,
     "metadata": {},
     "output_type": "execute_result"
    }
   ],
   "source": [
    "play_df = pd.DataFrame(play_list)\n",
    "play_df.head()"
   ]
  },
  {
   "cell_type": "markdown",
   "metadata": {},
   "source": [
    "## Simple numbers\n",
    "We will calculate:\n",
    "\n",
    "* amount of directions\n",
    "    * total in play,\n",
    "    * per act\n",
    "* amount of words\n",
    "    * total in play,\n",
    "    * per act,\n",
    "    * per direction\n",
    "* amount of lemmas\n",
    "    * total in play,\n",
    "    * per act,\n",
    "    * per direction"
   ]
  },
  {
   "cell_type": "markdown",
   "metadata": {},
   "source": [
    "### Word, lemma count\n",
    "Word and lemma count were calculated previously (see \"Extraction\" chapter). In here, I also calculate amount of words and lemmas per act."
   ]
  },
  {
   "cell_type": "code",
   "execution_count": 20,
   "metadata": {},
   "outputs": [
    {
     "data": {
      "text/html": [
       "<div>\n",
       "<style scoped>\n",
       "    .dataframe tbody tr th:only-of-type {\n",
       "        vertical-align: middle;\n",
       "    }\n",
       "\n",
       "    .dataframe tbody tr th {\n",
       "        vertical-align: top;\n",
       "    }\n",
       "\n",
       "    .dataframe thead th {\n",
       "        text-align: right;\n",
       "    }\n",
       "</style>\n",
       "<table border=\"1\" class=\"dataframe\">\n",
       "  <thead>\n",
       "    <tr style=\"text-align: right;\">\n",
       "      <th></th>\n",
       "      <th>Acts</th>\n",
       "      <th>Author</th>\n",
       "      <th>Directions</th>\n",
       "      <th>Lemmas</th>\n",
       "      <th>Lemmas, per direction</th>\n",
       "      <th>Path</th>\n",
       "      <th>Title</th>\n",
       "      <th>Words</th>\n",
       "      <th>Words, per direction</th>\n",
       "      <th>Year</th>\n",
       "      <th>Directions, per act</th>\n",
       "      <th>Words, per act</th>\n",
       "      <th>Lemmas, per act</th>\n",
       "    </tr>\n",
       "  </thead>\n",
       "  <tbody>\n",
       "    <tr>\n",
       "      <th>0</th>\n",
       "      <td>1</td>\n",
       "      <td>Пушкин, Александр Сергеевич</td>\n",
       "      <td>38</td>\n",
       "      <td>996</td>\n",
       "      <td>4.973684</td>\n",
       "      <td>pushkin-stseny-iz-rytsarskih-vremen.xml</td>\n",
       "      <td>Сцены из рыцарских времен</td>\n",
       "      <td>3399</td>\n",
       "      <td>3.131579</td>\n",
       "      <td>1837</td>\n",
       "      <td>38.0</td>\n",
       "      <td>3399.0</td>\n",
       "      <td>996.0</td>\n",
       "    </tr>\n",
       "    <tr>\n",
       "      <th>1</th>\n",
       "      <td>1</td>\n",
       "      <td>Тургенев, Иван Сергеевич</td>\n",
       "      <td>687</td>\n",
       "      <td>2785</td>\n",
       "      <td>6.391557</td>\n",
       "      <td>turgenev-holostjak.xml</td>\n",
       "      <td>Холостяк</td>\n",
       "      <td>21501</td>\n",
       "      <td>4.506550</td>\n",
       "      <td>1849</td>\n",
       "      <td>687.0</td>\n",
       "      <td>21501.0</td>\n",
       "      <td>2785.0</td>\n",
       "    </tr>\n",
       "    <tr>\n",
       "      <th>2</th>\n",
       "      <td>2</td>\n",
       "      <td>Гоголь, Николай Васильевич</td>\n",
       "      <td>254</td>\n",
       "      <td>2187</td>\n",
       "      <td>5.952756</td>\n",
       "      <td>gogol-zhenitba.xml</td>\n",
       "      <td>Женитьба</td>\n",
       "      <td>13094</td>\n",
       "      <td>3.925197</td>\n",
       "      <td>1842</td>\n",
       "      <td>127.0</td>\n",
       "      <td>6547.0</td>\n",
       "      <td>1093.5</td>\n",
       "    </tr>\n",
       "    <tr>\n",
       "      <th>3</th>\n",
       "      <td>1</td>\n",
       "      <td>Блок, Александр Александрович</td>\n",
       "      <td>132</td>\n",
       "      <td>1373</td>\n",
       "      <td>12.462121</td>\n",
       "      <td>blok-neznakomka.xml</td>\n",
       "      <td>Незнакомка</td>\n",
       "      <td>4314</td>\n",
       "      <td>10.856061</td>\n",
       "      <td>1907</td>\n",
       "      <td>132.0</td>\n",
       "      <td>4314.0</td>\n",
       "      <td>1373.0</td>\n",
       "    </tr>\n",
       "    <tr>\n",
       "      <th>4</th>\n",
       "      <td>5</td>\n",
       "      <td>Островский, Александр Николаевич</td>\n",
       "      <td>442</td>\n",
       "      <td>2372</td>\n",
       "      <td>5.504525</td>\n",
       "      <td>ostrovsky-bednaja-nevesta.xml</td>\n",
       "      <td>Бедная невеста</td>\n",
       "      <td>22554</td>\n",
       "      <td>3.685520</td>\n",
       "      <td>1852</td>\n",
       "      <td>88.4</td>\n",
       "      <td>4510.8</td>\n",
       "      <td>474.4</td>\n",
       "    </tr>\n",
       "  </tbody>\n",
       "</table>\n",
       "</div>"
      ],
      "text/plain": [
       "   Acts                            Author  Directions  Lemmas  \\\n",
       "0     1       Пушкин, Александр Сергеевич          38     996   \n",
       "1     1          Тургенев, Иван Сергеевич         687    2785   \n",
       "2     2        Гоголь, Николай Васильевич         254    2187   \n",
       "3     1     Блок, Александр Александрович         132    1373   \n",
       "4     5  Островский, Александр Николаевич         442    2372   \n",
       "\n",
       "   Lemmas, per direction                                     Path  \\\n",
       "0               4.973684  pushkin-stseny-iz-rytsarskih-vremen.xml   \n",
       "1               6.391557                   turgenev-holostjak.xml   \n",
       "2               5.952756                       gogol-zhenitba.xml   \n",
       "3              12.462121                      blok-neznakomka.xml   \n",
       "4               5.504525            ostrovsky-bednaja-nevesta.xml   \n",
       "\n",
       "                       Title  Words  Words, per direction  Year  \\\n",
       "0  Сцены из рыцарских времен   3399              3.131579  1837   \n",
       "1                   Холостяк  21501              4.506550  1849   \n",
       "2                   Женитьба  13094              3.925197  1842   \n",
       "3                 Незнакомка   4314             10.856061  1907   \n",
       "4             Бедная невеста  22554              3.685520  1852   \n",
       "\n",
       "   Directions, per act  Words, per act  Lemmas, per act  \n",
       "0                 38.0          3399.0            996.0  \n",
       "1                687.0         21501.0           2785.0  \n",
       "2                127.0          6547.0           1093.5  \n",
       "3                132.0          4314.0           1373.0  \n",
       "4                 88.4          4510.8            474.4  "
      ]
     },
     "execution_count": 20,
     "metadata": {},
     "output_type": "execute_result"
    }
   ],
   "source": [
    "# directions per act\n",
    "play_df[\"Directions, per act\"] = play_df[\"Directions\"]/play_df[\"Acts\"]\n",
    "# words per act\n",
    "play_df[\"Words, per act\"] = play_df[\"Words\"]/play_df[\"Acts\"]\n",
    "# lemmas per act\n",
    "play_df[\"Lemmas, per act\"] = play_df[\"Lemmas\"]/play_df[\"Acts\"]\n",
    "play_df.head()"
   ]
  },
  {
   "cell_type": "markdown",
   "metadata": {},
   "source": [
    "### Saving the dataframe"
   ]
  },
  {
   "cell_type": "code",
   "execution_count": 21,
   "metadata": {},
   "outputs": [],
   "source": [
    "play_df.to_csv(csv_folder + os.sep + \"general_information.csv\", index=False, sep=\";\", encoding=\"utf-8\")"
   ]
  }
 ],
 "metadata": {
  "kernelspec": {
   "display_name": "Python 3",
   "language": "python",
   "name": "python3"
  },
  "language_info": {
   "codemirror_mode": {
    "name": "ipython",
    "version": 3
   },
   "file_extension": ".py",
   "mimetype": "text/x-python",
   "name": "python",
   "nbconvert_exporter": "python",
   "pygments_lexer": "ipython3",
   "version": "3.7.1"
  }
 },
 "nbformat": 4,
 "nbformat_minor": 2
}
