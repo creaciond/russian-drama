{
 "cells": [
  {
   "cell_type": "markdown",
   "metadata": {},
   "source": [
    "# Basic clustering"
   ]
  },
  {
   "cell_type": "markdown",
   "metadata": {},
   "source": [
    "In this notebook we:\n",
    "\n",
    "* normalize the directions,\n",
    "* represent them as feature vectors (via TF-IDF),\n",
    "* visualise the vectors,\n",
    "* run a simple K-Means clustering algorithm to see where it gets us."
   ]
  },
  {
   "cell_type": "markdown",
   "metadata": {},
   "source": [
    "## Before we start: globals and paths"
   ]
  },
  {
   "cell_type": "code",
   "execution_count": 1,
   "metadata": {},
   "outputs": [],
   "source": [
    "import os"
   ]
  },
  {
   "cell_type": "code",
   "execution_count": 2,
   "metadata": {},
   "outputs": [],
   "source": [
    "directions_path = \"..\" + os.sep + \"directions\"\n",
    "csv_path = \".\" + os.sep + \"csv\"\n",
    "corpus_path = \"..\" + os.sep + \"RusDraCor\""
   ]
  },
  {
   "cell_type": "markdown",
   "metadata": {},
   "source": [
    "## Loading data"
   ]
  },
  {
   "cell_type": "code",
   "execution_count": 3,
   "metadata": {},
   "outputs": [],
   "source": [
    "import pandas as pd\n",
    "import numpy as np"
   ]
  },
  {
   "cell_type": "markdown",
   "metadata": {},
   "source": [
    "### Plays"
   ]
  },
  {
   "cell_type": "code",
   "execution_count": 4,
   "metadata": {},
   "outputs": [
    {
     "data": {
      "text/html": [
       "<div>\n",
       "<style scoped>\n",
       "    .dataframe tbody tr th:only-of-type {\n",
       "        vertical-align: middle;\n",
       "    }\n",
       "\n",
       "    .dataframe tbody tr th {\n",
       "        vertical-align: top;\n",
       "    }\n",
       "\n",
       "    .dataframe thead th {\n",
       "        text-align: right;\n",
       "    }\n",
       "</style>\n",
       "<table border=\"1\" class=\"dataframe\">\n",
       "  <thead>\n",
       "    <tr style=\"text-align: right;\">\n",
       "      <th></th>\n",
       "      <th>Amount of acts</th>\n",
       "      <th>Amount of directions</th>\n",
       "      <th>Author</th>\n",
       "      <th>Lemmas</th>\n",
       "      <th>Lemmas per direction</th>\n",
       "      <th>Published</th>\n",
       "      <th>Title</th>\n",
       "      <th>Words</th>\n",
       "      <th>Words per direction</th>\n",
       "      <th>Written</th>\n",
       "      <th>Directions per act</th>\n",
       "      <th>Words per act</th>\n",
       "      <th>Lemmas per act</th>\n",
       "      <th>A</th>\n",
       "      <th>ADV</th>\n",
       "      <th>INTJ</th>\n",
       "      <th>S</th>\n",
       "      <th>V</th>\n",
       "      <th>Words.1</th>\n",
       "    </tr>\n",
       "  </thead>\n",
       "  <tbody>\n",
       "    <tr>\n",
       "      <th>blok-balaganchik.txt</th>\n",
       "      <td>1</td>\n",
       "      <td>38</td>\n",
       "      <td>Блок, Александр Александрович</td>\n",
       "      <td>910</td>\n",
       "      <td>22.263158</td>\n",
       "      <td>1906</td>\n",
       "      <td>Балаганчик</td>\n",
       "      <td>2240</td>\n",
       "      <td>22.736842</td>\n",
       "      <td>1906</td>\n",
       "      <td>38.000000</td>\n",
       "      <td>2240.000000</td>\n",
       "      <td>910.000000</td>\n",
       "      <td>2.684211</td>\n",
       "      <td>1.210526</td>\n",
       "      <td>0.000000</td>\n",
       "      <td>0</td>\n",
       "      <td>0.342105</td>\n",
       "      <td>10.157895</td>\n",
       "    </tr>\n",
       "    <tr>\n",
       "      <th>blok-korol-na-ploschadi.txt</th>\n",
       "      <td>3</td>\n",
       "      <td>133</td>\n",
       "      <td>Блок, Александр Александрович</td>\n",
       "      <td>1475</td>\n",
       "      <td>14.631579</td>\n",
       "      <td>1907</td>\n",
       "      <td>Король на площади</td>\n",
       "      <td>5535</td>\n",
       "      <td>12.466165</td>\n",
       "      <td>1906</td>\n",
       "      <td>44.333333</td>\n",
       "      <td>1845.000000</td>\n",
       "      <td>491.666667</td>\n",
       "      <td>1.090226</td>\n",
       "      <td>0.977444</td>\n",
       "      <td>0.000000</td>\n",
       "      <td>0</td>\n",
       "      <td>0.218045</td>\n",
       "      <td>5.398496</td>\n",
       "    </tr>\n",
       "    <tr>\n",
       "      <th>blok-neznakomka.txt</th>\n",
       "      <td>1</td>\n",
       "      <td>80</td>\n",
       "      <td>Блок, Александр Александрович</td>\n",
       "      <td>1342</td>\n",
       "      <td>18.025000</td>\n",
       "      <td>1907</td>\n",
       "      <td>Незнакомка</td>\n",
       "      <td>4222</td>\n",
       "      <td>16.462500</td>\n",
       "      <td>1906</td>\n",
       "      <td>80.000000</td>\n",
       "      <td>4222.000000</td>\n",
       "      <td>1342.000000</td>\n",
       "      <td>1.900000</td>\n",
       "      <td>1.050000</td>\n",
       "      <td>0.000000</td>\n",
       "      <td>0</td>\n",
       "      <td>0.350000</td>\n",
       "      <td>7.412500</td>\n",
       "    </tr>\n",
       "    <tr>\n",
       "      <th>bulgakov-dni-turbinyh.txt</th>\n",
       "      <td>4</td>\n",
       "      <td>372</td>\n",
       "      <td>Булгаков, Михаил Афанасьевич</td>\n",
       "      <td>2901</td>\n",
       "      <td>5.634409</td>\n",
       "      <td>1955</td>\n",
       "      <td>Дни Турбиных</td>\n",
       "      <td>16426</td>\n",
       "      <td>3.739247</td>\n",
       "      <td>1926</td>\n",
       "      <td>93.000000</td>\n",
       "      <td>4106.500000</td>\n",
       "      <td>725.250000</td>\n",
       "      <td>0.314516</td>\n",
       "      <td>0.134409</td>\n",
       "      <td>0.005376</td>\n",
       "      <td>0</td>\n",
       "      <td>0.099462</td>\n",
       "      <td>1.295699</td>\n",
       "    </tr>\n",
       "    <tr>\n",
       "      <th>bulgakov-ivan-vasilevich.txt</th>\n",
       "      <td>3</td>\n",
       "      <td>319</td>\n",
       "      <td>Булгаков, Михаил Афанасьевич</td>\n",
       "      <td>2195</td>\n",
       "      <td>6.507837</td>\n",
       "      <td>1965</td>\n",
       "      <td>Иван Васильевич</td>\n",
       "      <td>10303</td>\n",
       "      <td>4.721003</td>\n",
       "      <td>1936</td>\n",
       "      <td>106.333333</td>\n",
       "      <td>3434.333333</td>\n",
       "      <td>731.666667</td>\n",
       "      <td>0.210031</td>\n",
       "      <td>0.163009</td>\n",
       "      <td>0.000000</td>\n",
       "      <td>0</td>\n",
       "      <td>0.100313</td>\n",
       "      <td>1.463950</td>\n",
       "    </tr>\n",
       "  </tbody>\n",
       "</table>\n",
       "</div>"
      ],
      "text/plain": [
       "                              Amount of acts  Amount of directions  \\\n",
       "blok-balaganchik.txt                       1                    38   \n",
       "blok-korol-na-ploschadi.txt                3                   133   \n",
       "blok-neznakomka.txt                        1                    80   \n",
       "bulgakov-dni-turbinyh.txt                  4                   372   \n",
       "bulgakov-ivan-vasilevich.txt               3                   319   \n",
       "\n",
       "                                                     Author  Lemmas  \\\n",
       "blok-balaganchik.txt          Блок, Александр Александрович     910   \n",
       "blok-korol-na-ploschadi.txt   Блок, Александр Александрович    1475   \n",
       "blok-neznakomka.txt           Блок, Александр Александрович    1342   \n",
       "bulgakov-dni-turbinyh.txt      Булгаков, Михаил Афанасьевич    2901   \n",
       "bulgakov-ivan-vasilevich.txt   Булгаков, Михаил Афанасьевич    2195   \n",
       "\n",
       "                              Lemmas per direction  Published  \\\n",
       "blok-balaganchik.txt                     22.263158       1906   \n",
       "blok-korol-na-ploschadi.txt              14.631579       1907   \n",
       "blok-neznakomka.txt                      18.025000       1907   \n",
       "bulgakov-dni-turbinyh.txt                 5.634409       1955   \n",
       "bulgakov-ivan-vasilevich.txt              6.507837       1965   \n",
       "\n",
       "                                          Title  Words  Words per direction  \\\n",
       "blok-balaganchik.txt                 Балаганчик   2240            22.736842   \n",
       "blok-korol-na-ploschadi.txt   Король на площади   5535            12.466165   \n",
       "blok-neznakomka.txt                  Незнакомка   4222            16.462500   \n",
       "bulgakov-dni-turbinyh.txt          Дни Турбиных  16426             3.739247   \n",
       "bulgakov-ivan-vasilevich.txt    Иван Васильевич  10303             4.721003   \n",
       "\n",
       "                              Written  Directions per act  Words per act  \\\n",
       "blok-balaganchik.txt             1906           38.000000    2240.000000   \n",
       "blok-korol-na-ploschadi.txt      1906           44.333333    1845.000000   \n",
       "blok-neznakomka.txt              1906           80.000000    4222.000000   \n",
       "bulgakov-dni-turbinyh.txt        1926           93.000000    4106.500000   \n",
       "bulgakov-ivan-vasilevich.txt     1936          106.333333    3434.333333   \n",
       "\n",
       "                              Lemmas per act         A       ADV      INTJ  S  \\\n",
       "blok-balaganchik.txt              910.000000  2.684211  1.210526  0.000000  0   \n",
       "blok-korol-na-ploschadi.txt       491.666667  1.090226  0.977444  0.000000  0   \n",
       "blok-neznakomka.txt              1342.000000  1.900000  1.050000  0.000000  0   \n",
       "bulgakov-dni-turbinyh.txt         725.250000  0.314516  0.134409  0.005376  0   \n",
       "bulgakov-ivan-vasilevich.txt      731.666667  0.210031  0.163009  0.000000  0   \n",
       "\n",
       "                                     V    Words.1  \n",
       "blok-balaganchik.txt          0.342105  10.157895  \n",
       "blok-korol-na-ploschadi.txt   0.218045   5.398496  \n",
       "blok-neznakomka.txt           0.350000   7.412500  \n",
       "bulgakov-dni-turbinyh.txt     0.099462   1.295699  \n",
       "bulgakov-ivan-vasilevich.txt  0.100313   1.463950  "
      ]
     },
     "execution_count": 4,
     "metadata": {},
     "output_type": "execute_result"
    }
   ],
   "source": [
    "play_df = pd.read_csv(csv_path + os.sep + \"joint_data.csv\", sep=\";\", \n",
    "                 encoding=\"utf-8\", index_col=0)\n",
    "play_df.head()"
   ]
  },
  {
   "cell_type": "markdown",
   "metadata": {},
   "source": [
    "### Directions"
   ]
  },
  {
   "cell_type": "code",
   "execution_count": 5,
   "metadata": {},
   "outputs": [],
   "source": [
    "all_directions_path = directions_path + os.sep + \"all_directions.txt\"\n",
    "with open(all_directions_path, \"r\", encoding=\"utf-8\") as alldirs_file:\n",
    "    alldirs = [line.strip(\"\\n\") for line in alldirs_file.readlines() if line.strip(\"\\r\\n\")]"
   ]
  },
  {
   "cell_type": "markdown",
   "metadata": {},
   "source": [
    "Let's see how many directions we've got now..."
   ]
  },
  {
   "cell_type": "code",
   "execution_count": 6,
   "metadata": {},
   "outputs": [
    {
     "data": {
      "text/plain": [
       "17981"
      ]
     },
     "execution_count": 6,
     "metadata": {},
     "output_type": "execute_result"
    }
   ],
   "source": [
    "len(alldirs)"
   ]
  },
  {
   "cell_type": "markdown",
   "metadata": {},
   "source": [
    "...and take a look at an example of direction. For instance, at the last one:"
   ]
  },
  {
   "cell_type": "code",
   "execution_count": 7,
   "metadata": {},
   "outputs": [
    {
     "data": {
      "text/plain": [
       "'пролетов, потом слуга'"
      ]
     },
     "execution_count": 7,
     "metadata": {},
     "output_type": "execute_result"
    }
   ],
   "source": [
    "alldirs[-1]"
   ]
  },
  {
   "cell_type": "markdown",
   "metadata": {},
   "source": [
    "## Preprocessing"
   ]
  },
  {
   "cell_type": "markdown",
   "metadata": {},
   "source": [
    "### Text normalization\n",
    "\n",
    "In order to make clustering easier, I'll normalize all the directions as following:\n",
    "\n",
    "* the words will be turned into their normal form (i.e. _играл -> играть_, _стулья -> стул_, etc.),\n",
    "* stop words (such as interjections) will be removed.\n",
    "\n",
    "The directions are all lowercase already."
   ]
  },
  {
   "cell_type": "code",
   "execution_count": 8,
   "metadata": {},
   "outputs": [],
   "source": [
    "from pymorphy2 import MorphAnalyzer\n",
    "from nltk.tokenize import wordpunct_tokenize\n",
    "from nltk.corpus import stopwords\n",
    "import string\n",
    "\n",
    "morph = MorphAnalyzer()\n",
    "stops = stopwords.words(\"russian\")"
   ]
  },
  {
   "cell_type": "code",
   "execution_count": 9,
   "metadata": {},
   "outputs": [],
   "source": [
    "def normalize(text):\n",
    "    text = text.lower()\n",
    "    \n",
    "    tokens = wordpunct_tokenize(text)\n",
    "    \n",
    "    lemmas_raw = [morph.parse(token)[0].normal_form for token in tokens]\n",
    "    lemmas = [lemma for lemma in lemmas_raw \n",
    "              if lemma not in stops \n",
    "             and lemma not in string.punctuation]\n",
    "    \n",
    "    return \" \".join(lemmas)"
   ]
  },
  {
   "cell_type": "code",
   "execution_count": 10,
   "metadata": {},
   "outputs": [],
   "source": [
    "alldirs_norm = [normalize(line) for line in alldirs if normalize(line)]"
   ]
  },
  {
   "cell_type": "markdown",
   "metadata": {},
   "source": [
    "Let's check whether this caused a change in amount of directions:"
   ]
  },
  {
   "cell_type": "code",
   "execution_count": 11,
   "metadata": {},
   "outputs": [
    {
     "data": {
      "text/plain": [
       "True"
      ]
     },
     "execution_count": 11,
     "metadata": {},
     "output_type": "execute_result"
    }
   ],
   "source": [
    "len(alldirs) != len(alldirs_norm)"
   ]
  },
  {
   "cell_type": "markdown",
   "metadata": {},
   "source": [
    "And also let's take a look at a random direction when it's normalized:"
   ]
  },
  {
   "cell_type": "code",
   "execution_count": 12,
   "metadata": {},
   "outputs": [
    {
     "data": {
      "text/plain": [
       "'пролёт слуга'"
      ]
     },
     "execution_count": 12,
     "metadata": {},
     "output_type": "execute_result"
    }
   ],
   "source": [
    "alldirs_norm[-1]"
   ]
  },
  {
   "cell_type": "markdown",
   "metadata": {},
   "source": [
    "### Vectorizing\n",
    "\n",
    "I'm vectorizing the directions because it's the easiest way to get numbers out of texts. The algorithm is **TF-IDF**, which is quite common for the NLP tasks and problems. \n",
    "\n",
    "More information:\n",
    "* [scikit-learn page](http://scikit-learn.org/stable/modules/generated/sklearn.feature_extraction.text.TfidfVectorizer.html) with documentation on functions and parameters,\n",
    "* _I'll probably add an article on that, but I have to find it first! :)_"
   ]
  },
  {
   "cell_type": "code",
   "execution_count": 13,
   "metadata": {},
   "outputs": [],
   "source": [
    "from sklearn.feature_extraction.text import TfidfVectorizer"
   ]
  },
  {
   "cell_type": "code",
   "execution_count": 14,
   "metadata": {},
   "outputs": [],
   "source": [
    "tfidf = TfidfVectorizer()\n",
    "tfidf.fit(alldirs_norm)\n",
    "X = tfidf.transform(alldirs_norm)"
   ]
  },
  {
   "cell_type": "markdown",
   "metadata": {},
   "source": [
    "## Plotting the results\n",
    "\n",
    "Now, let's plot what we have to see whether there are any clusters. Unfortunately, we have our TF-IDF results as a sparse matrix, so we'll run a **LSA (latent semantic analysis)** to reduce the number of dimensions down to 2 in order to be able to plot them."
   ]
  },
  {
   "cell_type": "code",
   "execution_count": 15,
   "metadata": {},
   "outputs": [],
   "source": [
    "from sklearn.decomposition import TruncatedSVD"
   ]
  },
  {
   "cell_type": "code",
   "execution_count": 16,
   "metadata": {},
   "outputs": [],
   "source": [
    "import matplotlib.pyplot as plt\n",
    "%matplotlib inline"
   ]
  },
  {
   "cell_type": "code",
   "execution_count": 17,
   "metadata": {},
   "outputs": [],
   "source": [
    "svd = TruncatedSVD(n_components=2)\n",
    "svd.fit(X)\n",
    "X_2d = svd.transform(X)"
   ]
  },
  {
   "cell_type": "code",
   "execution_count": 18,
   "metadata": {},
   "outputs": [
    {
     "data": {
      "text/plain": [
       "<matplotlib.collections.PathCollection at 0x1a2548f9b0>"
      ]
     },
     "execution_count": 18,
     "metadata": {},
     "output_type": "execute_result"
    },
    {
     "data": {
      "image/png": "[encoded data removed]",
      "text/plain": [
       "<matplotlib.figure.Figure at 0x1190ac048>"
      ]
     },
     "metadata": {},
     "output_type": "display_data"
    }
   ],
   "source": [
    "plt.scatter(X_2d[:,0], X_2d[:,1])"
   ]
  },
  {
   "cell_type": "markdown",
   "metadata": {},
   "source": [
    "## Yay, machine learning!\n",
    "\n",
    "I'll use **KMeans clustering** algorithm because we have medium amount of directions and 8 clusters (see in [readme](./README.md) — all the classes from TEI classification except for `mixed`). The classes are:\n",
    "\n",
    "1. setting,\n",
    "2. entrance,\n",
    "3. exit,\n",
    "4. business,\n",
    "5. novelistic,\n",
    "6. delivery,\n",
    "7. modifier,\n",
    "8. location."
   ]
  },
  {
   "cell_type": "code",
   "execution_count": null,
   "metadata": {},
   "outputs": [],
   "source": [
    "from sklearn.model_selection import train_test_split\n",
    "from sklearn.metrics import precision_score, recall_score, f1_score, classification_report"
   ]
  },
  {
   "cell_type": "code",
   "execution_count": null,
   "metadata": {},
   "outputs": [],
   "source": [
    "from sklearn.cluster import KMeans"
   ]
  },
  {
   "cell_type": "code",
   "execution_count": null,
   "metadata": {},
   "outputs": [],
   "source": [
    "k_means = KMeans(n_clusters=8)\n",
    "k_means.fit(X)"
   ]
  }
 ],
 "metadata": {
  "kernelspec": {
   "display_name": "Python 3",
   "language": "python",
   "name": "python3"
  },
  "language_info": {
   "codemirror_mode": {
    "name": "ipython",
    "version": 3
   },
   "file_extension": ".py",
   "mimetype": "text/x-python",
   "name": "python",
   "nbconvert_exporter": "python",
   "pygments_lexer": "ipython3",
   "version": "3.6.4"
  }
 },
 "nbformat": 4,
 "nbformat_minor": 2
}
