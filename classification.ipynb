{
 "cells": [
  {
   "cell_type": "markdown",
   "metadata": {
    "deletable": true,
    "editable": true
   },
   "source": [
    "# Classifying the directions"
   ]
  },
  {
   "cell_type": "markdown",
   "metadata": {
    "deletable": true,
    "editable": true
   },
   "source": [
    "## Introduction\n",
    "\n",
    "**Data: **stage directions from all the plays\n",
    "\n",
    "* quantity: 22k+, unique: 13 955,\n",
    "    - annotated: 1 150, unique: 858\n",
    "\n",
    "**Goal: **classify the direction into 9 categories, as in TEI-P5 standard.\n",
    "\n",
    "**Algorithms: **\n",
    "\n",
    "* kNN,\n",
    "* Decision Tree,\n",
    "* Random Forest"
   ]
  },
  {
   "cell_type": "code",
   "execution_count": 1,
   "metadata": {
    "collapsed": true,
    "deletable": true,
    "editable": true
   },
   "outputs": [],
   "source": [
    "import os"
   ]
  },
  {
   "cell_type": "code",
   "execution_count": 2,
   "metadata": {
    "collapsed": true,
    "deletable": true,
    "editable": true
   },
   "outputs": [],
   "source": [
    "annotated_path = \".\" + os.sep + \"csv\" + os.sep + \"annotated_dirs.csv\"\n",
    "shares_path = \".\" + os.sep + \"csv\" + os.sep + \"shares_dirs.csv\""
   ]
  },
  {
   "cell_type": "markdown",
   "metadata": {
    "deletable": true,
    "editable": true
   },
   "source": [
    "## Working with the data"
   ]
  },
  {
   "cell_type": "markdown",
   "metadata": {
    "deletable": true,
    "editable": true
   },
   "source": [
    "### Loading"
   ]
  },
  {
   "cell_type": "code",
   "execution_count": 3,
   "metadata": {
    "collapsed": true,
    "deletable": true,
    "editable": true
   },
   "outputs": [],
   "source": [
    "import pandas as pd\n",
    "import numpy as np"
   ]
  },
  {
   "cell_type": "markdown",
   "metadata": {
    "deletable": true,
    "editable": true
   },
   "source": [
    "First, the **preannotated directions** from five plays:\n",
    "\n",
    "* “Svoi ljudi — sochtiomsja” (_It’s a Family Affair — We’ll Settle It Ourselves_) by Alexander Ostrovsky,\n",
    "* “Khorev”, by Alexander Sumarokov,\n",
    "* “Balaganchik”', by Alexander Blok,\n",
    "* “Revizor”, (_The Government Inspector_) by Nikolai Gogol,\n",
    "* “Djadja Vanja”, (_Uncle Vanja_) by Anton Chekhov."
   ]
  },
  {
   "cell_type": "code",
   "execution_count": 4,
   "metadata": {
    "collapsed": false,
    "deletable": true,
    "editable": true
   },
   "outputs": [
    {
     "data": {
      "text/html": [
       "<div>\n",
       "<style scoped>\n",
       "    .dataframe tbody tr th:only-of-type {\n",
       "        vertical-align: middle;\n",
       "    }\n",
       "\n",
       "    .dataframe tbody tr th {\n",
       "        vertical-align: top;\n",
       "    }\n",
       "\n",
       "    .dataframe thead th {\n",
       "        text-align: right;\n",
       "    }\n",
       "</style>\n",
       "<table border=\"1\" class=\"dataframe\">\n",
       "  <thead>\n",
       "    <tr style=\"text-align: right;\">\n",
       "      <th></th>\n",
       "      <th>TEI type</th>\n",
       "    </tr>\n",
       "    <tr>\n",
       "      <th>Text</th>\n",
       "      <th></th>\n",
       "    </tr>\n",
       "  </thead>\n",
       "  <tbody>\n",
       "    <tr>\n",
       "      <th>гостиная в доме большова</th>\n",
       "      <td>setting</td>\n",
       "    </tr>\n",
       "    <tr>\n",
       "      <th>сидит у окна с книгой</th>\n",
       "      <td>business</td>\n",
       "    </tr>\n",
       "    <tr>\n",
       "      <th>с жаром</th>\n",
       "      <td>delivery</td>\n",
       "    </tr>\n",
       "    <tr>\n",
       "      <th>вздыхает</th>\n",
       "      <td>delivery</td>\n",
       "    </tr>\n",
       "    <tr>\n",
       "      <th>молчание</th>\n",
       "      <td>delivery</td>\n",
       "    </tr>\n",
       "  </tbody>\n",
       "</table>\n",
       "</div>"
      ],
      "text/plain": [
       "                          TEI type\n",
       "Text                              \n",
       "гостиная в доме большова   setting\n",
       "сидит у окна с книгой     business\n",
       "с жаром                   delivery\n",
       "вздыхает                  delivery\n",
       "молчание                  delivery"
      ]
     },
     "execution_count": 4,
     "metadata": {},
     "output_type": "execute_result"
    }
   ],
   "source": [
    "annotated_dirs = pd.read_csv(annotated_path, sep=\";\", encoding=\"utf-8\")\n",
    "annotated_dirs.drop_duplicates(inplace=True)\n",
    "annotated_dirs.set_index(\"Text\", inplace=True)\n",
    "annotated_dirs.head()"
   ]
  },
  {
   "cell_type": "markdown",
   "metadata": {
    "deletable": true,
    "editable": true
   },
   "source": [
    "After that, **the dataset with information from [means-merged-features notebook](./means-merged-features.ipynb)**."
   ]
  },
  {
   "cell_type": "code",
   "execution_count": 5,
   "metadata": {
    "collapsed": false,
    "deletable": true,
    "editable": true
   },
   "outputs": [
    {
     "data": {
      "text/html": [
       "<div>\n",
       "<style scoped>\n",
       "    .dataframe tbody tr th:only-of-type {\n",
       "        vertical-align: middle;\n",
       "    }\n",
       "\n",
       "    .dataframe tbody tr th {\n",
       "        vertical-align: top;\n",
       "    }\n",
       "\n",
       "    .dataframe thead th {\n",
       "        text-align: right;\n",
       "    }\n",
       "</style>\n",
       "<table border=\"1\" class=\"dataframe\">\n",
       "  <thead>\n",
       "    <tr style=\"text-align: right;\">\n",
       "      <th></th>\n",
       "      <th>ADJ</th>\n",
       "      <th>ADVB</th>\n",
       "      <th>INTJ</th>\n",
       "      <th>NOUN</th>\n",
       "      <th>PREP</th>\n",
       "      <th>VERB</th>\n",
       "    </tr>\n",
       "    <tr>\n",
       "      <th>Text</th>\n",
       "      <th></th>\n",
       "      <th></th>\n",
       "      <th></th>\n",
       "      <th></th>\n",
       "      <th></th>\n",
       "      <th></th>\n",
       "    </tr>\n",
       "  </thead>\n",
       "  <tbody>\n",
       "    <tr>\n",
       "      <th>входит брат бертольд</th>\n",
       "      <td>0.00</td>\n",
       "      <td>0.0</td>\n",
       "      <td>0.0</td>\n",
       "      <td>0.666667</td>\n",
       "      <td>0.00</td>\n",
       "      <td>0.333333</td>\n",
       "    </tr>\n",
       "    <tr>\n",
       "      <th>бертольд и франц</th>\n",
       "      <td>0.00</td>\n",
       "      <td>0.0</td>\n",
       "      <td>0.0</td>\n",
       "      <td>0.666667</td>\n",
       "      <td>0.00</td>\n",
       "      <td>0.000000</td>\n",
       "    </tr>\n",
       "    <tr>\n",
       "      <th>входит мартын</th>\n",
       "      <td>0.00</td>\n",
       "      <td>0.0</td>\n",
       "      <td>0.0</td>\n",
       "      <td>0.500000</td>\n",
       "      <td>0.00</td>\n",
       "      <td>0.500000</td>\n",
       "    </tr>\n",
       "    <tr>\n",
       "      <th>расходятся в разные стороны</th>\n",
       "      <td>0.25</td>\n",
       "      <td>0.0</td>\n",
       "      <td>0.0</td>\n",
       "      <td>0.250000</td>\n",
       "      <td>0.25</td>\n",
       "      <td>0.250000</td>\n",
       "    </tr>\n",
       "    <tr>\n",
       "      <th>почесывается</th>\n",
       "      <td>0.00</td>\n",
       "      <td>0.0</td>\n",
       "      <td>0.0</td>\n",
       "      <td>0.000000</td>\n",
       "      <td>0.00</td>\n",
       "      <td>1.000000</td>\n",
       "    </tr>\n",
       "  </tbody>\n",
       "</table>\n",
       "</div>"
      ],
      "text/plain": [
       "                              ADJ  ADVB  INTJ      NOUN  PREP      VERB\n",
       "Text                                                                   \n",
       "входит брат бертольд         0.00   0.0   0.0  0.666667  0.00  0.333333\n",
       "бертольд и франц             0.00   0.0   0.0  0.666667  0.00  0.000000\n",
       "входит мартын                0.00   0.0   0.0  0.500000  0.00  0.500000\n",
       "расходятся в разные стороны  0.25   0.0   0.0  0.250000  0.25  0.250000\n",
       "почесывается                 0.00   0.0   0.0  0.000000  0.00  1.000000"
      ]
     },
     "execution_count": 5,
     "metadata": {},
     "output_type": "execute_result"
    }
   ],
   "source": [
    "shares = pd.read_csv(shares_path, sep=\";\", encoding=\"utf-8\")\n",
    "shares.drop_duplicates(inplace=True)\n",
    "shares.set_index(\"Text\", inplace=True)\n",
    "shares.head()"
   ]
  },
  {
   "cell_type": "markdown",
   "metadata": {
    "deletable": true,
    "editable": true
   },
   "source": [
    "### Merging\n",
    "\n",
    "Both datasets will be merged in order to have everything in one place for more convenient use."
   ]
  },
  {
   "cell_type": "code",
   "execution_count": 6,
   "metadata": {
    "collapsed": false,
    "deletable": true,
    "editable": true
   },
   "outputs": [
    {
     "data": {
      "text/html": [
       "<div>\n",
       "<style scoped>\n",
       "    .dataframe tbody tr th:only-of-type {\n",
       "        vertical-align: middle;\n",
       "    }\n",
       "\n",
       "    .dataframe tbody tr th {\n",
       "        vertical-align: top;\n",
       "    }\n",
       "\n",
       "    .dataframe thead th {\n",
       "        text-align: right;\n",
       "    }\n",
       "</style>\n",
       "<table border=\"1\" class=\"dataframe\">\n",
       "  <thead>\n",
       "    <tr style=\"text-align: right;\">\n",
       "      <th></th>\n",
       "      <th>TEI type</th>\n",
       "      <th>ADJ</th>\n",
       "      <th>ADVB</th>\n",
       "      <th>INTJ</th>\n",
       "      <th>NOUN</th>\n",
       "      <th>PREP</th>\n",
       "      <th>VERB</th>\n",
       "    </tr>\n",
       "    <tr>\n",
       "      <th>Text</th>\n",
       "      <th></th>\n",
       "      <th></th>\n",
       "      <th></th>\n",
       "      <th></th>\n",
       "      <th></th>\n",
       "      <th></th>\n",
       "      <th></th>\n",
       "    </tr>\n",
       "  </thead>\n",
       "  <tbody>\n",
       "    <tr>\n",
       "      <th>«да куда ж он делся-то, господи?»</th>\n",
       "      <td>setting</td>\n",
       "      <td>0.000000</td>\n",
       "      <td>0.000000</td>\n",
       "      <td>0.0</td>\n",
       "      <td>0.181818</td>\n",
       "      <td>0.000000</td>\n",
       "      <td>0.090909</td>\n",
       "    </tr>\n",
       "    <tr>\n",
       "      <th>«дома, что ли-ча, лазарь?»</th>\n",
       "      <td>setting</td>\n",
       "      <td>0.000000</td>\n",
       "      <td>0.000000</td>\n",
       "      <td>0.0</td>\n",
       "      <td>0.200000</td>\n",
       "      <td>0.000000</td>\n",
       "      <td>0.000000</td>\n",
       "    </tr>\n",
       "    <tr>\n",
       "      <th>автор опять испуганно высовывается, но быстро исчезает, как будто его оттянул кто-то за фалды</th>\n",
       "      <td>mixed</td>\n",
       "      <td>0.000000</td>\n",
       "      <td>0.166667</td>\n",
       "      <td>0.0</td>\n",
       "      <td>0.111111</td>\n",
       "      <td>0.055556</td>\n",
       "      <td>0.166667</td>\n",
       "    </tr>\n",
       "    <tr>\n",
       "      <th>автор хочет соединить руки коломбины и пьеро. но внезапно все декорации взвиваются и улетают вверх. маски разбегаются. автор оказывается склоненным над одним только пьеро, который беспомощно лежит на пустой сцене в белом балахоне своем с красными пуговицами. заметив свое положение, автор убегает стремительно</th>\n",
       "      <td>setting</td>\n",
       "      <td>0.142857</td>\n",
       "      <td>0.081633</td>\n",
       "      <td>0.0</td>\n",
       "      <td>0.285714</td>\n",
       "      <td>0.081633</td>\n",
       "      <td>0.163265</td>\n",
       "    </tr>\n",
       "    <tr>\n",
       "      <th>аграфена кондратьевна и липочка (разряженная</th>\n",
       "      <td>modifier</td>\n",
       "      <td>0.000000</td>\n",
       "      <td>0.000000</td>\n",
       "      <td>0.0</td>\n",
       "      <td>0.500000</td>\n",
       "      <td>0.000000</td>\n",
       "      <td>0.000000</td>\n",
       "    </tr>\n",
       "  </tbody>\n",
       "</table>\n",
       "</div>"
      ],
      "text/plain": [
       "                                                    TEI type       ADJ  \\\n",
       "Text                                                                     \n",
       "«да куда ж он делся-то, господи?»                    setting  0.000000   \n",
       "«дома, что ли-ча, лазарь?»                           setting  0.000000   \n",
       "автор опять испуганно высовывается, но быстро и...     mixed  0.000000   \n",
       "автор хочет соединить руки коломбины и пьеро. н...   setting  0.142857   \n",
       "аграфена кондратьевна и липочка (разряженная        modifier  0.000000   \n",
       "\n",
       "                                                        ADVB  INTJ      NOUN  \\\n",
       "Text                                                                           \n",
       "«да куда ж он делся-то, господи?»                   0.000000   0.0  0.181818   \n",
       "«дома, что ли-ча, лазарь?»                          0.000000   0.0  0.200000   \n",
       "автор опять испуганно высовывается, но быстро и...  0.166667   0.0  0.111111   \n",
       "автор хочет соединить руки коломбины и пьеро. н...  0.081633   0.0  0.285714   \n",
       "аграфена кондратьевна и липочка (разряженная        0.000000   0.0  0.500000   \n",
       "\n",
       "                                                        PREP      VERB  \n",
       "Text                                                                    \n",
       "«да куда ж он делся-то, господи?»                   0.000000  0.090909  \n",
       "«дома, что ли-ча, лазарь?»                          0.000000  0.000000  \n",
       "автор опять испуганно высовывается, но быстро и...  0.055556  0.166667  \n",
       "автор хочет соединить руки коломбины и пьеро. н...  0.081633  0.163265  \n",
       "аграфена кондратьевна и липочка (разряженная        0.000000  0.000000  "
      ]
     },
     "execution_count": 6,
     "metadata": {},
     "output_type": "execute_result"
    }
   ],
   "source": [
    "annotated_dirs = annotated_dirs.join(shares)\n",
    "annotated_dirs.head()"
   ]
  },
  {
   "cell_type": "markdown",
   "metadata": {
    "deletable": true,
    "editable": true
   },
   "source": [
    "## Preprocessing"
   ]
  },
  {
   "cell_type": "markdown",
   "metadata": {
    "deletable": true,
    "editable": true
   },
   "source": [
    "### Normalization\n",
    "\n",
    "All the directions will be normalized: the words will be turned into their normal form (i.e. _играл_ -> _играть_, _стулья_ -> _стул_, etc.).Stop words (such as interjections) will not be removed, because they might be important for identifying direction type.\n",
    "\n",
    "It is also common practiсe to turn eveything to lowercase, and the directions are all lowercase already."
   ]
  },
  {
   "cell_type": "code",
   "execution_count": 7,
   "metadata": {
    "collapsed": false,
    "deletable": true,
    "editable": true
   },
   "outputs": [],
   "source": [
    "from pymorphy2 import MorphAnalyzer\n",
    "from nltk.tokenize import wordpunct_tokenize\n",
    "import string\n",
    "\n",
    "morph = MorphAnalyzer()\n",
    "punct = string.punctuation + \"«»\""
   ]
  },
  {
   "cell_type": "code",
   "execution_count": 8,
   "metadata": {
    "collapsed": true,
    "deletable": true,
    "editable": true
   },
   "outputs": [],
   "source": [
    "def normalize(text):\n",
    "    text = text.lower()\n",
    "    \n",
    "    tokens = wordpunct_tokenize(text)\n",
    "    \n",
    "    lemmas_raw = [morph.parse(token)[0].normal_form for token in tokens]\n",
    "    lemmas = [lemma for lemma in lemmas_raw \n",
    "              if lemma not in punct\n",
    "             and lemma != \"?»\"]\n",
    "    \n",
    "    return \" \".join(lemmas)"
   ]
  },
  {
   "cell_type": "code",
   "execution_count": 9,
   "metadata": {
    "collapsed": true,
    "deletable": true,
    "editable": true
   },
   "outputs": [],
   "source": [
    "annotated_dirs[\"Normalized text\"] = annotated_dirs.index.map(normalize)\n",
    "shares[\"Normalized text\"] = shares.index.map(normalize)"
   ]
  },
  {
   "cell_type": "code",
   "execution_count": 10,
   "metadata": {
    "collapsed": false,
    "deletable": true,
    "editable": true
   },
   "outputs": [
    {
     "data": {
      "text/html": [
       "<div>\n",
       "<style scoped>\n",
       "    .dataframe tbody tr th:only-of-type {\n",
       "        vertical-align: middle;\n",
       "    }\n",
       "\n",
       "    .dataframe tbody tr th {\n",
       "        vertical-align: top;\n",
       "    }\n",
       "\n",
       "    .dataframe thead th {\n",
       "        text-align: right;\n",
       "    }\n",
       "</style>\n",
       "<table border=\"1\" class=\"dataframe\">\n",
       "  <thead>\n",
       "    <tr style=\"text-align: right;\">\n",
       "      <th></th>\n",
       "      <th>TEI type</th>\n",
       "      <th>ADJ</th>\n",
       "      <th>ADVB</th>\n",
       "      <th>INTJ</th>\n",
       "      <th>NOUN</th>\n",
       "      <th>PREP</th>\n",
       "      <th>VERB</th>\n",
       "      <th>Normalized text</th>\n",
       "    </tr>\n",
       "    <tr>\n",
       "      <th>Text</th>\n",
       "      <th></th>\n",
       "      <th></th>\n",
       "      <th></th>\n",
       "      <th></th>\n",
       "      <th></th>\n",
       "      <th></th>\n",
       "      <th></th>\n",
       "      <th></th>\n",
       "    </tr>\n",
       "  </thead>\n",
       "  <tbody>\n",
       "    <tr>\n",
       "      <th>«да куда ж он делся-то, господи?»</th>\n",
       "      <td>setting</td>\n",
       "      <td>0.000000</td>\n",
       "      <td>0.000000</td>\n",
       "      <td>0.0</td>\n",
       "      <td>0.181818</td>\n",
       "      <td>0.000000</td>\n",
       "      <td>0.090909</td>\n",
       "      <td>да куда ж он деться то господь</td>\n",
       "    </tr>\n",
       "    <tr>\n",
       "      <th>«дома, что ли-ча, лазарь?»</th>\n",
       "      <td>setting</td>\n",
       "      <td>0.000000</td>\n",
       "      <td>0.000000</td>\n",
       "      <td>0.0</td>\n",
       "      <td>0.200000</td>\n",
       "      <td>0.000000</td>\n",
       "      <td>0.000000</td>\n",
       "      <td>дом что ли ча лазарь</td>\n",
       "    </tr>\n",
       "    <tr>\n",
       "      <th>автор опять испуганно высовывается, но быстро исчезает, как будто его оттянул кто-то за фалды</th>\n",
       "      <td>mixed</td>\n",
       "      <td>0.000000</td>\n",
       "      <td>0.166667</td>\n",
       "      <td>0.0</td>\n",
       "      <td>0.111111</td>\n",
       "      <td>0.055556</td>\n",
       "      <td>0.166667</td>\n",
       "      <td>автор опять испуганно высовываться но быстро и...</td>\n",
       "    </tr>\n",
       "    <tr>\n",
       "      <th>автор хочет соединить руки коломбины и пьеро. но внезапно все декорации взвиваются и улетают вверх. маски разбегаются. автор оказывается склоненным над одним только пьеро, который беспомощно лежит на пустой сцене в белом балахоне своем с красными пуговицами. заметив свое положение, автор убегает стремительно</th>\n",
       "      <td>setting</td>\n",
       "      <td>0.142857</td>\n",
       "      <td>0.081633</td>\n",
       "      <td>0.0</td>\n",
       "      <td>0.285714</td>\n",
       "      <td>0.081633</td>\n",
       "      <td>0.163265</td>\n",
       "      <td>автор хотеть соединить рука коломбина и пьеро ...</td>\n",
       "    </tr>\n",
       "    <tr>\n",
       "      <th>аграфена кондратьевна и липочка (разряженная</th>\n",
       "      <td>modifier</td>\n",
       "      <td>0.000000</td>\n",
       "      <td>0.000000</td>\n",
       "      <td>0.0</td>\n",
       "      <td>0.500000</td>\n",
       "      <td>0.000000</td>\n",
       "      <td>0.000000</td>\n",
       "      <td>аграфена кондратий и липочка разрядить</td>\n",
       "    </tr>\n",
       "  </tbody>\n",
       "</table>\n",
       "</div>"
      ],
      "text/plain": [
       "                                                    TEI type       ADJ  \\\n",
       "Text                                                                     \n",
       "«да куда ж он делся-то, господи?»                    setting  0.000000   \n",
       "«дома, что ли-ча, лазарь?»                           setting  0.000000   \n",
       "автор опять испуганно высовывается, но быстро и...     mixed  0.000000   \n",
       "автор хочет соединить руки коломбины и пьеро. н...   setting  0.142857   \n",
       "аграфена кондратьевна и липочка (разряженная        modifier  0.000000   \n",
       "\n",
       "                                                        ADVB  INTJ      NOUN  \\\n",
       "Text                                                                           \n",
       "«да куда ж он делся-то, господи?»                   0.000000   0.0  0.181818   \n",
       "«дома, что ли-ча, лазарь?»                          0.000000   0.0  0.200000   \n",
       "автор опять испуганно высовывается, но быстро и...  0.166667   0.0  0.111111   \n",
       "автор хочет соединить руки коломбины и пьеро. н...  0.081633   0.0  0.285714   \n",
       "аграфена кондратьевна и липочка (разряженная        0.000000   0.0  0.500000   \n",
       "\n",
       "                                                        PREP      VERB  \\\n",
       "Text                                                                     \n",
       "«да куда ж он делся-то, господи?»                   0.000000  0.090909   \n",
       "«дома, что ли-ча, лазарь?»                          0.000000  0.000000   \n",
       "автор опять испуганно высовывается, но быстро и...  0.055556  0.166667   \n",
       "автор хочет соединить руки коломбины и пьеро. н...  0.081633  0.163265   \n",
       "аграфена кондратьевна и липочка (разряженная        0.000000  0.000000   \n",
       "\n",
       "                                                                                      Normalized text  \n",
       "Text                                                                                                   \n",
       "«да куда ж он делся-то, господи?»                                      да куда ж он деться то господь  \n",
       "«дома, что ли-ча, лазарь?»                                                       дом что ли ча лазарь  \n",
       "автор опять испуганно высовывается, но быстро и...  автор опять испуганно высовываться но быстро и...  \n",
       "автор хочет соединить руки коломбины и пьеро. н...  автор хотеть соединить рука коломбина и пьеро ...  \n",
       "аграфена кондратьевна и липочка (разряженная                   аграфена кондратий и липочка разрядить  "
      ]
     },
     "execution_count": 10,
     "metadata": {},
     "output_type": "execute_result"
    }
   ],
   "source": [
    "annotated_dirs.head()"
   ]
  },
  {
   "cell_type": "markdown",
   "metadata": {
    "deletable": true,
    "editable": true
   },
   "source": [
    "### TF-IDF vectorization\n",
    "\n",
    "At this stage, the directions are vectorized as it is the easiest way to get numbers out of texts. The algorithm is TF-IDF, which is quite common for the NLP tasks and problems."
   ]
  },
  {
   "cell_type": "code",
   "execution_count": 11,
   "metadata": {
    "collapsed": true,
    "deletable": true,
    "editable": true
   },
   "outputs": [],
   "source": [
    "from sklearn.feature_extraction.text import TfidfVectorizer"
   ]
  },
  {
   "cell_type": "code",
   "execution_count": 12,
   "metadata": {
    "collapsed": true,
    "deletable": true,
    "editable": true
   },
   "outputs": [],
   "source": [
    "tfidf = TfidfVectorizer()\n",
    "tfidf.fit(shares[\"Normalized text\"].values)\n",
    "X_tf_sparse = tfidf.transform(annotated_dirs[\"Normalized text\"].values)\n",
    "X_tf = X_tf_sparse.toarray()"
   ]
  },
  {
   "cell_type": "markdown",
   "metadata": {
    "deletable": true,
    "editable": true
   },
   "source": [
    "### Creating feature arrays\n",
    "\n",
    "We will create separate arrays for three series of experiments:\n",
    "\n",
    "1. POS shares,\n",
    "2. TF-IDF vectors of normalized directions,\n",
    "3. Combination of the two mentioned above: POS shares _and_ TF-IDF vectors."
   ]
  },
  {
   "cell_type": "code",
   "execution_count": 13,
   "metadata": {
    "collapsed": true,
    "deletable": true,
    "editable": true
   },
   "outputs": [],
   "source": [
    "pos_cols = [\"ADJ\", \"ADVB\", \"INTJ\", \"NOUN\", \"PREP\", \"VERB\"]\n",
    "X_pos = annotated_dirs[pos_cols].as_matrix()"
   ]
  },
  {
   "cell_type": "markdown",
   "metadata": {
    "deletable": true,
    "editable": true
   },
   "source": [
    "Concatenating the **dense matrices**:"
   ]
  },
  {
   "cell_type": "code",
   "execution_count": 14,
   "metadata": {
    "collapsed": true,
    "deletable": true,
    "editable": true
   },
   "outputs": [],
   "source": [
    "X_total = np.concatenate((X_tf, X_pos), axis=1)"
   ]
  },
  {
   "cell_type": "markdown",
   "metadata": {},
   "source": [
    "Concatenating the **sparse matix of vectors and dense — of POS shares**:"
   ]
  },
  {
   "cell_type": "code",
   "execution_count": 15,
   "metadata": {
    "collapsed": true
   },
   "outputs": [],
   "source": [
    "from scipy.sparse import hstack"
   ]
  },
  {
   "cell_type": "code",
   "execution_count": 16,
   "metadata": {
    "collapsed": false
   },
   "outputs": [],
   "source": [
    "X_total_sparse = hstack((X_pos, X_tf_sparse))"
   ]
  },
  {
   "cell_type": "markdown",
   "metadata": {
    "deletable": true,
    "editable": true
   },
   "source": [
    "## Goal variable\n",
    "\n",
    "This classification tool has to predict direction types, hence `TEI type` is our goal variable."
   ]
  },
  {
   "cell_type": "code",
   "execution_count": 17,
   "metadata": {
    "collapsed": true,
    "deletable": true,
    "editable": true
   },
   "outputs": [],
   "source": [
    "y = annotated_dirs[\"TEI type\"].as_matrix()"
   ]
  },
  {
   "cell_type": "markdown",
   "metadata": {
    "deletable": true,
    "editable": true
   },
   "source": [
    "### Encoding categories\n",
    "\n",
    "In order to make the machine learning algorithm work faster, all the types of directions will be encoded. In this case, `LabelEncoder` will be used (because it's much easier to use with the categorical features, such as our types!)."
   ]
  },
  {
   "cell_type": "code",
   "execution_count": 18,
   "metadata": {},
   "outputs": [],
   "source": [
    "from sklearn.preprocessing import LabelEncoder"
   ]
  },
  {
   "cell_type": "code",
   "execution_count": 19,
   "metadata": {},
   "outputs": [
    {
     "data": {
      "text/plain": [
       "array([7, 7, 5, 7, 6, 6, 7, 3, 3, 6, 2, 7, 0, 5, 0, 1, 7, 0, 0, 1, 0, 0,\n",
       "       0, 0, 0, 0, 0, 0, 0, 0, 0, 0, 0, 0, 0, 0, 0, 0, 0, 6, 6, 0, 1, 0,\n",
       "       0, 1, 0, 3, 1, 0, 0, 0, 7, 1, 1, 0, 1, 4, 1, 7, 0, 1, 0, 1, 1, 7,\n",
       "       1, 1, 3, 0, 0, 1, 1, 1, 5, 0, 2, 1, 0, 0, 0, 1, 1, 1, 0, 0, 3, 1,\n",
       "       0, 0, 5, 0, 7, 1, 1, 1, 2, 0, 0, 0, 0, 3, 0, 0, 0, 1, 0, 0, 0, 0,\n",
       "       0, 0, 0, 3, 1, 5, 0, 2, 2, 2, 3, 2, 2, 2, 0, 2, 2, 2, 2, 2, 2, 2,\n",
       "       2, 2, 2, 5, 2, 2, 2, 2, 5, 0, 2, 0, 0, 0, 0, 0, 0, 0, 0, 0, 0, 0,\n",
       "       0, 3, 0, 0, 0, 0, 0, 0, 0, 0, 3, 2, 3, 1, 0, 0, 0, 0, 0, 0, 1, 1,\n",
       "       1, 5, 7, 1, 1, 1, 0, 0, 0, 0, 7, 7, 6, 7, 6, 0, 0, 7, 7, 0, 1, 1,\n",
       "       0, 0, 7, 7, 0, 0, 1, 1, 0, 0, 1, 0, 0, 0, 0, 0, 1, 1, 0, 0, 0, 0,\n",
       "       5, 1, 0, 4, 7, 0, 1, 1, 0, 1, 4, 4, 0, 5, 0, 0, 0, 0, 0, 1, 0, 0,\n",
       "       0, 0, 0, 0, 0, 0, 7, 1, 0, 0, 1, 0, 0, 0, 0, 0, 3, 0, 0, 0, 0, 0,\n",
       "       0, 3, 1, 4, 0, 1, 0, 5, 0, 0, 1, 1, 1, 1, 1, 1, 1, 1, 1, 7, 0, 3,\n",
       "       6, 6, 6, 6, 6, 6, 6, 6, 0, 0, 0, 0, 0, 0, 0, 0, 0, 0, 7, 7, 5, 7,\n",
       "       1, 0, 0, 1, 1, 0, 1, 3, 7, 0, 7, 0, 1, 6, 0, 0, 6, 0, 0, 0, 0, 6,\n",
       "       0, 1, 6, 1, 1, 3, 3, 0, 0, 0, 0, 0, 2, 1, 0, 1, 1, 0, 2, 6, 7, 7,\n",
       "       1, 0, 1, 0, 1, 0, 0, 0, 0, 0, 5, 0, 0, 0, 0, 0, 0, 0, 1, 0, 0, 1,\n",
       "       2, 0, 1, 0, 1, 0, 0, 0, 5, 0, 2, 0, 0, 0, 0, 0, 3, 3, 0, 0, 0, 0,\n",
       "       0, 1, 1, 1, 1, 0, 0, 0, 7, 0, 0, 6, 2, 6, 0, 7, 0, 7, 3, 5, 0, 6,\n",
       "       5, 0, 2, 6, 3, 1, 0, 6, 6, 0, 0, 1, 0, 6, 0, 0, 0, 0, 0, 0, 0, 0,\n",
       "       0, 0, 0, 0, 0, 0, 0, 0, 0, 7, 7, 7, 5, 1, 1, 0, 0, 0, 1, 0, 0, 1,\n",
       "       0, 0, 7, 5, 0, 0, 0, 0, 0, 0, 0, 0, 0, 0, 0, 5, 0, 0, 1, 0, 0, 2,\n",
       "       6, 6, 0, 0, 6, 0, 0, 0, 0, 0, 0, 0, 0, 0, 0, 0, 0, 0, 1, 0, 0, 0,\n",
       "       0, 1, 0, 0, 0, 0, 0, 7, 7, 0, 0, 0, 0, 0, 0, 0, 0, 0, 0, 0, 0, 0,\n",
       "       1, 0, 0, 1, 1, 5, 0, 0, 0, 0, 3, 0, 0, 0, 5, 0, 0, 0, 7, 0, 0, 0,\n",
       "       0, 0, 1, 7, 0, 1, 1, 0, 0, 0, 0, 1, 0, 1, 0, 0, 0, 0, 1, 7, 1, 5,\n",
       "       0, 0, 0, 0, 0, 0, 7, 0, 0, 5, 5, 0, 0, 0, 0, 0, 1, 1, 1, 0, 1, 0,\n",
       "       0, 0, 0, 0, 0, 1, 0, 0, 0, 0, 0, 0, 0, 0, 0, 0, 1, 1, 1, 1, 1, 1,\n",
       "       1, 1, 7, 1, 1, 7, 0, 0, 0, 0, 0, 0, 0, 0, 0, 0, 2, 0, 0, 0, 1, 1,\n",
       "       0, 7, 0, 3, 1, 0, 0, 1, 0, 1, 3, 5, 1, 7, 7, 2, 0, 0, 0, 0, 1, 0,\n",
       "       0, 0, 0, 0, 0, 1, 1, 1, 7, 3, 1, 1, 3, 0, 0, 0, 0, 0, 5, 0, 0, 1,\n",
       "       0, 7, 5, 1, 0, 1, 0, 7, 0, 0, 0, 7, 0, 0, 0, 0, 1, 1, 1, 6, 6, 6,\n",
       "       6, 6, 6, 6, 6, 5, 2, 6, 6, 0, 5, 5, 6, 6, 6, 6, 6, 6, 6, 6, 5, 6,\n",
       "       6, 6, 5, 6, 6, 6, 6, 6, 6, 6, 6, 6, 0, 5, 0, 5, 0, 0, 0, 7, 1, 1,\n",
       "       1, 0, 2, 5, 0, 5, 3, 0, 1, 1, 0, 7, 0, 1, 0, 0, 0, 0, 1, 0, 1, 0,\n",
       "       0, 0, 1, 0, 0, 0, 6, 0, 3, 3, 3, 3, 5, 3, 3, 3, 3, 3, 3, 3, 5, 6,\n",
       "       5, 0, 3, 1, 0, 0, 1, 6, 0, 6, 7, 6, 7, 2, 0, 0, 6, 5, 6, 6, 6, 6,\n",
       "       1, 0, 5, 0, 0, 0, 6, 6, 0, 0, 0, 0, 1, 1, 1, 0, 0, 0, 0, 0, 0, 0,\n",
       "       5, 0, 0, 0, 0, 0, 0, 0, 0, 0, 0, 0, 0, 1, 0, 1, 1, 0, 0, 1, 1, 7])"
      ]
     },
     "execution_count": 19,
     "metadata": {},
     "output_type": "execute_result"
    }
   ],
   "source": [
    "le = LabelEncoder()\n",
    "le.fit_transform(y)"
   ]
  },
  {
   "cell_type": "markdown",
   "metadata": {},
   "source": [
    "This is how categories were encoded:"
   ]
  },
  {
   "cell_type": "code",
   "execution_count": 20,
   "metadata": {},
   "outputs": [
    {
     "name": "stdout",
     "output_type": "stream",
     "text": [
      "business - 0\n",
      "delivery - 1\n",
      "entrance - 2\n",
      "exit - 3\n",
      "location - 4\n",
      "mixed - 5\n",
      "modifier - 6\n",
      "setting - 7\n"
     ]
    }
   ],
   "source": [
    "for label, category in enumerate(le.classes_):\n",
    "    print(\"{} - {}\".format(category, label))"
   ]
  },
  {
   "cell_type": "markdown",
   "metadata": {},
   "source": [
    "#### Label binarization\n",
    "\n",
    "While testing metrics, found out that label binarization is required for calculating the ROC-AUC score."
   ]
  },
  {
   "cell_type": "code",
   "execution_count": 21,
   "metadata": {
    "collapsed": true,
    "deletable": true,
    "editable": true
   },
   "outputs": [],
   "source": [
    "from sklearn.preprocessing import label_binarize"
   ]
  },
  {
   "cell_type": "code",
   "execution_count": 22,
   "metadata": {
    "collapsed": true,
    "deletable": true,
    "editable": true
   },
   "outputs": [],
   "source": [
    "y_bin = label_binarize(y, classes=[0,8])"
   ]
  },
  {
   "cell_type": "markdown",
   "metadata": {
    "deletable": true,
    "editable": true
   },
   "source": [
    "## Machine learning\n",
    "\n",
    "We'll run three series of experiments:\n",
    "\n",
    "1. POS shares,\n",
    "2. TF-IDF vectors of normalized directions,\n",
    "3. Combination of the two mentioned above: POS shares _and_ TF-IDF vectors.\n",
    "\n",
    "(they were also mentioned in _Creating feature arrays_ part)\n",
    "\n",
    "All the models will undergo **5-fold cross-validation**."
   ]
  },
  {
   "cell_type": "code",
   "execution_count": 23,
   "metadata": {
    "collapsed": true
   },
   "outputs": [],
   "source": [
    "experiments_data = [(\"TF-IDF\", X_tf_sparse), \n",
    "               (\"POS\", X_pos), \n",
    "               (\"TF-IDF + POS\", X_total_sparse)]"
   ]
  },
  {
   "cell_type": "markdown",
   "metadata": {},
   "source": [
    "### Grid search\n",
    "\n",
    "In order not to copypaste the code, let's wrap all the grid searches and evaluations into the functions."
   ]
  },
  {
   "cell_type": "code",
   "execution_count": 24,
   "metadata": {
    "collapsed": true,
    "deletable": true,
    "editable": true
   },
   "outputs": [],
   "source": [
    "from sklearn.model_selection import GridSearchCV"
   ]
  },
  {
   "cell_type": "code",
   "execution_count": 25,
   "metadata": {
    "collapsed": true,
    "deletable": true,
    "editable": true
   },
   "outputs": [],
   "source": [
    "def train_model(model, train_data, params):\n",
    "    grid = GridSearchCV(\n",
    "        model,\n",
    "        param_grid=params,\n",
    "        cv=5,\n",
    "        n_jobs=-1\n",
    "    )\n",
    "    grid.fit(train_data, y)\n",
    "    return grid"
   ]
  },
  {
   "cell_type": "code",
   "execution_count": 26,
   "metadata": {},
   "outputs": [],
   "source": [
    "def compute_best(algorithm, params):\n",
    "    for label, train_set in experiments_data:\n",
    "        print(\"Start training: {}\".format(label))\n",
    "        ready_model = train_model(algorithm, \n",
    "                                 train_set,\n",
    "                                 params)\n",
    "        print(\"Finish training: {}\".format(label))\n",
    "        print(\"\\t- best parameters: {}\\n\\t- best score: {}\".format(ready_model.best_params_, \n",
    "                                                             ready_model.best_score_))"
   ]
  },
  {
   "cell_type": "markdown",
   "metadata": {
    "deletable": true,
    "editable": true
   },
   "source": [
    "### K Nearest Neighbors"
   ]
  },
  {
   "cell_type": "code",
   "execution_count": 27,
   "metadata": {
    "collapsed": true,
    "deletable": true,
    "editable": true
   },
   "outputs": [],
   "source": [
    "from sklearn.neighbors import KNeighborsClassifier"
   ]
  },
  {
   "cell_type": "code",
   "execution_count": 28,
   "metadata": {
    "collapsed": true,
    "deletable": true,
    "editable": true
   },
   "outputs": [
    {
     "name": "stdout",
     "output_type": "stream",
     "text": [
      "Start training: TF-IDF\n",
      "Finish training: TF-IDF\n",
      "\t- best parameters: {'n_neighbors': 23}\n",
      "\t- best score: 0.627039627039627\n",
      "Start training: POS\n",
      "Finish training: POS\n",
      "\t- best parameters: {'n_neighbors': 23}\n",
      "\t- best score: 0.6433566433566433\n",
      "Start training: TF-IDF + POS\n",
      "Finish training: TF-IDF + POS\n",
      "\t- best parameters: {'n_neighbors': 23}\n",
      "\t- best score: 0.7051282051282052\n"
     ]
    }
   ],
   "source": [
    "knn_params = {\"n_neighbors\": np.arange(1, 102, 2)}\n",
    "compute_best(KNeighborsClassifier(), knn_params)"
   ]
  },
  {
   "cell_type": "markdown",
   "metadata": {
    "deletable": true,
    "editable": true
   },
   "source": [
    "### Decision Tree"
   ]
  },
  {
   "cell_type": "code",
   "execution_count": 29,
   "metadata": {
    "collapsed": true,
    "deletable": true,
    "editable": true
   },
   "outputs": [],
   "source": [
    "from sklearn.tree import DecisionTreeClassifier"
   ]
  },
  {
   "cell_type": "code",
   "execution_count": 30,
   "metadata": {
    "collapsed": true,
    "deletable": true,
    "editable": true
   },
   "outputs": [
    {
     "name": "stdout",
     "output_type": "stream",
     "text": [
      "Start training: TF-IDF\n",
      "Finish training: TF-IDF\n",
      "\t- best parameters: {'max_depth': 66}\n",
      "\t- best score: 0.6445221445221445\n",
      "Start training: POS\n",
      "Finish training: POS\n",
      "\t- best parameters: {'max_depth': 10}\n",
      "\t- best score: 0.6421911421911422\n",
      "Start training: TF-IDF + POS\n",
      "Finish training: TF-IDF + POS\n",
      "\t- best parameters: {'max_depth': 18}\n",
      "\t- best score: 0.7191142191142191\n"
     ]
    }
   ],
   "source": [
    "tree_params = {\"max_depth\": np.arange(1, 101)}\n",
    "compute_best(DecisionTreeClassifier(), tree_params)"
   ]
  },
  {
   "cell_type": "markdown",
   "metadata": {
    "deletable": true,
    "editable": true
   },
   "source": [
    "### Random Forest"
   ]
  },
  {
   "cell_type": "code",
   "execution_count": 31,
   "metadata": {
    "collapsed": true,
    "deletable": true,
    "editable": true
   },
   "outputs": [],
   "source": [
    "from sklearn.ensemble import RandomForestClassifier"
   ]
  },
  {
   "cell_type": "code",
   "execution_count": 32,
   "metadata": {
    "collapsed": true,
    "deletable": true,
    "editable": true
   },
   "outputs": [
    {
     "name": "stdout",
     "output_type": "stream",
     "text": [
      "Start training: TF-IDF\n",
      "Finish training: TF-IDF\n",
      "\t- best parameters: {'n_estimators': 65}\n",
      "\t- best score: 0.6666666666666666\n",
      "Start training: POS\n",
      "Finish training: POS\n",
      "\t- best parameters: {'n_estimators': 20}\n",
      "\t- best score: 0.6573426573426573\n",
      "Start training: TF-IDF + POS\n",
      "Finish training: TF-IDF + POS\n",
      "\t- best parameters: {'n_estimators': 50}\n",
      "\t- best score: 0.7400932400932401\n"
     ]
    }
   ],
   "source": [
    "forest_params = {\"n_estimators\": np.arange(1, 101)}\n",
    "compute_best(RandomForestClassifier(random_state=1968), forest_params)"
   ]
  }
 ],
 "metadata": {
  "kernelspec": {
   "display_name": "Python 3",
   "language": "python",
   "name": "python3"
  },
  "language_info": {
   "codemirror_mode": {
    "name": "ipython",
    "version": 3
   },
   "file_extension": ".py",
   "mimetype": "text/x-python",
   "name": "python",
   "nbconvert_exporter": "python",
   "pygments_lexer": "ipython3",
   "version": "3.6.4"
  }
 },
 "nbformat": 4,
 "nbformat_minor": 2
}
