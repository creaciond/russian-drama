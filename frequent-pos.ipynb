{
 "cells": [
  {
   "cell_type": "markdown",
   "metadata": {},
   "source": [
    "# Most frequent parts of speech\n",
    "\n",
    "As a side story, we'll take a look at what the most frequent lemmas and directions are."
   ]
  },
  {
   "cell_type": "markdown",
   "metadata": {},
   "source": [
    "## Data\n",
    "\n",
    "First, we have to load the directions; they are all stored in `all_directions.txt` and `directions` variable; apart from that, we'll count some parts of speech in `pos_dict` dictionary."
   ]
  },
  {
   "cell_type": "code",
   "execution_count": 1,
   "metadata": {},
   "outputs": [],
   "source": [
    "import os"
   ]
  },
  {
   "cell_type": "code",
   "execution_count": 2,
   "metadata": {},
   "outputs": [],
   "source": [
    "alldirs_path = \"..\" + os.sep + \"directions\" + os.sep + \"all_directions.txt\"\n",
    "with open(alldirs_path, \"r\", encoding=\"utf-8\") as f:\n",
    "    directions = [line.strip(\"\\n\") for line in f.readlines()]"
   ]
  },
  {
   "cell_type": "code",
   "execution_count": 3,
   "metadata": {},
   "outputs": [],
   "source": [
    "pos_dict = {\"ADJ\": [], \"ADVB\": [], \"INTJ\": [], \"NOUN\": [], \"PREP\": [], \"VERB\": []}"
   ]
  },
  {
   "cell_type": "markdown",
   "metadata": {},
   "source": [
    "## Extracting lemmas"
   ]
  },
  {
   "cell_type": "code",
   "execution_count": 4,
   "metadata": {},
   "outputs": [],
   "source": [
    "from nltk import wordpunct_tokenize\n",
    "from pymorphy2 import MorphAnalyzer\n",
    "\n",
    "morph = MorphAnalyzer()"
   ]
  },
  {
   "cell_type": "code",
   "execution_count": 5,
   "metadata": {},
   "outputs": [],
   "source": [
    "def count_pos(direction, pos_dict):\n",
    "    tokens = wordpunct_tokenize(direction)\n",
    "    for token in tokens:\n",
    "        try:\n",
    "            analysis = morph.parse(token)[0]\n",
    "            lemma = str(analysis.normal_form)\n",
    "            pos = str(analysis.tag.POS)\n",
    "            if pos != \"PUNCT\":\n",
    "                if pos in set([\"ADJF\", \"ADJS\", \"COMP\"]):\n",
    "                    pos_dict[\"ADJ\"].append(lemma)\n",
    "                elif pos in set([\"VERB\", \"INFN\"]):\n",
    "                    pos_dict[\"VERB\"].append(lemma)\n",
    "                elif pos in pos_dict.keys():\n",
    "                    pos_dict[pos].append(lemma)\n",
    "        except:\n",
    "            pass\n",
    "    return pos_dict"
   ]
  },
  {
   "cell_type": "code",
   "execution_count": 6,
   "metadata": {},
   "outputs": [],
   "source": [
    "for direction in directions:\n",
    "    pos_dict = count_pos(direction, pos_dict)"
   ]
  },
  {
   "cell_type": "markdown",
   "metadata": {},
   "source": [
    "## Counters"
   ]
  },
  {
   "cell_type": "code",
   "execution_count": 7,
   "metadata": {},
   "outputs": [],
   "source": [
    "from collections import Counter"
   ]
  },
  {
   "cell_type": "code",
   "execution_count": 8,
   "metadata": {},
   "outputs": [
    {
     "name": "stdout",
     "output_type": "stream",
     "text": [
      "\n",
      "10 most common ADJ\n",
      "567: тот\n",
      "558: весь\n",
      "473: один\n",
      "233: который\n",
      "232: другой\n",
      "189: свой\n",
      "163: передний\n",
      "140: слышный\n",
      "115: гостиный\n",
      "112: муромский\n",
      "\n",
      "10 most common ADVB\n",
      "308: тихо\n",
      "269: потом\n",
      "165: несколько\n",
      "162: быстро\n",
      "137: громко\n",
      "132: опять\n",
      "91: вдруг\n",
      "85: вслед\n",
      "83: тоже\n",
      "81: вполголоса\n",
      "\n",
      "10 most common NOUN\n",
      "1219: рука\n",
      "1015: дверь\n",
      "636: сторона\n",
      "487: стол\n",
      "395: пауза\n",
      "344: иван\n",
      "332: голова\n",
      "321: голос\n",
      "319: комната\n",
      "262: окно\n",
      "\n",
      "10 most common VERB\n",
      "1393: уходить\n",
      "1147: входить\n",
      "498: садиться\n",
      "460: идти\n",
      "405: подходить\n",
      "394: брать\n",
      "294: выходить\n",
      "294: смотреть\n",
      "260: вставать\n",
      "259: целовать\n"
     ]
    }
   ],
   "source": [
    "for pos in [pos for pos in pos_dict.keys() if pos not in [\"INTJ\", \"PREP\"]]:\n",
    "    print(\"\\n10 most common {}\".format(pos))\n",
    "    c = Counter()\n",
    "    c.update(pos_dict[pos])\n",
    "    for lemma, count in c.most_common(10):\n",
    "        print(\"{}: {}\".format(count, lemma))"
   ]
  },
  {
   "cell_type": "markdown",
   "metadata": {},
   "source": [
    "## Directions"
   ]
  },
  {
   "cell_type": "markdown",
   "metadata": {},
   "source": [
    "Also let's find out 10 most frequent directions:"
   ]
  },
  {
   "cell_type": "code",
   "execution_count": 9,
   "metadata": {},
   "outputs": [],
   "source": [
    "from collections import Counter\n",
    "\n",
    "c = Counter()"
   ]
  },
  {
   "cell_type": "code",
   "execution_count": 10,
   "metadata": {},
   "outputs": [],
   "source": [
    "alldirs_path = \"..\" + os.sep + \"directions\" + os.sep + \"all_directions.txt\"\n",
    "with open(alldirs_path, \"r\", encoding=\"utf-8\") as f:\n",
    "    directions = [line.strip(\"\\n\") for line in f.readlines()]\n",
    "c.update(directions)"
   ]
  },
  {
   "cell_type": "code",
   "execution_count": 11,
   "metadata": {},
   "outputs": [
    {
     "name": "stdout",
     "output_type": "stream",
     "text": [
      "463: уходит\n",
      "346: в сторону\n",
      "330: пауза\n",
      "136: смеется\n",
      "120: про себя\n",
      "102: помолчав\n",
      "98: молчание\n",
      "93: встает\n",
      "91: кричит\n",
      "86: входит\n"
     ]
    }
   ],
   "source": [
    "for direction, count in c.most_common(10):\n",
    "    print(\"{}: {}\".format(count, direction))"
   ]
  }
 ],
 "metadata": {
  "kernelspec": {
   "display_name": "Python 3",
   "language": "python",
   "name": "python3"
  },
  "language_info": {
   "codemirror_mode": {
    "name": "ipython",
    "version": 3
   },
   "file_extension": ".py",
   "mimetype": "text/x-python",
   "name": "python",
   "nbconvert_exporter": "python",
   "pygments_lexer": "ipython3",
   "version": "3.6.5"
  }
 },
 "nbformat": 4,
 "nbformat_minor": 2
}
