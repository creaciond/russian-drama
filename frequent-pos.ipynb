{
 "cells": [
  {
   "cell_type": "markdown",
   "metadata": {},
   "source": [
    "# Most frequent parts-of-speech"
   ]
  },
  {
   "cell_type": "markdown",
   "metadata": {},
   "source": [
    "## Data"
   ]
  },
  {
   "cell_type": "code",
   "execution_count": 1,
   "metadata": {},
   "outputs": [],
   "source": [
    "import os"
   ]
  },
  {
   "cell_type": "code",
   "execution_count": 2,
   "metadata": {},
   "outputs": [],
   "source": [
    "alldirs_path = \"..\" + os.sep + \"directions\" + os.sep + \"all_directions.txt\"\n",
    "with open(alldirs_path, \"r\", encoding=\"utf-8\") as f:\n",
    "    directions = [line.strip(\"\\n\") for line in f.readlines()]"
   ]
  },
  {
   "cell_type": "code",
   "execution_count": 3,
   "metadata": {},
   "outputs": [],
   "source": [
    "pos_dict = {\"ADJ\": [], \"ADVB\": [], \"INTJ\": [], \"NOUN\": [], \"PREP\": [], \"VERB\": []}"
   ]
  },
  {
   "cell_type": "markdown",
   "metadata": {},
   "source": [
    "## Extracting lemmas"
   ]
  },
  {
   "cell_type": "code",
   "execution_count": 4,
   "metadata": {},
   "outputs": [],
   "source": [
    "from nltk import wordpunct_tokenize\n",
    "from pymorphy2 import MorphAnalyzer\n",
    "\n",
    "morph = MorphAnalyzer()"
   ]
  },
  {
   "cell_type": "code",
   "execution_count": 5,
   "metadata": {},
   "outputs": [],
   "source": [
    "def count_pos(direction, pos_dict):\n",
    "    tokens = wordpunct_tokenize(direction)\n",
    "    for token in tokens:\n",
    "        try:\n",
    "            analysis = morph.parse(token)[0]\n",
    "            lemma = str(analysis.normal_form)\n",
    "            pos = str(analysis.tag.POS)\n",
    "            if pos != \"PUNCT\":\n",
    "                if pos in set([\"ADJF\", \"ADJS\", \"COMP\"]):\n",
    "                    pos_dict[\"ADJ\"].append(lemma)\n",
    "                elif pos in set([\"VERB\", \"INFN\"]):\n",
    "                    pos_dict[\"VERB\"].append(lemma)\n",
    "                elif pos in pos_dict.keys():\n",
    "                    pos_dict[pos].append(lemma)\n",
    "        except:\n",
    "            pass\n",
    "    return pos_dict"
   ]
  },
  {
   "cell_type": "code",
   "execution_count": 6,
   "metadata": {},
   "outputs": [],
   "source": [
    "for direction in directions:\n",
    "    pos_dict = count_pos(direction, pos_dict)"
   ]
  },
  {
   "cell_type": "markdown",
   "metadata": {},
   "source": [
    "## Counters"
   ]
  },
  {
   "cell_type": "code",
   "execution_count": 7,
   "metadata": {},
   "outputs": [],
   "source": [
    "from collections import Counter"
   ]
  },
  {
   "cell_type": "code",
   "execution_count": 8,
   "metadata": {},
   "outputs": [
    {
     "name": "stdout",
     "output_type": "stream",
     "text": [
      "\n",
      "10 most common ADJ\n",
      "510: тот\n",
      "499: весь\n",
      "414: один\n",
      "215: который\n",
      "203: другой\n",
      "171: свой\n",
      "157: передний\n",
      "133: слышный\n",
      "112: муромский\n",
      "109: гостиный\n",
      "\n",
      "10 most common ADVB\n",
      "289: тихо\n",
      "240: потом\n",
      "156: быстро\n",
      "134: несколько\n",
      "120: опять\n",
      "111: громко\n",
      "83: вдруг\n",
      "81: вслед\n",
      "74: немного\n",
      "71: вполголоса\n",
      "\n",
      "10 most common NOUN\n",
      "1111: рука\n",
      "920: дверь\n",
      "561: сторона\n",
      "441: стол\n",
      "389: пауза\n",
      "306: голова\n",
      "289: голос\n",
      "281: комната\n",
      "281: иван\n",
      "244: окно\n",
      "\n",
      "10 most common VERB\n",
      "1258: уходить\n",
      "1024: входить\n",
      "448: садиться\n",
      "428: идти\n",
      "365: подходить\n",
      "356: брать\n",
      "274: выходить\n",
      "266: смотреть\n",
      "227: вставать\n",
      "227: целовать\n"
     ]
    }
   ],
   "source": [
    "for pos in [pos for pos in pos_dict.keys() if pos not in [\"INTJ\", \"PREP\"]]:\n",
    "    print(\"\\n10 most common {}\".format(pos))\n",
    "    c = Counter()\n",
    "    c.update(pos_dict[pos])\n",
    "    for lemma, count in c.most_common(10):\n",
    "        print(\"{}: {}\".format(count, lemma))"
   ]
  }
 ],
 "metadata": {
  "kernelspec": {
   "display_name": "Python 3",
   "language": "python",
   "name": "python3"
  },
  "language_info": {
   "codemirror_mode": {
    "name": "ipython",
    "version": 3
   },
   "file_extension": ".py",
   "mimetype": "text/x-python",
   "name": "python",
   "nbconvert_exporter": "python",
   "pygments_lexer": "ipython3",
   "version": "3.6.4"
  }
 },
 "nbformat": 4,
 "nbformat_minor": 2
}
