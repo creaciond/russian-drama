{
 "cells": [
  {
   "cell_type": "markdown",
   "metadata": {},
   "source": [
    "# Mean POS amounts and creating a bigger dataset\n",
    "\n",
    "**What we do in this notebook:**\n",
    "\n",
    "* calculate mean amounts of various parts-of-speech in plays,\n",
    "* create a dataset with these mean values,\n",
    "* add this information to the dataset with general information on the plays."
   ]
  },
  {
   "cell_type": "markdown",
   "metadata": {},
   "source": [
    "## Preparations"
   ]
  },
  {
   "cell_type": "markdown",
   "metadata": {},
   "source": [
    "### Paths and folders"
   ]
  },
  {
   "cell_type": "code",
   "execution_count": 1,
   "metadata": {},
   "outputs": [],
   "source": [
    "import os"
   ]
  },
  {
   "cell_type": "code",
   "execution_count": 2,
   "metadata": {},
   "outputs": [],
   "source": [
    "directions_path = \"..\" + os.sep + \"directions\"\n",
    "csv_path = \".\" + os.sep + \"csv\"\n",
    "corpus_path = \"..\" + os.sep + \"RusDraCor\""
   ]
  },
  {
   "cell_type": "markdown",
   "metadata": {},
   "source": [
    "This is required because I'm using a Mac, which sometimes creates system folders like `.DS_Store`; in any other case — never mind."
   ]
  },
  {
   "cell_type": "code",
   "execution_count": 3,
   "metadata": {},
   "outputs": [],
   "source": [
    "directions_files = [item for item in os.listdir(directions_path) \n",
    "                    if (item.endswith(\".txt\") and not item.startswith(\"all_directions\"))]\n",
    "play_files = [item for item in os.listdir(corpus_path) if item.endswith(\".xml\")]"
   ]
  },
  {
   "cell_type": "markdown",
   "metadata": {},
   "source": [
    "## Parts-of-speech"
   ]
  },
  {
   "cell_type": "markdown",
   "metadata": {},
   "source": [
    "### Counting POS\n",
    "We will count the following parts-of-speech:\n",
    "\n",
    "* nouns,\n",
    "* adjectives,\n",
    "* verbs,\n",
    "* adverbs,\n",
    "* interjections,\n",
    "* prepositions.\n",
    "\n",
    "The values will be respresented as a _fraction_, a result of division of the POS to the total amount of words in the direction.\n",
    "\n",
    "$$ \\text{POS count} = \\frac{\\text{amount of POS in a direction}}{\\text{total amount of words}} $$\n",
    "\n",
    "Tokenization will be done with help of [NLTK](https://www.nltk.org/) `wordpunct` tokenizer.\n",
    "\n",
    "Part-of-speech tagging will be performed via ```pymmorphy2```, [an open-source Python library](http://pymorphy2.readthedocs.io/en/latest/) for morphological annotation of Russian texts, based on [Russian Open Corpus](http://opencorpora.org/)."
   ]
  },
  {
   "cell_type": "code",
   "execution_count": 4,
   "metadata": {},
   "outputs": [],
   "source": [
    "import re\n",
    "from pymorphy2 import MorphAnalyzer\n",
    "from nltk.tokenize import wordpunct_tokenize\n",
    "\n",
    "morph = MorphAnalyzer()"
   ]
  },
  {
   "cell_type": "markdown",
   "metadata": {},
   "source": [
    "### Extracting the information from a _single direction_"
   ]
  },
  {
   "cell_type": "code",
   "execution_count": 5,
   "metadata": {},
   "outputs": [],
   "source": [
    "def count_pos(direction):\n",
    "    pos_dict = {\"ADJ\": 0, \"ADVB\": 0, \"INTJ\": 0, \"NOUN\": 0, \"PREP\": 0, \"VERB\": 0, \n",
    "                \"Words\": 0}\n",
    "    tokens = wordpunct_tokenize(direction)\n",
    "    for token in tokens:\n",
    "        try:\n",
    "            analysis = morph.parse(token)[0]\n",
    "            pos = str(analysis.tag.POS)\n",
    "            if pos != \"PUNCT\":\n",
    "                pos_dict[\"Words\"] += 1\n",
    "                if pos in set([\"ADJF\", \"ADJS\", \"COMP\"]):\n",
    "                    pos_dict[\"ADJ\"] += 1\n",
    "                elif pos in set([\"VERB\", \"INFN\"]):\n",
    "                    pos_dict[\"VERB\"] += 1\n",
    "                elif pos in pos_dict.keys():\n",
    "                    pos_dict[pos] += 1 \n",
    "        except:\n",
    "            pass\n",
    "    return pos_dict"
   ]
  },
  {
   "cell_type": "markdown",
   "metadata": {},
   "source": [
    "### Parsing the corpus\n",
    "\n",
    "#### Applying this function to the whole play"
   ]
  },
  {
   "cell_type": "code",
   "execution_count": 6,
   "metadata": {},
   "outputs": [],
   "source": [
    "def pos_play(directions_file):\n",
    "    play_total = {\"ADJ\": [], \"ADVB\": [], \"INTJ\": [], \"NOUN\": [], \"PREP\": [], \"VERB\": [],\n",
    "                  \"Words\": []}\n",
    "    \n",
    "    full_path = str(directions_path) + os.sep + directions_file\n",
    "    with open(full_path, \"r\", encoding=\"utf-8\") as directions_f:\n",
    "        directions = [line.strip(\"\\n\") for line in directions_f.readlines() if line != \"\\n\"]\n",
    "    \n",
    "    for st_dir in directions:\n",
    "        pos_direction = count_pos(st_dir)\n",
    "        for part_of_speech in pos_direction.keys():\n",
    "            play_total[part_of_speech].append(pos_direction[part_of_speech])\n",
    "    return play_total"
   ]
  },
  {
   "cell_type": "markdown",
   "metadata": {},
   "source": [
    "#### Crawling the files"
   ]
  },
  {
   "cell_type": "markdown",
   "metadata": {},
   "source": [
    "Now let's crawl the files and create a dataset."
   ]
  },
  {
   "cell_type": "code",
   "execution_count": 7,
   "metadata": {},
   "outputs": [],
   "source": [
    "from statistics import mean"
   ]
  },
  {
   "cell_type": "code",
   "execution_count": 8,
   "metadata": {},
   "outputs": [
    {
     "name": "stdout",
     "output_type": "stream",
     "text": [
      "Successfully parsed directions: sumarokov-horev.txt, total parsed: 1/102 (0.98%)\n",
      "Successfully parsed directions: prutkov-srodstvo-mirovyh-sil.txt, total parsed: 2/102 (1.96%)\n",
      "Successfully parsed directions: gorky-egor-bulychov-i-drugie.txt, total parsed: 3/102 (2.94%)\n",
      "Successfully parsed directions: turgenev-vecher-v-sorrente.txt, total parsed: 4/102 (3.92%)\n",
      "Successfully parsed directions: gumilyov-gondla.txt, total parsed: 5/102 (4.90%)\n",
      "Successfully parsed directions: chekhov-leshii.txt, total parsed: 6/102 (5.88%)\n",
      "Successfully parsed directions: prutkov-oprometchivyj-turka.txt, total parsed: 7/102 (6.86%)\n",
      "Successfully parsed directions: sukhovo-kobylin-svadba-krechinskogo.txt, total parsed: 8/102 (7.84%)\n",
      "Successfully parsed directions: chekhov-chaika.txt, total parsed: 9/102 (8.82%)\n",
      "Successfully parsed directions: lomonosov-tamira-i-selim.txt, total parsed: 10/102 (9.80%)\n",
      "Successfully parsed directions: pushkin-kamenniy-gost.txt, total parsed: 11/102 (10.78%)\n",
      "Successfully parsed directions: shakhovskoy-pustodomy.txt, total parsed: 12/102 (11.76%)\n",
      "Successfully parsed directions: chekhov-jubilej.txt, total parsed: 13/102 (12.75%)\n",
      "Successfully parsed directions: krylov-podschipa-ili-trumf.txt, total parsed: 14/102 (13.73%)\n",
      "Successfully parsed directions: sumarokov-semira.txt, total parsed: 15/102 (14.71%)\n",
      "Successfully parsed directions: tolstoy-zhivoy-trup.txt, total parsed: 16/102 (15.69%)\n",
      "Successfully parsed directions: ostrovsky-les.txt, total parsed: 17/102 (16.67%)\n",
      "Successfully parsed directions: gorky-na-dne.txt, total parsed: 18/102 (17.65%)\n",
      "Successfully parsed directions: bulgakov-kabala-svjatosh.txt, total parsed: 19/102 (18.63%)\n",
      "Successfully parsed directions: chekhov-medved.txt, total parsed: 20/102 (19.61%)\n",
      "Successfully parsed directions: ostrovsky-bednost-ne-porok.txt, total parsed: 21/102 (20.59%)\n",
      "Successfully parsed directions: ostrovsky-na-vsyakogo-mudreca-dovolno-prostoty.txt, total parsed: 22/102 (21.57%)\n",
      "Successfully parsed directions: krylov-sonnyj-poroshok.txt, total parsed: 23/102 (22.55%)\n",
      "Successfully parsed directions: ostrovsky-bespridannitsa.txt, total parsed: 24/102 (23.53%)\n",
      "Successfully parsed directions: sumarokov-dimitrij-samozvanets.txt, total parsed: 25/102 (24.51%)\n",
      "Successfully parsed directions: naydyonov-deti-vanjushina.txt, total parsed: 26/102 (25.49%)\n",
      "Successfully parsed directions: turgenev-nahlebnik.txt, total parsed: 27/102 (26.47%)\n",
      "Successfully parsed directions: chekhov-vishnevyi-sad.txt, total parsed: 28/102 (27.45%)\n",
      "Successfully parsed directions: lomonosov-demofont.txt, total parsed: 29/102 (28.43%)\n",
      "Successfully parsed directions: turgenev-holostjak.txt, total parsed: 30/102 (29.41%)\n",
      "Successfully parsed directions: gogol-zhenitba.txt, total parsed: 31/102 (30.39%)\n",
      "Successfully parsed directions: pushkin-stseny-iz-rytsarskih-vremen.txt, total parsed: 32/102 (31.37%)\n",
      "Successfully parsed directions: ostrovsky-bednaja-nevesta.txt, total parsed: 33/102 (32.35%)\n",
      "Successfully parsed directions: gogol-lakeiskaja.txt, total parsed: 34/102 (33.33%)\n",
      "Successfully parsed directions: prutkov-fantaziya.txt, total parsed: 35/102 (34.31%)\n",
      "Successfully parsed directions: blok-neznakomka.txt, total parsed: 36/102 (35.29%)\n",
      "Successfully parsed directions: sukhovo-kobylin-smert-tarelkina.txt, total parsed: 37/102 (36.27%)\n",
      "Successfully parsed directions: gumilyov-ditja-allaha.txt, total parsed: 38/102 (37.25%)\n",
      "Successfully parsed directions: prutkov-spor-drevnih-grecheskih-filosofov.txt, total parsed: 39/102 (38.24%)\n",
      "Successfully parsed directions: shakhovskoy-ne-lubo-ne-slushai.txt, total parsed: 40/102 (39.22%)\n",
      "Successfully parsed directions: pushkin-boris-godunov.txt, total parsed: 41/102 (40.20%)\n",
      "Successfully parsed directions: prutkov-blondy.txt, total parsed: 42/102 (41.18%)\n",
      "Successfully parsed directions: pushkin-pir-vo-vremja-chumy.txt, total parsed: 43/102 (42.16%)\n",
      "Successfully parsed directions: bulgakov-dni-turbinyh.txt, total parsed: 44/102 (43.14%)\n",
      "Successfully parsed directions: prutkov-chereposlov-sirech-frenolog.txt, total parsed: 45/102 (44.12%)\n",
      "Successfully parsed directions: bulgakov-poslednie-dni.txt, total parsed: 46/102 (45.10%)\n",
      "Successfully parsed directions: gogol-revizor.txt, total parsed: 47/102 (46.08%)\n",
      "Successfully parsed directions: blok-korol-na-ploschadi.txt, total parsed: 48/102 (47.06%)\n",
      "Successfully parsed directions: gumilyov-don-zhuan-v-egipte.txt, total parsed: 49/102 (48.04%)\n",
      "Successfully parsed directions: shakhovskoy-urok-koketkam.txt, total parsed: 50/102 (49.02%)\n",
      "Successfully parsed directions: chekhov-svadba.txt, total parsed: 51/102 (50.00%)\n",
      "Successfully parsed directions: tretyakov-protivogazy.txt, total parsed: 52/102 (50.98%)\n",
      "Successfully parsed directions: turgenev-provintsialka.txt, total parsed: 53/102 (51.96%)\n",
      "Successfully parsed directions: tolstoy-vlast-tmy.txt, total parsed: 54/102 (52.94%)\n",
      "Successfully parsed directions: gogol-utro-delovogo-cheloveka.txt, total parsed: 55/102 (53.92%)\n",
      "Successfully parsed directions: gogol-teatralnyi-razezd.txt, total parsed: 56/102 (54.90%)\n",
      "Successfully parsed directions: ostrovsky-snegurochka.txt, total parsed: 57/102 (55.88%)\n",
      "Successfully parsed directions: kheraskov-venecianskaya-monahinya.txt, total parsed: 58/102 (56.86%)\n",
      "Successfully parsed directions: blok-balaganchik.txt, total parsed: 59/102 (57.84%)\n",
      "Successfully parsed directions: chekhov-ivanov.txt, total parsed: 60/102 (58.82%)\n",
      "Successfully parsed directions: chekhov-na-bolshoi-doroge.txt, total parsed: 61/102 (59.80%)\n",
      "Successfully parsed directions: bulgakov-ivan-vasilevich.txt, total parsed: 62/102 (60.78%)\n",
      "Successfully parsed directions: gogol-igroki.txt, total parsed: 63/102 (61.76%)\n",
      "Successfully parsed directions: ozerov-dmitrij-donskoj.txt, total parsed: 64/102 (62.75%)\n",
      "Successfully parsed directions: pushkin-skupoj-rytsar.txt, total parsed: 65/102 (63.73%)\n",
      "Successfully parsed directions: krylov-urok-dochkam.txt, total parsed: 66/102 (64.71%)\n",
      "Successfully parsed directions: tolstoy-tsar-boris.txt, total parsed: 67/102 (65.69%)\n",
      "Successfully parsed directions: chekhov-noch-pered-sudom.txt, total parsed: 68/102 (66.67%)\n",
      "Successfully parsed directions: chekhov-tatjana-repina.txt, total parsed: 69/102 (67.65%)\n",
      "Successfully parsed directions: gogol-tjazhba.txt, total parsed: 70/102 (68.63%)\n",
      "Successfully parsed directions: turgenev-gde-tonko-tam-i-rvetsja.txt, total parsed: 71/102 (69.61%)\n",
      "Successfully parsed directions: krylov-modnaja-lavka.txt, total parsed: 72/102 (70.59%)\n",
      "Successfully parsed directions: krylov-amerikantsy.txt, total parsed: 73/102 (71.57%)\n",
      "Successfully parsed directions: lermontov-maskarad.txt, total parsed: 74/102 (72.55%)\n",
      "Successfully parsed directions: mayakovsky-klop.txt, total parsed: 75/102 (73.53%)\n",
      "Successfully parsed directions: gogol-otryvok.txt, total parsed: 76/102 (74.51%)\n",
      "Successfully parsed directions: mayakovsky-banja.txt, total parsed: 77/102 (75.49%)\n",
      "Successfully parsed directions: mayakovsky-misteriya-buff.txt, total parsed: 78/102 (76.47%)\n",
      "Successfully parsed directions: chekhov-tri-sestry.txt, total parsed: 79/102 (77.45%)\n",
      "Successfully parsed directions: griboyedov-gore-ot-uma.txt, total parsed: 80/102 (78.43%)\n",
      "Successfully parsed directions: turgenev-neostorozhnost.txt, total parsed: 81/102 (79.41%)\n",
      "Successfully parsed directions: gumilyov-akteon.txt, total parsed: 82/102 (80.39%)\n",
      "Successfully parsed directions: fonvizin-vybor-guvernera.txt, total parsed: 83/102 (81.37%)\n",
      "Successfully parsed directions: pisemskij-gorkaja-sudbina.txt, total parsed: 84/102 (82.35%)\n",
      "Successfully parsed directions: turgenev-zavtrak-u-predvoditelja.txt, total parsed: 85/102 (83.33%)\n",
      "Successfully parsed directions: plavilshchikov-sgovor-kutejkina.txt, total parsed: 86/102 (84.31%)\n",
      "Successfully parsed directions: fonvizin-brigadir.txt, total parsed: 87/102 (85.29%)\n",
      "Successfully parsed directions: chekhov-djadja-vanja.txt, total parsed: 88/102 (86.27%)\n",
      "Successfully parsed directions: tolstoy-smert-ioanna-groznogo.txt, total parsed: 89/102 (87.25%)\n",
      "Successfully parsed directions: shakhovskoy-svoya-semya.txt, total parsed: 90/102 (88.24%)\n",
      "Successfully parsed directions: fonvizin-nedorosl.txt, total parsed: 91/102 (89.22%)\n",
      "Successfully parsed directions: ostrovsky-groza.txt, total parsed: 92/102 (90.20%)\n",
      "Successfully parsed directions: pushkin-rusalka.txt, total parsed: 93/102 (91.18%)\n"
     ]
    },
    {
     "name": "stdout",
     "output_type": "stream",
     "text": [
      "Successfully parsed directions: sukhovo-kobylin-delo.txt, total parsed: 94/102 (92.16%)\n",
      "Successfully parsed directions: saltykov-shchedrin-smert-pazuhina.txt, total parsed: 95/102 (93.14%)\n",
      "Successfully parsed directions: chekhov-predlozhenie.txt, total parsed: 96/102 (94.12%)\n",
      "Successfully parsed directions: turgenev-razgovor-na-bolshoj-doroge.txt, total parsed: 97/102 (95.10%)\n",
      "Successfully parsed directions: tolstoy-tsar-fedor-ioannovich.txt, total parsed: 98/102 (96.08%)\n",
      "Successfully parsed directions: ostrovsky-volki-i-ovtsy.txt, total parsed: 99/102 (97.06%)\n",
      "Successfully parsed directions: chekhov-tragik-ponevole.txt, total parsed: 100/102 (98.04%)\n",
      "Successfully parsed directions: pushkin-mocart-i-saleri.txt, total parsed: 101/102 (99.02%)\n",
      "Successfully parsed directions: ostrovsky-svoi-ljudi.txt, total parsed: 102/102 (100.00%)\n"
     ]
    }
   ],
   "source": [
    "plays_info = []\n",
    "directions_parsed = 0\n",
    "total_plays = len(play_files)\n",
    "\n",
    "for directions_file in directions_files:\n",
    "    stats ={}\n",
    "    play = pos_play(directions_file)\n",
    "    for key in play.keys():\n",
    "        if key != \"Words\":\n",
    "            stats[key] = mean(play[key])\n",
    "    stats[\"Path\"] = directions_file\n",
    "    plays_info.append(stats)\n",
    "    \n",
    "    # logging print\n",
    "    directions_parsed += 1\n",
    "    print(\"Successfully parsed directions: {}, total parsed: {}/{} ({:.2f}%)\".format(directions_file, \n",
    "        directions_parsed, total_plays, directions_parsed/total_plays*100))"
   ]
  },
  {
   "cell_type": "markdown",
   "metadata": {},
   "source": [
    "### POS shares/parts in the directions\n",
    "\n",
    "We have a file with all the directions, called `all_directions.txt`. In here, all the directions are stored together, without any distinction by play. What I want to achieve here is to get the _shares_ of each part-of-speech from the list. "
   ]
  },
  {
   "cell_type": "code",
   "execution_count": 9,
   "metadata": {},
   "outputs": [],
   "source": [
    "all_directions_path = directions_path + os.sep + \"all_directions.txt\"\n",
    "with open(all_directions_path, \"r\", encoding=\"utf-8\") as alldir_file:\n",
    "    all_directions = [line.strip(\"\\n\") for line in alldir_file.readlines() if line.strip(\"\\n\")]"
   ]
  },
  {
   "cell_type": "markdown",
   "metadata": {},
   "source": [
    "This is how many directions we have:"
   ]
  },
  {
   "cell_type": "code",
   "execution_count": 10,
   "metadata": {},
   "outputs": [
    {
     "data": {
      "text/plain": [
       "24058"
      ]
     },
     "execution_count": 10,
     "metadata": {},
     "output_type": "execute_result"
    }
   ],
   "source": [
    "len(all_directions)"
   ]
  },
  {
   "cell_type": "markdown",
   "metadata": {},
   "source": [
    "#### Counting shares"
   ]
  },
  {
   "cell_type": "markdown",
   "metadata": {},
   "source": [
    "This is how we count a share of the given POS from the list in a direction."
   ]
  },
  {
   "cell_type": "code",
   "execution_count": 11,
   "metadata": {},
   "outputs": [],
   "source": [
    "def pos_share(pos_dict):\n",
    "    share_dict = {\"ADJ\": 0.0, \"ADVB\": 0.0, \"INTJ\": 0.0, \"NOUN\": 0.0, \"PREP\": 0.0, \"VERB\": 0.0}\n",
    "    for pos in [\"ADJ\", \"ADVB\", \"INTJ\", \"NOUN\", \"PREP\", \"VERB\"]:\n",
    "        share_dict[pos] = pos_dict[pos]/pos_dict[\"Words\"]\n",
    "    return share_dict"
   ]
  },
  {
   "cell_type": "markdown",
   "metadata": {},
   "source": [
    "Now, let us parse the directions."
   ]
  },
  {
   "cell_type": "code",
   "execution_count": 12,
   "metadata": {},
   "outputs": [
    {
     "name": "stdout",
     "output_type": "stream",
     "text": [
      "Total parsed: 5000/24058, or 20.78%\n",
      "Total parsed: 10000/24058, or 41.57%\n",
      "Total parsed: 15000/24058, or 62.35%\n",
      "Total parsed: 20000/24058, or 83.13%\n",
      "Done!\n"
     ]
    }
   ],
   "source": [
    "directions_share_list = []\n",
    "ready_dirs = 0\n",
    "total_dirs = len(all_directions)\n",
    "\n",
    "for direction in all_directions:\n",
    "    # calculate things\n",
    "    pos_dict = count_pos(direction)\n",
    "    share_dict = pos_share(pos_dict)\n",
    "    share_dict[\"Text\"] = direction\n",
    "    \n",
    "    # add them to the list\n",
    "    directions_share_list.append(share_dict)\n",
    "    \n",
    "    # logging print\n",
    "    ready_dirs += 1\n",
    "    ratio = ready_dirs/total_dirs*100\n",
    "    if ready_dirs % 5000 == 0:\n",
    "        print(\"Total parsed: {}/{}, or {:.2f}%\".format(ready_dirs, total_dirs, ratio))\n",
    "print(\"Done!\")"
   ]
  },
  {
   "cell_type": "markdown",
   "metadata": {},
   "source": [
    "### Datasets\n",
    "\n",
    "Now, turning everything into pretty tables and datasets!"
   ]
  },
  {
   "cell_type": "code",
   "execution_count": 13,
   "metadata": {},
   "outputs": [],
   "source": [
    "import pandas as pd\n",
    "\n",
    "pd.set_option(\"max_colwidth\", 1000)"
   ]
  },
  {
   "cell_type": "markdown",
   "metadata": {},
   "source": [
    "This is the dataset of plays:"
   ]
  },
  {
   "cell_type": "code",
   "execution_count": 14,
   "metadata": {},
   "outputs": [
    {
     "data": {
      "text/html": [
       "<div>\n",
       "<style scoped>\n",
       "    .dataframe tbody tr th:only-of-type {\n",
       "        vertical-align: middle;\n",
       "    }\n",
       "\n",
       "    .dataframe tbody tr th {\n",
       "        vertical-align: top;\n",
       "    }\n",
       "\n",
       "    .dataframe thead th {\n",
       "        text-align: right;\n",
       "    }\n",
       "</style>\n",
       "<table border=\"1\" class=\"dataframe\">\n",
       "  <thead>\n",
       "    <tr style=\"text-align: right;\">\n",
       "      <th></th>\n",
       "      <th>ADJ</th>\n",
       "      <th>ADVB</th>\n",
       "      <th>INTJ</th>\n",
       "      <th>NOUN</th>\n",
       "      <th>PREP</th>\n",
       "      <th>VERB</th>\n",
       "    </tr>\n",
       "    <tr>\n",
       "      <th>Path</th>\n",
       "      <th></th>\n",
       "      <th></th>\n",
       "      <th></th>\n",
       "      <th></th>\n",
       "      <th></th>\n",
       "      <th></th>\n",
       "    </tr>\n",
       "  </thead>\n",
       "  <tbody>\n",
       "    <tr>\n",
       "      <th>sumarokov-horev.txt</th>\n",
       "      <td>0.545455</td>\n",
       "      <td>0.090909</td>\n",
       "      <td>0.000000</td>\n",
       "      <td>1.666667</td>\n",
       "      <td>0.242424</td>\n",
       "      <td>0.121212</td>\n",
       "    </tr>\n",
       "    <tr>\n",
       "      <th>prutkov-srodstvo-mirovyh-sil.txt</th>\n",
       "      <td>1.739130</td>\n",
       "      <td>1.043478</td>\n",
       "      <td>0.000000</td>\n",
       "      <td>4.021739</td>\n",
       "      <td>2.065217</td>\n",
       "      <td>2.347826</td>\n",
       "    </tr>\n",
       "    <tr>\n",
       "      <th>gorky-egor-bulychov-i-drugie.txt</th>\n",
       "      <td>0.457286</td>\n",
       "      <td>0.276382</td>\n",
       "      <td>0.000000</td>\n",
       "      <td>1.839196</td>\n",
       "      <td>0.738693</td>\n",
       "      <td>1.095477</td>\n",
       "    </tr>\n",
       "    <tr>\n",
       "      <th>turgenev-vecher-v-sorrente.txt</th>\n",
       "      <td>0.354167</td>\n",
       "      <td>0.312500</td>\n",
       "      <td>0.000000</td>\n",
       "      <td>1.548611</td>\n",
       "      <td>0.812500</td>\n",
       "      <td>0.923611</td>\n",
       "    </tr>\n",
       "    <tr>\n",
       "      <th>gumilyov-gondla.txt</th>\n",
       "      <td>0.370968</td>\n",
       "      <td>0.145161</td>\n",
       "      <td>0.112903</td>\n",
       "      <td>1.806452</td>\n",
       "      <td>0.548387</td>\n",
       "      <td>0.435484</td>\n",
       "    </tr>\n",
       "  </tbody>\n",
       "</table>\n",
       "</div>"
      ],
      "text/plain": [
       "                                       ADJ      ADVB      INTJ      NOUN  \\\n",
       "Path                                                                       \n",
       "sumarokov-horev.txt               0.545455  0.090909  0.000000  1.666667   \n",
       "prutkov-srodstvo-mirovyh-sil.txt  1.739130  1.043478  0.000000  4.021739   \n",
       "gorky-egor-bulychov-i-drugie.txt  0.457286  0.276382  0.000000  1.839196   \n",
       "turgenev-vecher-v-sorrente.txt    0.354167  0.312500  0.000000  1.548611   \n",
       "gumilyov-gondla.txt               0.370968  0.145161  0.112903  1.806452   \n",
       "\n",
       "                                      PREP      VERB  \n",
       "Path                                                  \n",
       "sumarokov-horev.txt               0.242424  0.121212  \n",
       "prutkov-srodstvo-mirovyh-sil.txt  2.065217  2.347826  \n",
       "gorky-egor-bulychov-i-drugie.txt  0.738693  1.095477  \n",
       "turgenev-vecher-v-sorrente.txt    0.812500  0.923611  \n",
       "gumilyov-gondla.txt               0.548387  0.435484  "
      ]
     },
     "execution_count": 14,
     "metadata": {},
     "output_type": "execute_result"
    }
   ],
   "source": [
    "df_mean = pd.DataFrame(plays_info)\n",
    "df_mean = df_mean.set_index(\"Path\")\n",
    "df_mean.head()"
   ]
  },
  {
   "cell_type": "markdown",
   "metadata": {},
   "source": [
    "And this is the dataset of directions:"
   ]
  },
  {
   "cell_type": "code",
   "execution_count": 15,
   "metadata": {},
   "outputs": [
    {
     "data": {
      "text/html": [
       "<div>\n",
       "<style scoped>\n",
       "    .dataframe tbody tr th:only-of-type {\n",
       "        vertical-align: middle;\n",
       "    }\n",
       "\n",
       "    .dataframe tbody tr th {\n",
       "        vertical-align: top;\n",
       "    }\n",
       "\n",
       "    .dataframe thead th {\n",
       "        text-align: right;\n",
       "    }\n",
       "</style>\n",
       "<table border=\"1\" class=\"dataframe\">\n",
       "  <thead>\n",
       "    <tr style=\"text-align: right;\">\n",
       "      <th></th>\n",
       "      <th>ADJ</th>\n",
       "      <th>ADVB</th>\n",
       "      <th>INTJ</th>\n",
       "      <th>NOUN</th>\n",
       "      <th>PREP</th>\n",
       "      <th>VERB</th>\n",
       "    </tr>\n",
       "    <tr>\n",
       "      <th>Text</th>\n",
       "      <th></th>\n",
       "      <th></th>\n",
       "      <th></th>\n",
       "      <th></th>\n",
       "      <th></th>\n",
       "      <th></th>\n",
       "    </tr>\n",
       "  </thead>\n",
       "  <tbody>\n",
       "    <tr>\n",
       "      <th>входит брат бертольд</th>\n",
       "      <td>0.00</td>\n",
       "      <td>0.0</td>\n",
       "      <td>0.0</td>\n",
       "      <td>0.666667</td>\n",
       "      <td>0.00</td>\n",
       "      <td>0.333333</td>\n",
       "    </tr>\n",
       "    <tr>\n",
       "      <th>бертольд и франц</th>\n",
       "      <td>0.00</td>\n",
       "      <td>0.0</td>\n",
       "      <td>0.0</td>\n",
       "      <td>0.666667</td>\n",
       "      <td>0.00</td>\n",
       "      <td>0.000000</td>\n",
       "    </tr>\n",
       "    <tr>\n",
       "      <th>входит мартын</th>\n",
       "      <td>0.00</td>\n",
       "      <td>0.0</td>\n",
       "      <td>0.0</td>\n",
       "      <td>0.500000</td>\n",
       "      <td>0.00</td>\n",
       "      <td>0.500000</td>\n",
       "    </tr>\n",
       "    <tr>\n",
       "      <th>расходятся в разные стороны</th>\n",
       "      <td>0.25</td>\n",
       "      <td>0.0</td>\n",
       "      <td>0.0</td>\n",
       "      <td>0.250000</td>\n",
       "      <td>0.25</td>\n",
       "      <td>0.250000</td>\n",
       "    </tr>\n",
       "    <tr>\n",
       "      <th>почесывается</th>\n",
       "      <td>0.00</td>\n",
       "      <td>0.0</td>\n",
       "      <td>0.0</td>\n",
       "      <td>0.000000</td>\n",
       "      <td>0.00</td>\n",
       "      <td>1.000000</td>\n",
       "    </tr>\n",
       "  </tbody>\n",
       "</table>\n",
       "</div>"
      ],
      "text/plain": [
       "                              ADJ  ADVB  INTJ      NOUN  PREP      VERB\n",
       "Text                                                                   \n",
       "входит брат бертольд         0.00   0.0   0.0  0.666667  0.00  0.333333\n",
       "бертольд и франц             0.00   0.0   0.0  0.666667  0.00  0.000000\n",
       "входит мартын                0.00   0.0   0.0  0.500000  0.00  0.500000\n",
       "расходятся в разные стороны  0.25   0.0   0.0  0.250000  0.25  0.250000\n",
       "почесывается                 0.00   0.0   0.0  0.000000  0.00  1.000000"
      ]
     },
     "execution_count": 15,
     "metadata": {},
     "output_type": "execute_result"
    }
   ],
   "source": [
    "share_df = pd.DataFrame(directions_share_list)\n",
    "share_df = share_df.set_index(\"Text\")\n",
    "share_df.head()"
   ]
  },
  {
   "cell_type": "markdown",
   "metadata": {},
   "source": [
    "## Merging the information\n",
    "Let's add this information to the dataset we created in another notebook, [directions-basic](./directions-basic.ipynb).\n",
    "\n",
    "### Loading data with general information about the plays\n",
    "\n",
    "Now, we'll load information from [directions-basic](./directions-basic.ipynb)."
   ]
  },
  {
   "cell_type": "code",
   "execution_count": 16,
   "metadata": {},
   "outputs": [],
   "source": [
    "df_info = pd.read_csv(csv_path + os.sep + \"general_information.csv\", sep=\";\", index_col=False)"
   ]
  },
  {
   "cell_type": "markdown",
   "metadata": {},
   "source": [
    "Unfortunately, we also have to do some transformations in order to merge everything into a single dataframe:\n",
    "\n",
    "* all the paths in the `File` column end in `.xml`, though it should be `.txt` in order to be consistent,\n",
    "* we'll also use `File` column as index."
   ]
  },
  {
   "cell_type": "code",
   "execution_count": 17,
   "metadata": {},
   "outputs": [],
   "source": [
    "# we need this to rename strings\n",
    "def xml_to_txt(file_name):\n",
    "    new_name = file_name[:-3] + \"txt\"\n",
    "    return new_name"
   ]
  },
  {
   "cell_type": "code",
   "execution_count": 18,
   "metadata": {},
   "outputs": [],
   "source": [
    "df_info[\"Path\"] = df_info[\"Path\"].apply(xml_to_txt)\n",
    "df_info = df_info.set_index(\"Path\")"
   ]
  },
  {
   "cell_type": "markdown",
   "metadata": {},
   "source": [
    "After the transformations, the dataset looks like this:"
   ]
  },
  {
   "cell_type": "code",
   "execution_count": 19,
   "metadata": {},
   "outputs": [
    {
     "data": {
      "text/html": [
       "<div>\n",
       "<style scoped>\n",
       "    .dataframe tbody tr th:only-of-type {\n",
       "        vertical-align: middle;\n",
       "    }\n",
       "\n",
       "    .dataframe tbody tr th {\n",
       "        vertical-align: top;\n",
       "    }\n",
       "\n",
       "    .dataframe thead th {\n",
       "        text-align: right;\n",
       "    }\n",
       "</style>\n",
       "<table border=\"1\" class=\"dataframe\">\n",
       "  <thead>\n",
       "    <tr style=\"text-align: right;\">\n",
       "      <th></th>\n",
       "      <th>Acts</th>\n",
       "      <th>Author</th>\n",
       "      <th>Directions</th>\n",
       "      <th>Lemmas</th>\n",
       "      <th>Lemmas, per direction</th>\n",
       "      <th>Title</th>\n",
       "      <th>Words</th>\n",
       "      <th>Words, per direction</th>\n",
       "      <th>Year</th>\n",
       "      <th>Directions, per act</th>\n",
       "      <th>Words, per act</th>\n",
       "      <th>Lemmas, per act</th>\n",
       "    </tr>\n",
       "    <tr>\n",
       "      <th>Path</th>\n",
       "      <th></th>\n",
       "      <th></th>\n",
       "      <th></th>\n",
       "      <th></th>\n",
       "      <th></th>\n",
       "      <th></th>\n",
       "      <th></th>\n",
       "      <th></th>\n",
       "      <th></th>\n",
       "      <th></th>\n",
       "      <th></th>\n",
       "      <th></th>\n",
       "    </tr>\n",
       "  </thead>\n",
       "  <tbody>\n",
       "    <tr>\n",
       "      <th>pushkin-stseny-iz-rytsarskih-vremen.txt</th>\n",
       "      <td>1</td>\n",
       "      <td>Пушкин, Александр Сергеевич</td>\n",
       "      <td>38</td>\n",
       "      <td>996</td>\n",
       "      <td>4.973684</td>\n",
       "      <td>Сцены из рыцарских времен</td>\n",
       "      <td>3399</td>\n",
       "      <td>3.131579</td>\n",
       "      <td>1837</td>\n",
       "      <td>38.0</td>\n",
       "      <td>3399.0</td>\n",
       "      <td>996.0</td>\n",
       "    </tr>\n",
       "    <tr>\n",
       "      <th>turgenev-holostjak.txt</th>\n",
       "      <td>1</td>\n",
       "      <td>Тургенев, Иван Сергеевич</td>\n",
       "      <td>687</td>\n",
       "      <td>2785</td>\n",
       "      <td>6.391557</td>\n",
       "      <td>Холостяк</td>\n",
       "      <td>21501</td>\n",
       "      <td>4.506550</td>\n",
       "      <td>1849</td>\n",
       "      <td>687.0</td>\n",
       "      <td>21501.0</td>\n",
       "      <td>2785.0</td>\n",
       "    </tr>\n",
       "    <tr>\n",
       "      <th>gogol-zhenitba.txt</th>\n",
       "      <td>2</td>\n",
       "      <td>Гоголь, Николай Васильевич</td>\n",
       "      <td>254</td>\n",
       "      <td>2187</td>\n",
       "      <td>5.952756</td>\n",
       "      <td>Женитьба</td>\n",
       "      <td>13094</td>\n",
       "      <td>3.925197</td>\n",
       "      <td>1842</td>\n",
       "      <td>127.0</td>\n",
       "      <td>6547.0</td>\n",
       "      <td>1093.5</td>\n",
       "    </tr>\n",
       "    <tr>\n",
       "      <th>blok-neznakomka.txt</th>\n",
       "      <td>1</td>\n",
       "      <td>Блок, Александр Александрович</td>\n",
       "      <td>132</td>\n",
       "      <td>1373</td>\n",
       "      <td>12.462121</td>\n",
       "      <td>Незнакомка</td>\n",
       "      <td>4314</td>\n",
       "      <td>10.856061</td>\n",
       "      <td>1907</td>\n",
       "      <td>132.0</td>\n",
       "      <td>4314.0</td>\n",
       "      <td>1373.0</td>\n",
       "    </tr>\n",
       "    <tr>\n",
       "      <th>ostrovsky-bednaja-nevesta.txt</th>\n",
       "      <td>5</td>\n",
       "      <td>Островский, Александр Николаевич</td>\n",
       "      <td>442</td>\n",
       "      <td>2372</td>\n",
       "      <td>5.504525</td>\n",
       "      <td>Бедная невеста</td>\n",
       "      <td>22554</td>\n",
       "      <td>3.685520</td>\n",
       "      <td>1852</td>\n",
       "      <td>88.4</td>\n",
       "      <td>4510.8</td>\n",
       "      <td>474.4</td>\n",
       "    </tr>\n",
       "  </tbody>\n",
       "</table>\n",
       "</div>"
      ],
      "text/plain": [
       "                                         Acts  \\\n",
       "Path                                            \n",
       "pushkin-stseny-iz-rytsarskih-vremen.txt     1   \n",
       "turgenev-holostjak.txt                      1   \n",
       "gogol-zhenitba.txt                          2   \n",
       "blok-neznakomka.txt                         1   \n",
       "ostrovsky-bednaja-nevesta.txt               5   \n",
       "\n",
       "                                                                   Author  \\\n",
       "Path                                                                        \n",
       "pushkin-stseny-iz-rytsarskih-vremen.txt       Пушкин, Александр Сергеевич   \n",
       "turgenev-holostjak.txt                           Тургенев, Иван Сергеевич   \n",
       "gogol-zhenitba.txt                             Гоголь, Николай Васильевич   \n",
       "blok-neznakomka.txt                         Блок, Александр Александрович   \n",
       "ostrovsky-bednaja-nevesta.txt            Островский, Александр Николаевич   \n",
       "\n",
       "                                         Directions  Lemmas  \\\n",
       "Path                                                          \n",
       "pushkin-stseny-iz-rytsarskih-vremen.txt          38     996   \n",
       "turgenev-holostjak.txt                          687    2785   \n",
       "gogol-zhenitba.txt                              254    2187   \n",
       "blok-neznakomka.txt                             132    1373   \n",
       "ostrovsky-bednaja-nevesta.txt                   442    2372   \n",
       "\n",
       "                                         Lemmas, per direction  \\\n",
       "Path                                                             \n",
       "pushkin-stseny-iz-rytsarskih-vremen.txt               4.973684   \n",
       "turgenev-holostjak.txt                                6.391557   \n",
       "gogol-zhenitba.txt                                    5.952756   \n",
       "blok-neznakomka.txt                                  12.462121   \n",
       "ostrovsky-bednaja-nevesta.txt                         5.504525   \n",
       "\n",
       "                                                             Title  Words  \\\n",
       "Path                                                                        \n",
       "pushkin-stseny-iz-rytsarskih-vremen.txt  Сцены из рыцарских времен   3399   \n",
       "turgenev-holostjak.txt                                    Холостяк  21501   \n",
       "gogol-zhenitba.txt                                        Женитьба  13094   \n",
       "blok-neznakomka.txt                                     Незнакомка   4314   \n",
       "ostrovsky-bednaja-nevesta.txt                       Бедная невеста  22554   \n",
       "\n",
       "                                         Words, per direction  Year  \\\n",
       "Path                                                                  \n",
       "pushkin-stseny-iz-rytsarskih-vremen.txt              3.131579  1837   \n",
       "turgenev-holostjak.txt                               4.506550  1849   \n",
       "gogol-zhenitba.txt                                   3.925197  1842   \n",
       "blok-neznakomka.txt                                 10.856061  1907   \n",
       "ostrovsky-bednaja-nevesta.txt                        3.685520  1852   \n",
       "\n",
       "                                         Directions, per act  Words, per act  \\\n",
       "Path                                                                           \n",
       "pushkin-stseny-iz-rytsarskih-vremen.txt                 38.0          3399.0   \n",
       "turgenev-holostjak.txt                                 687.0         21501.0   \n",
       "gogol-zhenitba.txt                                     127.0          6547.0   \n",
       "blok-neznakomka.txt                                    132.0          4314.0   \n",
       "ostrovsky-bednaja-nevesta.txt                           88.4          4510.8   \n",
       "\n",
       "                                         Lemmas, per act  \n",
       "Path                                                      \n",
       "pushkin-stseny-iz-rytsarskih-vremen.txt            996.0  \n",
       "turgenev-holostjak.txt                            2785.0  \n",
       "gogol-zhenitba.txt                                1093.5  \n",
       "blok-neznakomka.txt                               1373.0  \n",
       "ostrovsky-bednaja-nevesta.txt                      474.4  "
      ]
     },
     "execution_count": 19,
     "metadata": {},
     "output_type": "execute_result"
    }
   ],
   "source": [
    "df_info.head()"
   ]
  },
  {
   "cell_type": "markdown",
   "metadata": {},
   "source": [
    "## Merging datasets\n",
    "\n",
    "Now, we have to merge the datasets."
   ]
  },
  {
   "cell_type": "code",
   "execution_count": 20,
   "metadata": {},
   "outputs": [
    {
     "name": "stderr",
     "output_type": "stream",
     "text": [
      "/anaconda3/lib/python3.6/site-packages/ipykernel_launcher.py:1: FutureWarning: Sorting because non-concatenation axis is not aligned. A future version\n",
      "of pandas will change to not sort by default.\n",
      "\n",
      "To accept the future behavior, pass 'sort=True'.\n",
      "\n",
      "To retain the current behavior and silence the warning, pass sort=False\n",
      "\n",
      "  \"\"\"Entry point for launching an IPython kernel.\n"
     ]
    },
    {
     "data": {
      "text/html": [
       "<div>\n",
       "<style scoped>\n",
       "    .dataframe tbody tr th:only-of-type {\n",
       "        vertical-align: middle;\n",
       "    }\n",
       "\n",
       "    .dataframe tbody tr th {\n",
       "        vertical-align: top;\n",
       "    }\n",
       "\n",
       "    .dataframe thead th {\n",
       "        text-align: right;\n",
       "    }\n",
       "</style>\n",
       "<table border=\"1\" class=\"dataframe\">\n",
       "  <thead>\n",
       "    <tr style=\"text-align: right;\">\n",
       "      <th></th>\n",
       "      <th>Acts</th>\n",
       "      <th>Author</th>\n",
       "      <th>Directions</th>\n",
       "      <th>Lemmas</th>\n",
       "      <th>Lemmas, per direction</th>\n",
       "      <th>Title</th>\n",
       "      <th>Words</th>\n",
       "      <th>Words, per direction</th>\n",
       "      <th>Year</th>\n",
       "      <th>Directions, per act</th>\n",
       "      <th>Words, per act</th>\n",
       "      <th>Lemmas, per act</th>\n",
       "      <th>ADJ</th>\n",
       "      <th>ADVB</th>\n",
       "      <th>INTJ</th>\n",
       "      <th>NOUN</th>\n",
       "      <th>PREP</th>\n",
       "      <th>VERB</th>\n",
       "    </tr>\n",
       "  </thead>\n",
       "  <tbody>\n",
       "    <tr>\n",
       "      <th>blok-balaganchik.txt</th>\n",
       "      <td>1</td>\n",
       "      <td>Блок, Александр Александрович</td>\n",
       "      <td>38</td>\n",
       "      <td>910</td>\n",
       "      <td>22.263158</td>\n",
       "      <td>Балаганчик</td>\n",
       "      <td>2240</td>\n",
       "      <td>22.736842</td>\n",
       "      <td>1906</td>\n",
       "      <td>38.000000</td>\n",
       "      <td>2240.000000</td>\n",
       "      <td>910.000000</td>\n",
       "      <td>3.289474</td>\n",
       "      <td>1.315789</td>\n",
       "      <td>0.000000</td>\n",
       "      <td>7.815789</td>\n",
       "      <td>3.315789</td>\n",
       "      <td>3.368421</td>\n",
       "    </tr>\n",
       "    <tr>\n",
       "      <th>blok-korol-na-ploschadi.txt</th>\n",
       "      <td>3</td>\n",
       "      <td>Блок, Александр Александрович</td>\n",
       "      <td>133</td>\n",
       "      <td>1475</td>\n",
       "      <td>14.631579</td>\n",
       "      <td>Король на площади</td>\n",
       "      <td>5535</td>\n",
       "      <td>12.466165</td>\n",
       "      <td>1907</td>\n",
       "      <td>44.333333</td>\n",
       "      <td>1845.000000</td>\n",
       "      <td>491.666667</td>\n",
       "      <td>1.421053</td>\n",
       "      <td>0.872180</td>\n",
       "      <td>0.045113</td>\n",
       "      <td>4.428571</td>\n",
       "      <td>1.684211</td>\n",
       "      <td>2.090226</td>\n",
       "    </tr>\n",
       "    <tr>\n",
       "      <th>blok-neznakomka.txt</th>\n",
       "      <td>1</td>\n",
       "      <td>Блок, Александр Александрович</td>\n",
       "      <td>132</td>\n",
       "      <td>1373</td>\n",
       "      <td>12.462121</td>\n",
       "      <td>Незнакомка</td>\n",
       "      <td>4314</td>\n",
       "      <td>10.856061</td>\n",
       "      <td>1907</td>\n",
       "      <td>132.000000</td>\n",
       "      <td>4314.000000</td>\n",
       "      <td>1373.000000</td>\n",
       "      <td>1.575758</td>\n",
       "      <td>0.742424</td>\n",
       "      <td>0.000000</td>\n",
       "      <td>3.492424</td>\n",
       "      <td>1.393939</td>\n",
       "      <td>1.954545</td>\n",
       "    </tr>\n",
       "    <tr>\n",
       "      <th>bulgakov-dni-turbinyh.txt</th>\n",
       "      <td>4</td>\n",
       "      <td>Булгаков, Михаил Афанасьевич</td>\n",
       "      <td>372</td>\n",
       "      <td>2901</td>\n",
       "      <td>5.634409</td>\n",
       "      <td>Дни Турбиных</td>\n",
       "      <td>16426</td>\n",
       "      <td>3.739247</td>\n",
       "      <td>1926</td>\n",
       "      <td>93.000000</td>\n",
       "      <td>4106.500000</td>\n",
       "      <td>725.250000</td>\n",
       "      <td>0.416667</td>\n",
       "      <td>0.131720</td>\n",
       "      <td>0.018817</td>\n",
       "      <td>1.478495</td>\n",
       "      <td>0.540323</td>\n",
       "      <td>0.833333</td>\n",
       "    </tr>\n",
       "    <tr>\n",
       "      <th>bulgakov-ivan-vasilevich.txt</th>\n",
       "      <td>3</td>\n",
       "      <td>Булгаков, Михаил Афанасьевич</td>\n",
       "      <td>319</td>\n",
       "      <td>2195</td>\n",
       "      <td>6.507837</td>\n",
       "      <td>Иван Васильевич</td>\n",
       "      <td>10303</td>\n",
       "      <td>4.721003</td>\n",
       "      <td>1936</td>\n",
       "      <td>106.333333</td>\n",
       "      <td>3434.333333</td>\n",
       "      <td>731.666667</td>\n",
       "      <td>0.391850</td>\n",
       "      <td>0.156740</td>\n",
       "      <td>0.006270</td>\n",
       "      <td>2.015674</td>\n",
       "      <td>0.689655</td>\n",
       "      <td>1.068966</td>\n",
       "    </tr>\n",
       "  </tbody>\n",
       "</table>\n",
       "</div>"
      ],
      "text/plain": [
       "                              Acts                         Author  Directions  \\\n",
       "blok-balaganchik.txt             1  Блок, Александр Александрович          38   \n",
       "blok-korol-na-ploschadi.txt      3  Блок, Александр Александрович         133   \n",
       "blok-neznakomka.txt              1  Блок, Александр Александрович         132   \n",
       "bulgakov-dni-turbinyh.txt        4   Булгаков, Михаил Афанасьевич         372   \n",
       "bulgakov-ivan-vasilevich.txt     3   Булгаков, Михаил Афанасьевич         319   \n",
       "\n",
       "                              Lemmas  Lemmas, per direction  \\\n",
       "blok-balaganchik.txt             910              22.263158   \n",
       "blok-korol-na-ploschadi.txt     1475              14.631579   \n",
       "blok-neznakomka.txt             1373              12.462121   \n",
       "bulgakov-dni-turbinyh.txt       2901               5.634409   \n",
       "bulgakov-ivan-vasilevich.txt    2195               6.507837   \n",
       "\n",
       "                                          Title  Words  Words, per direction  \\\n",
       "blok-balaganchik.txt                 Балаганчик   2240             22.736842   \n",
       "blok-korol-na-ploschadi.txt   Король на площади   5535             12.466165   \n",
       "blok-neznakomka.txt                  Незнакомка   4314             10.856061   \n",
       "bulgakov-dni-turbinyh.txt          Дни Турбиных  16426              3.739247   \n",
       "bulgakov-ivan-vasilevich.txt    Иван Васильевич  10303              4.721003   \n",
       "\n",
       "                              Year  Directions, per act  Words, per act  \\\n",
       "blok-balaganchik.txt          1906            38.000000     2240.000000   \n",
       "blok-korol-na-ploschadi.txt   1907            44.333333     1845.000000   \n",
       "blok-neznakomka.txt           1907           132.000000     4314.000000   \n",
       "bulgakov-dni-turbinyh.txt     1926            93.000000     4106.500000   \n",
       "bulgakov-ivan-vasilevich.txt  1936           106.333333     3434.333333   \n",
       "\n",
       "                              Lemmas, per act       ADJ      ADVB      INTJ  \\\n",
       "blok-balaganchik.txt               910.000000  3.289474  1.315789  0.000000   \n",
       "blok-korol-na-ploschadi.txt        491.666667  1.421053  0.872180  0.045113   \n",
       "blok-neznakomka.txt               1373.000000  1.575758  0.742424  0.000000   \n",
       "bulgakov-dni-turbinyh.txt          725.250000  0.416667  0.131720  0.018817   \n",
       "bulgakov-ivan-vasilevich.txt       731.666667  0.391850  0.156740  0.006270   \n",
       "\n",
       "                                  NOUN      PREP      VERB  \n",
       "blok-balaganchik.txt          7.815789  3.315789  3.368421  \n",
       "blok-korol-na-ploschadi.txt   4.428571  1.684211  2.090226  \n",
       "blok-neznakomka.txt           3.492424  1.393939  1.954545  \n",
       "bulgakov-dni-turbinyh.txt     1.478495  0.540323  0.833333  \n",
       "bulgakov-ivan-vasilevich.txt  2.015674  0.689655  1.068966  "
      ]
     },
     "execution_count": 20,
     "metadata": {},
     "output_type": "execute_result"
    }
   ],
   "source": [
    "df = pd.concat([df_info, df_mean], axis=1)\n",
    "df.head()"
   ]
  },
  {
   "cell_type": "markdown",
   "metadata": {},
   "source": [
    "## Saving datasets\n",
    "\n",
    "Let's save the resulting dataset for further use."
   ]
  },
  {
   "cell_type": "markdown",
   "metadata": {},
   "source": [
    "Shares:"
   ]
  },
  {
   "cell_type": "code",
   "execution_count": 21,
   "metadata": {},
   "outputs": [],
   "source": [
    "share_df.to_csv(csv_path + os.sep + \"shares_dirs.csv\", index=True, sep=\";\", encoding=\"utf-8\")"
   ]
  },
  {
   "cell_type": "markdown",
   "metadata": {},
   "source": [
    "Play data:"
   ]
  },
  {
   "cell_type": "code",
   "execution_count": 22,
   "metadata": {},
   "outputs": [],
   "source": [
    "df.to_csv(csv_path + os.sep + \"joint_data.csv\", index=False, sep=\";\", encoding=\"utf-8\")"
   ]
  }
 ],
 "metadata": {
  "kernelspec": {
   "display_name": "Python 3",
   "language": "python",
   "name": "python3"
  },
  "language_info": {
   "codemirror_mode": {
    "name": "ipython",
    "version": 3
   },
   "file_extension": ".py",
   "mimetype": "text/x-python",
   "name": "python",
   "nbconvert_exporter": "python",
   "pygments_lexer": "ipython3",
   "version": "3.6.5"
  }
 },
 "nbformat": 4,
 "nbformat_minor": 2
}
