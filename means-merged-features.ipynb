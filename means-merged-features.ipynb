{
 "cells": [
  {
   "cell_type": "markdown",
   "metadata": {},
   "source": [
    "# Mean POS amounts and creating a bigger dataset\n",
    "\n",
    "**What we do in this notebook:**\n",
    "\n",
    "* calculate mean amounts of various parts-of-speech in plays,\n",
    "* create a dataset with these mean values,\n",
    "* add this information to the dataset with general information on the plays."
   ]
  },
  {
   "cell_type": "markdown",
   "metadata": {},
   "source": [
    "## Preparations"
   ]
  },
  {
   "cell_type": "markdown",
   "metadata": {},
   "source": [
    "### Paths and folders"
   ]
  },
  {
   "cell_type": "code",
   "execution_count": 1,
   "metadata": {
    "collapsed": true
   },
   "outputs": [],
   "source": [
    "import os"
   ]
  },
  {
   "cell_type": "code",
   "execution_count": 2,
   "metadata": {
    "collapsed": true
   },
   "outputs": [],
   "source": [
    "directions_path = \"..\" + os.sep + \"directions\"\n",
    "csv_path = \".\" + os.sep + \"csv\"\n",
    "corpus_path = \"..\" + os.sep + \"RusDraCor\""
   ]
  },
  {
   "cell_type": "markdown",
   "metadata": {},
   "source": [
    "This is required because I'm using a Mac, which sometimes creates system folders like `.DS_Store`; in any other case — never mind."
   ]
  },
  {
   "cell_type": "code",
   "execution_count": 3,
   "metadata": {
    "collapsed": true
   },
   "outputs": [],
   "source": [
    "directions_files = [item for item in os.listdir(directions_path) \n",
    "                    if (item.endswith(\".txt\") and not item.startswith(\"all_directions\"))]\n",
    "play_files = [item for item in os.listdir(corpus_path) if item.endswith(\".xml\")]"
   ]
  },
  {
   "cell_type": "markdown",
   "metadata": {},
   "source": [
    "## Parts-of-speech"
   ]
  },
  {
   "cell_type": "markdown",
   "metadata": {},
   "source": [
    "### Counting POS\n",
    "We will count the following parts-of-speech:\n",
    "\n",
    "* nouns,\n",
    "* adjectives,\n",
    "* verbs,\n",
    "* adverbs,\n",
    "* interjections,\n",
    "* prepositions.\n",
    "\n",
    "The values will be respresented as a _fraction_, a result of division of the POS to the total amount of words in the direction.\n",
    "\n",
    "$$ \\text{POS count} = \\frac{\\text{amount of POS in a direction}}{\\text{total amount of words}} $$\n",
    "\n",
    "Tokenization will be done with help of [NLTK](https://www.nltk.org/) `wordpunct` tokenizer.\n",
    "\n",
    "Part-of-speech tagging will be performed via ```pymmorphy2```, [an open-source Python library](http://pymorphy2.readthedocs.io/en/latest/) for morphological annotation of Russian texts, based on [Russian Open Corpus](http://opencorpora.org/)."
   ]
  },
  {
   "cell_type": "code",
   "execution_count": 4,
   "metadata": {},
   "outputs": [],
   "source": [
    "import re\n",
    "from pymorphy2 import MorphAnalyzer\n",
    "from nltk.tokenize import wordpunct_tokenize\n",
    "\n",
    "morph = MorphAnalyzer()"
   ]
  },
  {
   "cell_type": "markdown",
   "metadata": {},
   "source": [
    "### Extracting the information from a _single direction_"
   ]
  },
  {
   "cell_type": "code",
   "execution_count": 5,
   "metadata": {
    "collapsed": true
   },
   "outputs": [],
   "source": [
    "def count_pos(direction):\n",
    "    pos_dict = {\"ADJ\": 0, \"ADVB\": 0, \"INTJ\": 0, \"NOUN\": 0, \"PREP\": 0, \"VERB\": 0, \n",
    "                \"Words\": 0}\n",
    "    tokens = wordpunct_tokenize(direction)\n",
    "    for token in tokens:\n",
    "        try:\n",
    "            analysis = morph.parse(token)[0]\n",
    "            pos = str(analysis.tag.POS)\n",
    "            if pos != \"PUNCT\":\n",
    "                pos_dict[\"Words\"] += 1\n",
    "                if pos in set([\"ADJF\", \"ADJS\", \"COMP\"]):\n",
    "                    pos_dict[\"ADJ\"] += 1\n",
    "                elif pos in set([\"VERB\", \"INFN\"]):\n",
    "                    pos_dict[\"VERB\"] += 1\n",
    "                elif pos in pos_dict.keys():\n",
    "                    pos_dict[pos] += 1 \n",
    "        except:\n",
    "            pass\n",
    "    return pos_dict"
   ]
  },
  {
   "cell_type": "markdown",
   "metadata": {},
   "source": [
    "### Parsing the corpus\n",
    "\n",
    "#### Applying this function to the whole play"
   ]
  },
  {
   "cell_type": "code",
   "execution_count": 6,
   "metadata": {
    "collapsed": true
   },
   "outputs": [],
   "source": [
    "def pos_play(directions_file):\n",
    "    play_total = {\"ADJ\": [], \"ADVB\": [], \"INTJ\": [], \"NOUN\": [], \"PREP\": [], \"VERB\": [],\n",
    "                  \"Words\": []}\n",
    "    \n",
    "    full_path = str(directions_path) + os.sep + directions_file\n",
    "    with open(full_path, \"r\", encoding=\"utf-8\") as directions_f:\n",
    "        directions = [line.strip(\"\\n\") for line in directions_f.readlines() if line != \"\\n\"]\n",
    "    \n",
    "    for st_dir in directions:\n",
    "        pos_direction = count_pos(st_dir)\n",
    "        for part_of_speech in pos_direction.keys():\n",
    "            play_total[part_of_speech].append(pos_direction[part_of_speech])\n",
    "    return play_total"
   ]
  },
  {
   "cell_type": "markdown",
   "metadata": {},
   "source": [
    "#### Crawling the files"
   ]
  },
  {
   "cell_type": "markdown",
   "metadata": {},
   "source": [
    "Now let's crawl the files and create a dataset."
   ]
  },
  {
   "cell_type": "code",
   "execution_count": 7,
   "metadata": {},
   "outputs": [],
   "source": [
    "from statistics import mean"
   ]
  },
  {
   "cell_type": "code",
   "execution_count": 8,
   "metadata": {},
   "outputs": [
    {
     "name": "stdout",
     "output_type": "stream",
     "text": [
      "Successfully parsed directions: sumarokov-horev.txt, total parsed: 1/91 (1.10%)\n",
      "Successfully parsed directions: gorky-egor-bulychov-i-drugie.txt, total parsed: 2/91 (2.20%)\n",
      "Successfully parsed directions: turgenev-vecher-v-sorrente.txt, total parsed: 3/91 (3.30%)\n",
      "Successfully parsed directions: gumilyov-gondla.txt, total parsed: 4/91 (4.40%)\n",
      "Successfully parsed directions: chekhov-leshii.txt, total parsed: 5/91 (5.49%)\n",
      "Successfully parsed directions: sukhovo-kobylin-svadba-krechinskogo.txt, total parsed: 6/91 (6.59%)\n",
      "Successfully parsed directions: chekhov-chaika.txt, total parsed: 7/91 (7.69%)\n",
      "Successfully parsed directions: lomonosov-tamira-i-selim.txt, total parsed: 8/91 (8.79%)\n",
      "Successfully parsed directions: pushkin-kamenniy-gost.txt, total parsed: 9/91 (9.89%)\n",
      "Successfully parsed directions: shakhovskoy-pustodomy.txt, total parsed: 10/91 (10.99%)\n",
      "Successfully parsed directions: chekhov-jubilej.txt, total parsed: 11/91 (12.09%)\n",
      "Successfully parsed directions: krylov-podschipa-ili-trumf.txt, total parsed: 12/91 (13.19%)\n",
      "Successfully parsed directions: sumarokov-semira.txt, total parsed: 13/91 (14.29%)\n",
      "Successfully parsed directions: tolstoy-zhivoy-trup.txt, total parsed: 14/91 (15.38%)\n",
      "Successfully parsed directions: ostrovsky-les.txt, total parsed: 15/91 (16.48%)\n",
      "Successfully parsed directions: gorky-na-dne.txt, total parsed: 16/91 (17.58%)\n",
      "Successfully parsed directions: bulgakov-kabala-svjatosh.txt, total parsed: 17/91 (18.68%)\n",
      "Successfully parsed directions: chekhov-medved.txt, total parsed: 18/91 (19.78%)\n",
      "Successfully parsed directions: ostrovsky-bednost-ne-porok.txt, total parsed: 19/91 (20.88%)\n",
      "Successfully parsed directions: krylov-sonnyj-poroshok.txt, total parsed: 20/91 (21.98%)\n",
      "Successfully parsed directions: ostrovsky-bespridannitsa.txt, total parsed: 21/91 (23.08%)\n",
      "Successfully parsed directions: sumarokov-dimitrij-samozvanets.txt, total parsed: 22/91 (24.18%)\n",
      "Successfully parsed directions: naydyonov-deti-vanjushina.txt, total parsed: 23/91 (25.27%)\n",
      "Successfully parsed directions: turgenev-nahlebnik.txt, total parsed: 24/91 (26.37%)\n",
      "Successfully parsed directions: chekhov-vishnevyi-sad.txt, total parsed: 25/91 (27.47%)\n",
      "Successfully parsed directions: lomonosov-demofont.txt, total parsed: 26/91 (28.57%)\n",
      "Successfully parsed directions: turgenev-holostjak.txt, total parsed: 27/91 (29.67%)\n",
      "Successfully parsed directions: gogol-zhenitba.txt, total parsed: 28/91 (30.77%)\n",
      "Successfully parsed directions: pushkin-stseny-iz-rytsarskih-vremen.txt, total parsed: 29/91 (31.87%)\n",
      "Successfully parsed directions: gogol-lakeiskaja.txt, total parsed: 30/91 (32.97%)\n",
      "Successfully parsed directions: blok-neznakomka.txt, total parsed: 31/91 (34.07%)\n",
      "Successfully parsed directions: krylov-sonnyj-poroshok-ili-pohischennaja-krestjanka.txt, total parsed: 32/91 (35.16%)\n",
      "Successfully parsed directions: sukhovo-kobylin-smert-tarelkina.txt, total parsed: 33/91 (36.26%)\n",
      "Successfully parsed directions: gumilyov-ditja-allaha.txt, total parsed: 34/91 (37.36%)\n",
      "Successfully parsed directions: shakhovskoy-ne-lubo-ne-slushai.txt, total parsed: 35/91 (38.46%)\n",
      "Successfully parsed directions: pushkin-boris-godunov.txt, total parsed: 36/91 (39.56%)\n",
      "Successfully parsed directions: prutkov-blondy.txt, total parsed: 37/91 (40.66%)\n",
      "Successfully parsed directions: pushkin-pir-vo-vremja-chumy.txt, total parsed: 38/91 (41.76%)\n",
      "Successfully parsed directions: bulgakov-dni-turbinyh.txt, total parsed: 39/91 (42.86%)\n",
      "Successfully parsed directions: prutkov-chereposlov-sirech-frenolog.txt, total parsed: 40/91 (43.96%)\n",
      "Successfully parsed directions: bulgakov-poslednie-dni.txt, total parsed: 41/91 (45.05%)\n",
      "Successfully parsed directions: gogol-revizor.txt, total parsed: 42/91 (46.15%)\n",
      "Successfully parsed directions: blok-korol-na-ploschadi.txt, total parsed: 43/91 (47.25%)\n",
      "Successfully parsed directions: gumilyov-don-zhuan-v-egipte.txt, total parsed: 44/91 (48.35%)\n",
      "Successfully parsed directions: shakhovskoy-urok-koketkam.txt, total parsed: 45/91 (49.45%)\n",
      "Successfully parsed directions: chekhov-svadba.txt, total parsed: 46/91 (50.55%)\n",
      "Successfully parsed directions: turgenev-provintsialka.txt, total parsed: 47/91 (51.65%)\n",
      "Successfully parsed directions: tolstoy-vlast-tmy.txt, total parsed: 48/91 (52.75%)\n",
      "Successfully parsed directions: gogol-utro-delovogo-cheloveka.txt, total parsed: 49/91 (53.85%)\n",
      "Successfully parsed directions: gogol-teatralnyi-razezd.txt, total parsed: 50/91 (54.95%)\n",
      "Successfully parsed directions: ostrovsky-snegurochka.txt, total parsed: 51/91 (56.04%)\n",
      "Successfully parsed directions: blok-balaganchik.txt, total parsed: 52/91 (57.14%)\n",
      "Successfully parsed directions: chekhov-ivanov.txt, total parsed: 53/91 (58.24%)\n",
      "Successfully parsed directions: chekhov-na-bolshoi-doroge.txt, total parsed: 54/91 (59.34%)\n",
      "Successfully parsed directions: bulgakov-ivan-vasilevich.txt, total parsed: 55/91 (60.44%)\n",
      "Successfully parsed directions: gogol-igroki.txt, total parsed: 56/91 (61.54%)\n",
      "Successfully parsed directions: ozerov-dmitrij-donskoj.txt, total parsed: 57/91 (62.64%)\n",
      "Successfully parsed directions: pushkin-skupoj-rytsar.txt, total parsed: 58/91 (63.74%)\n",
      "Successfully parsed directions: krylov-urok-dochkam.txt, total parsed: 59/91 (64.84%)\n",
      "Successfully parsed directions: tolstoy-tsar-boris.txt, total parsed: 60/91 (65.93%)\n",
      "Successfully parsed directions: chekhov-noch-pered-sudom.txt, total parsed: 61/91 (67.03%)\n",
      "Successfully parsed directions: chekhov-tatjana-repina.txt, total parsed: 62/91 (68.13%)\n",
      "Successfully parsed directions: gogol-tjazhba.txt, total parsed: 63/91 (69.23%)\n",
      "Successfully parsed directions: turgenev-gde-tonko-tam-i-rvetsja.txt, total parsed: 64/91 (70.33%)\n",
      "Successfully parsed directions: krylov-amerikantsy.txt, total parsed: 65/91 (71.43%)\n",
      "Successfully parsed directions: lermontov-maskarad.txt, total parsed: 66/91 (72.53%)\n",
      "Successfully parsed directions: gogol-otryvok.txt, total parsed: 67/91 (73.63%)\n",
      "Successfully parsed directions: mayakovsky-banja.txt, total parsed: 68/91 (74.73%)\n",
      "Successfully parsed directions: chekhov-tri-sestry.txt, total parsed: 69/91 (75.82%)\n",
      "Successfully parsed directions: griboyedov-gore-ot-uma.txt, total parsed: 70/91 (76.92%)\n",
      "Successfully parsed directions: turgenev-neostorozhnost.txt, total parsed: 71/91 (78.02%)\n",
      "Successfully parsed directions: gumilyov-akteon.txt, total parsed: 72/91 (79.12%)\n",
      "Successfully parsed directions: pisemskij-gorkaja-sudbina.txt, total parsed: 73/91 (80.22%)\n",
      "Successfully parsed directions: turgenev-zavtrak-u-predvoditelja.txt, total parsed: 74/91 (81.32%)\n",
      "Successfully parsed directions: plavilshchikov-sgovor-kutejkina.txt, total parsed: 75/91 (82.42%)\n",
      "Successfully parsed directions: fonvizin-brigadir.txt, total parsed: 76/91 (83.52%)\n",
      "Successfully parsed directions: chekhov-djadja-vanja.txt, total parsed: 77/91 (84.62%)\n",
      "Successfully parsed directions: tolstoy-smert-ioanna-groznogo.txt, total parsed: 78/91 (85.71%)\n",
      "Successfully parsed directions: shakhovskoy-svoya-semya.txt, total parsed: 79/91 (86.81%)\n",
      "Successfully parsed directions: fonvizin-nedorosl.txt, total parsed: 80/91 (87.91%)\n",
      "Successfully parsed directions: ostrovsky-groza.txt, total parsed: 81/91 (89.01%)\n",
      "Successfully parsed directions: pushkin-rusalka.txt, total parsed: 82/91 (90.11%)\n",
      "Successfully parsed directions: sukhovo-kobylin-delo.txt, total parsed: 83/91 (91.21%)\n",
      "Successfully parsed directions: chekhov-predlozhenie.txt, total parsed: 84/91 (92.31%)\n",
      "Successfully parsed directions: turgenev-razgovor-na-bolshoj-doroge.txt, total parsed: 85/91 (93.41%)\n",
      "Successfully parsed directions: tolstoy-tsar-fedor-ioannovich.txt, total parsed: 86/91 (94.51%)\n",
      "Successfully parsed directions: ostrovsky-volki-i-ovtsy.txt, total parsed: 87/91 (95.60%)\n",
      "Successfully parsed directions: prutkov-spor-drevnih-grecheskih-filosofov-ob-izjaschnom.txt, total parsed: 88/91 (96.70%)\n",
      "Successfully parsed directions: chekhov-tragik-ponevole.txt, total parsed: 89/91 (97.80%)\n",
      "Successfully parsed directions: pushkin-mocart-i-saleri.txt, total parsed: 90/91 (98.90%)\n",
      "Successfully parsed directions: ostrovsky-svoi-ljudi.txt, total parsed: 91/91 (100.00%)\n"
     ]
    }
   ],
   "source": [
    "plays_info = []\n",
    "directions_parsed = 0\n",
    "total_plays = len(play_files)\n",
    "\n",
    "for directions_file in directions_files:\n",
    "    stats ={}\n",
    "    play = pos_play(directions_file)\n",
    "    for key in play.keys():\n",
    "        if key != \"Words\":\n",
    "            stats[key] = mean(play[key])\n",
    "    stats[\"Path\"] = directions_file\n",
    "    plays_info.append(stats)\n",
    "    \n",
    "    # logging print\n",
    "    directions_parsed += 1\n",
    "    print(\"Successfully parsed directions: {}, total parsed: {}/{} ({:.2f}%)\".format(directions_file, \n",
    "        directions_parsed, total_plays, directions_parsed/total_plays*100))"
   ]
  },
  {
   "cell_type": "markdown",
   "metadata": {},
   "source": [
    "### POS shares/parts in the directions\n",
    "\n",
    "We have a file with all the directions, called `all_directions.txt`. In here, all the directions are stored together, without any distinction by play. What I want to achieve here is to get the _shares_ of each part-of-speech from the list. "
   ]
  },
  {
   "cell_type": "code",
   "execution_count": 9,
   "metadata": {},
   "outputs": [],
   "source": [
    "all_directions_path = directions_path + os.sep + \"all_directions.txt\"\n",
    "with open(all_directions_path, \"r\", encoding=\"utf-8\") as alldir_file:\n",
    "    all_directions = [line.strip(\"\\n\") for line in alldir_file.readlines() if line.strip(\"\\n\")]"
   ]
  },
  {
   "cell_type": "markdown",
   "metadata": {},
   "source": [
    "This is how many directions we have:"
   ]
  },
  {
   "cell_type": "code",
   "execution_count": 10,
   "metadata": {},
   "outputs": [
    {
     "data": {
      "text/plain": [
       "108540"
      ]
     },
     "execution_count": 10,
     "metadata": {},
     "output_type": "execute_result"
    }
   ],
   "source": [
    "len(all_directions)"
   ]
  },
  {
   "cell_type": "markdown",
   "metadata": {},
   "source": [
    "#### Counting shares"
   ]
  },
  {
   "cell_type": "markdown",
   "metadata": {},
   "source": [
    "This is how we count a share of the given POS from the list in a direction."
   ]
  },
  {
   "cell_type": "code",
   "execution_count": 11,
   "metadata": {},
   "outputs": [],
   "source": [
    "def pos_share(pos_dict):\n",
    "    share_dict = {\"ADJ\": 0.0, \"ADVB\": 0.0, \"INTJ\": 0.0, \"NOUN\": 0.0, \"PREP\": 0.0, \"VERB\": 0.0}\n",
    "    for pos in [\"ADJ\", \"ADVB\", \"INTJ\", \"NOUN\", \"PREP\", \"VERB\"]:\n",
    "        share_dict[pos] = pos_dict[pos]/pos_dict[\"Words\"]\n",
    "    return share_dict"
   ]
  },
  {
   "cell_type": "markdown",
   "metadata": {},
   "source": [
    "Now, let us parse the directions."
   ]
  },
  {
   "cell_type": "code",
   "execution_count": 12,
   "metadata": {},
   "outputs": [
    {
     "name": "stdout",
     "output_type": "stream",
     "text": [
      "Total parsed: 5000/108540, or 4.61%\n",
      "Total parsed: 10000/108540, or 9.21%\n",
      "Total parsed: 15000/108540, or 13.82%\n",
      "Total parsed: 20000/108540, or 18.43%\n",
      "Total parsed: 25000/108540, or 23.03%\n",
      "Total parsed: 30000/108540, or 27.64%\n",
      "Total parsed: 35000/108540, or 32.25%\n",
      "Total parsed: 40000/108540, or 36.85%\n",
      "Total parsed: 45000/108540, or 41.46%\n",
      "Total parsed: 50000/108540, or 46.07%\n",
      "Total parsed: 55000/108540, or 50.67%\n",
      "Total parsed: 60000/108540, or 55.28%\n",
      "Total parsed: 65000/108540, or 59.89%\n",
      "Total parsed: 70000/108540, or 64.49%\n",
      "Total parsed: 75000/108540, or 69.10%\n",
      "Total parsed: 80000/108540, or 73.71%\n",
      "Total parsed: 85000/108540, or 78.31%\n",
      "Total parsed: 90000/108540, or 82.92%\n",
      "Total parsed: 95000/108540, or 87.53%\n",
      "Total parsed: 100000/108540, or 92.13%\n",
      "Total parsed: 105000/108540, or 96.74%\n",
      "Done!\n"
     ]
    }
   ],
   "source": [
    "directions_share_list = []\n",
    "ready_dirs = 0\n",
    "total_dirs = len(all_directions)\n",
    "\n",
    "for direction in all_directions:\n",
    "    # calculate things\n",
    "    pos_dict = count_pos(direction)\n",
    "    share_dict = pos_share(pos_dict)\n",
    "    share_dict[\"Text\"] = direction\n",
    "    \n",
    "    # add them to the list\n",
    "    directions_share_list.append(share_dict)\n",
    "    \n",
    "    # logging print\n",
    "    ready_dirs += 1\n",
    "    ratio = ready_dirs/total_dirs*100\n",
    "    if ready_dirs % 5000 == 0:\n",
    "        print(\"Total parsed: {}/{}, or {:.2f}%\".format(ready_dirs, total_dirs, ratio))\n",
    "print(\"Done!\")"
   ]
  },
  {
   "cell_type": "markdown",
   "metadata": {},
   "source": [
    "### Datasets\n",
    "\n",
    "Now, turning everything into pretty tables and datasets!"
   ]
  },
  {
   "cell_type": "code",
   "execution_count": 13,
   "metadata": {},
   "outputs": [],
   "source": [
    "import pandas as pd\n",
    "\n",
    "pd.set_option(\"max_colwidth\", 1000)"
   ]
  },
  {
   "cell_type": "markdown",
   "metadata": {},
   "source": [
    "This is the dataset of plays:"
   ]
  },
  {
   "cell_type": "code",
   "execution_count": 14,
   "metadata": {
    "collapsed": true
   },
   "outputs": [
    {
     "data": {
      "text/html": [
       "<div>\n",
       "<style scoped>\n",
       "    .dataframe tbody tr th:only-of-type {\n",
       "        vertical-align: middle;\n",
       "    }\n",
       "\n",
       "    .dataframe tbody tr th {\n",
       "        vertical-align: top;\n",
       "    }\n",
       "\n",
       "    .dataframe thead th {\n",
       "        text-align: right;\n",
       "    }\n",
       "</style>\n",
       "<table border=\"1\" class=\"dataframe\">\n",
       "  <thead>\n",
       "    <tr style=\"text-align: right;\">\n",
       "      <th></th>\n",
       "      <th>ADJ</th>\n",
       "      <th>ADVB</th>\n",
       "      <th>INTJ</th>\n",
       "      <th>NOUN</th>\n",
       "      <th>PREP</th>\n",
       "      <th>VERB</th>\n",
       "    </tr>\n",
       "    <tr>\n",
       "      <th>Path</th>\n",
       "      <th></th>\n",
       "      <th></th>\n",
       "      <th></th>\n",
       "      <th></th>\n",
       "      <th></th>\n",
       "      <th></th>\n",
       "    </tr>\n",
       "  </thead>\n",
       "  <tbody>\n",
       "    <tr>\n",
       "      <th>sumarokov-horev.txt</th>\n",
       "      <td>0.545455</td>\n",
       "      <td>0.090909</td>\n",
       "      <td>0.000000</td>\n",
       "      <td>1.666667</td>\n",
       "      <td>0.242424</td>\n",
       "      <td>0.121212</td>\n",
       "    </tr>\n",
       "    <tr>\n",
       "      <th>gorky-egor-bulychov-i-drugie.txt</th>\n",
       "      <td>0.457286</td>\n",
       "      <td>0.276382</td>\n",
       "      <td>0.000000</td>\n",
       "      <td>1.839196</td>\n",
       "      <td>0.738693</td>\n",
       "      <td>1.095477</td>\n",
       "    </tr>\n",
       "    <tr>\n",
       "      <th>turgenev-vecher-v-sorrente.txt</th>\n",
       "      <td>0.354167</td>\n",
       "      <td>0.312500</td>\n",
       "      <td>0.000000</td>\n",
       "      <td>1.548611</td>\n",
       "      <td>0.812500</td>\n",
       "      <td>0.923611</td>\n",
       "    </tr>\n",
       "    <tr>\n",
       "      <th>gumilyov-gondla.txt</th>\n",
       "      <td>0.370968</td>\n",
       "      <td>0.145161</td>\n",
       "      <td>0.112903</td>\n",
       "      <td>1.806452</td>\n",
       "      <td>0.548387</td>\n",
       "      <td>0.435484</td>\n",
       "    </tr>\n",
       "    <tr>\n",
       "      <th>chekhov-leshii.txt</th>\n",
       "      <td>0.365462</td>\n",
       "      <td>0.092369</td>\n",
       "      <td>0.004016</td>\n",
       "      <td>1.100402</td>\n",
       "      <td>0.379518</td>\n",
       "      <td>0.656627</td>\n",
       "    </tr>\n",
       "  </tbody>\n",
       "</table>\n",
       "</div>"
      ],
      "text/plain": [
       "                                       ADJ      ADVB      INTJ      NOUN  \\\n",
       "Path                                                                       \n",
       "sumarokov-horev.txt               0.545455  0.090909  0.000000  1.666667   \n",
       "gorky-egor-bulychov-i-drugie.txt  0.457286  0.276382  0.000000  1.839196   \n",
       "turgenev-vecher-v-sorrente.txt    0.354167  0.312500  0.000000  1.548611   \n",
       "gumilyov-gondla.txt               0.370968  0.145161  0.112903  1.806452   \n",
       "chekhov-leshii.txt                0.365462  0.092369  0.004016  1.100402   \n",
       "\n",
       "                                      PREP      VERB  \n",
       "Path                                                  \n",
       "sumarokov-horev.txt               0.242424  0.121212  \n",
       "gorky-egor-bulychov-i-drugie.txt  0.738693  1.095477  \n",
       "turgenev-vecher-v-sorrente.txt    0.812500  0.923611  \n",
       "gumilyov-gondla.txt               0.548387  0.435484  \n",
       "chekhov-leshii.txt                0.379518  0.656627  "
      ]
     },
     "execution_count": 14,
     "metadata": {},
     "output_type": "execute_result"
    }
   ],
   "source": [
    "df_mean = pd.DataFrame(plays_info)\n",
    "df_mean = df_mean.set_index(\"Path\")\n",
    "df_mean.head()"
   ]
  },
  {
   "cell_type": "markdown",
   "metadata": {},
   "source": [
    "And this is the dataset of directions:"
   ]
  },
  {
   "cell_type": "code",
   "execution_count": 15,
   "metadata": {},
   "outputs": [
    {
     "data": {
      "text/html": [
       "<div>\n",
       "<style scoped>\n",
       "    .dataframe tbody tr th:only-of-type {\n",
       "        vertical-align: middle;\n",
       "    }\n",
       "\n",
       "    .dataframe tbody tr th {\n",
       "        vertical-align: top;\n",
       "    }\n",
       "\n",
       "    .dataframe thead th {\n",
       "        text-align: right;\n",
       "    }\n",
       "</style>\n",
       "<table border=\"1\" class=\"dataframe\">\n",
       "  <thead>\n",
       "    <tr style=\"text-align: right;\">\n",
       "      <th></th>\n",
       "      <th>ADJ</th>\n",
       "      <th>ADVB</th>\n",
       "      <th>INTJ</th>\n",
       "      <th>NOUN</th>\n",
       "      <th>PREP</th>\n",
       "      <th>VERB</th>\n",
       "    </tr>\n",
       "    <tr>\n",
       "      <th>Text</th>\n",
       "      <th></th>\n",
       "      <th></th>\n",
       "      <th></th>\n",
       "      <th></th>\n",
       "      <th></th>\n",
       "      <th></th>\n",
       "    </tr>\n",
       "  </thead>\n",
       "  <tbody>\n",
       "    <tr>\n",
       "      <th>входит брат бертольд</th>\n",
       "      <td>0.00</td>\n",
       "      <td>0.0</td>\n",
       "      <td>0.0</td>\n",
       "      <td>0.666667</td>\n",
       "      <td>0.00</td>\n",
       "      <td>0.333333</td>\n",
       "    </tr>\n",
       "    <tr>\n",
       "      <th>бертольд и франц</th>\n",
       "      <td>0.00</td>\n",
       "      <td>0.0</td>\n",
       "      <td>0.0</td>\n",
       "      <td>0.666667</td>\n",
       "      <td>0.00</td>\n",
       "      <td>0.000000</td>\n",
       "    </tr>\n",
       "    <tr>\n",
       "      <th>входит мартын</th>\n",
       "      <td>0.00</td>\n",
       "      <td>0.0</td>\n",
       "      <td>0.0</td>\n",
       "      <td>0.500000</td>\n",
       "      <td>0.00</td>\n",
       "      <td>0.500000</td>\n",
       "    </tr>\n",
       "    <tr>\n",
       "      <th>расходятся в разные стороны</th>\n",
       "      <td>0.25</td>\n",
       "      <td>0.0</td>\n",
       "      <td>0.0</td>\n",
       "      <td>0.250000</td>\n",
       "      <td>0.25</td>\n",
       "      <td>0.250000</td>\n",
       "    </tr>\n",
       "    <tr>\n",
       "      <th>почесывается</th>\n",
       "      <td>0.00</td>\n",
       "      <td>0.0</td>\n",
       "      <td>0.0</td>\n",
       "      <td>0.000000</td>\n",
       "      <td>0.00</td>\n",
       "      <td>1.000000</td>\n",
       "    </tr>\n",
       "  </tbody>\n",
       "</table>\n",
       "</div>"
      ],
      "text/plain": [
       "                              ADJ  ADVB  INTJ      NOUN  PREP      VERB\n",
       "Text                                                                   \n",
       "входит брат бертольд         0.00   0.0   0.0  0.666667  0.00  0.333333\n",
       "бертольд и франц             0.00   0.0   0.0  0.666667  0.00  0.000000\n",
       "входит мартын                0.00   0.0   0.0  0.500000  0.00  0.500000\n",
       "расходятся в разные стороны  0.25   0.0   0.0  0.250000  0.25  0.250000\n",
       "почесывается                 0.00   0.0   0.0  0.000000  0.00  1.000000"
      ]
     },
     "execution_count": 15,
     "metadata": {},
     "output_type": "execute_result"
    }
   ],
   "source": [
    "share_df = pd.DataFrame(directions_share_list)\n",
    "share_df = share_df.set_index(\"Text\")\n",
    "share_df.head()"
   ]
  },
  {
   "cell_type": "markdown",
   "metadata": {},
   "source": [
    "## Merging the information\n",
    "Let's add this information to the dataset we created in another notebook, [directions-basic](./directions-basic.ipynb).\n",
    "\n",
    "### Loading data with general information about the plays\n",
    "\n",
    "Now, we'll load information from [directions-basic](./directions-basic.ipynb)."
   ]
  },
  {
   "cell_type": "code",
   "execution_count": 16,
   "metadata": {},
   "outputs": [],
   "source": [
    "df_info = pd.read_csv(csv_path + os.sep + \"general_information.csv\", sep=\";\", index_col=False)"
   ]
  },
  {
   "cell_type": "markdown",
   "metadata": {},
   "source": [
    "Unfortunately, we also have to do some transformations in order to merge everything into a single dataframe:\n",
    "\n",
    "* all the paths in the `File` column end in `.xml`, though it should be `.txt` in order to be consistent,\n",
    "* we'll also use `File` column as index."
   ]
  },
  {
   "cell_type": "code",
   "execution_count": 17,
   "metadata": {},
   "outputs": [],
   "source": [
    "# we need this to rename strings\n",
    "def xml_to_txt(file_name):\n",
    "    new_name = file_name[:-3] + \"txt\"\n",
    "    return new_name"
   ]
  },
  {
   "cell_type": "code",
   "execution_count": 18,
   "metadata": {},
   "outputs": [],
   "source": [
    "df_info[\"Path\"] = df_info[\"Path\"].apply(xml_to_txt)\n",
    "df_info = df_info.set_index(\"Path\")"
   ]
  },
  {
   "cell_type": "markdown",
   "metadata": {},
   "source": [
    "After the transformations, the dataset looks like this:"
   ]
  },
  {
   "cell_type": "code",
   "execution_count": 19,
   "metadata": {},
   "outputs": [
    {
     "data": {
      "text/html": [
       "<div>\n",
       "<style scoped>\n",
       "    .dataframe tbody tr th:only-of-type {\n",
       "        vertical-align: middle;\n",
       "    }\n",
       "\n",
       "    .dataframe tbody tr th {\n",
       "        vertical-align: top;\n",
       "    }\n",
       "\n",
       "    .dataframe thead th {\n",
       "        text-align: right;\n",
       "    }\n",
       "</style>\n",
       "<table border=\"1\" class=\"dataframe\">\n",
       "  <thead>\n",
       "    <tr style=\"text-align: right;\">\n",
       "      <th></th>\n",
       "      <th>Acts</th>\n",
       "      <th>Author</th>\n",
       "      <th>Directions</th>\n",
       "      <th>Lemmas</th>\n",
       "      <th>Lemmas, per direction</th>\n",
       "      <th>Title</th>\n",
       "      <th>Words</th>\n",
       "      <th>Words, per direction</th>\n",
       "      <th>Year</th>\n",
       "      <th>Directions, per act</th>\n",
       "      <th>Words, per act</th>\n",
       "      <th>Lemmas, per act</th>\n",
       "    </tr>\n",
       "    <tr>\n",
       "      <th>Path</th>\n",
       "      <th></th>\n",
       "      <th></th>\n",
       "      <th></th>\n",
       "      <th></th>\n",
       "      <th></th>\n",
       "      <th></th>\n",
       "      <th></th>\n",
       "      <th></th>\n",
       "      <th></th>\n",
       "      <th></th>\n",
       "      <th></th>\n",
       "      <th></th>\n",
       "    </tr>\n",
       "  </thead>\n",
       "  <tbody>\n",
       "    <tr>\n",
       "      <th>pushkin-stseny-iz-rytsarskih-vremen.txt</th>\n",
       "      <td>1</td>\n",
       "      <td>Пушкин, Александр Сергеевич</td>\n",
       "      <td>38</td>\n",
       "      <td>996</td>\n",
       "      <td>4.973684</td>\n",
       "      <td>Сцены из рыцарских времен</td>\n",
       "      <td>3399</td>\n",
       "      <td>3.131579</td>\n",
       "      <td>1837</td>\n",
       "      <td>38.000000</td>\n",
       "      <td>3399.0</td>\n",
       "      <td>996.000000</td>\n",
       "    </tr>\n",
       "    <tr>\n",
       "      <th>turgenev-holostjak.txt</th>\n",
       "      <td>1</td>\n",
       "      <td>Тургенев, Иван Сергеевич</td>\n",
       "      <td>687</td>\n",
       "      <td>2785</td>\n",
       "      <td>6.391557</td>\n",
       "      <td>Холостяк</td>\n",
       "      <td>21501</td>\n",
       "      <td>4.506550</td>\n",
       "      <td>1849</td>\n",
       "      <td>687.000000</td>\n",
       "      <td>21501.0</td>\n",
       "      <td>2785.000000</td>\n",
       "    </tr>\n",
       "    <tr>\n",
       "      <th>gogol-zhenitba.txt</th>\n",
       "      <td>2</td>\n",
       "      <td>Гоголь, Николай Васильевич</td>\n",
       "      <td>254</td>\n",
       "      <td>2187</td>\n",
       "      <td>5.952756</td>\n",
       "      <td>Женитьба</td>\n",
       "      <td>13094</td>\n",
       "      <td>3.925197</td>\n",
       "      <td>1842</td>\n",
       "      <td>127.000000</td>\n",
       "      <td>6547.0</td>\n",
       "      <td>1093.500000</td>\n",
       "    </tr>\n",
       "    <tr>\n",
       "      <th>krylov-sonnyj-poroshok-ili-pohischennaja-krestjanka.txt</th>\n",
       "      <td>3</td>\n",
       "      <td>Крылов, Иван Андреевич</td>\n",
       "      <td>88</td>\n",
       "      <td>1550</td>\n",
       "      <td>6.522727</td>\n",
       "      <td>Сонный порошок или похищенная крестьянка</td>\n",
       "      <td>7605</td>\n",
       "      <td>4.215909</td>\n",
       "      <td>1800</td>\n",
       "      <td>29.333333</td>\n",
       "      <td>2535.0</td>\n",
       "      <td>516.666667</td>\n",
       "    </tr>\n",
       "    <tr>\n",
       "      <th>blok-neznakomka.txt</th>\n",
       "      <td>1</td>\n",
       "      <td>Блок, Александр Александрович</td>\n",
       "      <td>80</td>\n",
       "      <td>1342</td>\n",
       "      <td>18.025000</td>\n",
       "      <td>Незнакомка</td>\n",
       "      <td>4222</td>\n",
       "      <td>16.462500</td>\n",
       "      <td>1907</td>\n",
       "      <td>80.000000</td>\n",
       "      <td>4222.0</td>\n",
       "      <td>1342.000000</td>\n",
       "    </tr>\n",
       "  </tbody>\n",
       "</table>\n",
       "</div>"
      ],
      "text/plain": [
       "                                                         Acts  \\\n",
       "Path                                                            \n",
       "pushkin-stseny-iz-rytsarskih-vremen.txt                     1   \n",
       "turgenev-holostjak.txt                                      1   \n",
       "gogol-zhenitba.txt                                          2   \n",
       "krylov-sonnyj-poroshok-ili-pohischennaja-krestjanka.txt     3   \n",
       "blok-neznakomka.txt                                         1   \n",
       "\n",
       "                                                                                Author  \\\n",
       "Path                                                                                     \n",
       "pushkin-stseny-iz-rytsarskih-vremen.txt                    Пушкин, Александр Сергеевич   \n",
       "turgenev-holostjak.txt                                        Тургенев, Иван Сергеевич   \n",
       "gogol-zhenitba.txt                                          Гоголь, Николай Васильевич   \n",
       "krylov-sonnyj-poroshok-ili-pohischennaja-krestjanka.txt         Крылов, Иван Андреевич   \n",
       "blok-neznakomka.txt                                      Блок, Александр Александрович   \n",
       "\n",
       "                                                         Directions  Lemmas  \\\n",
       "Path                                                                          \n",
       "pushkin-stseny-iz-rytsarskih-vremen.txt                          38     996   \n",
       "turgenev-holostjak.txt                                          687    2785   \n",
       "gogol-zhenitba.txt                                              254    2187   \n",
       "krylov-sonnyj-poroshok-ili-pohischennaja-krestjanka.txt          88    1550   \n",
       "blok-neznakomka.txt                                              80    1342   \n",
       "\n",
       "                                                         Lemmas, per direction  \\\n",
       "Path                                                                             \n",
       "pushkin-stseny-iz-rytsarskih-vremen.txt                               4.973684   \n",
       "turgenev-holostjak.txt                                                6.391557   \n",
       "gogol-zhenitba.txt                                                    5.952756   \n",
       "krylov-sonnyj-poroshok-ili-pohischennaja-krestjanka.txt               6.522727   \n",
       "blok-neznakomka.txt                                                  18.025000   \n",
       "\n",
       "                                                                                            Title  \\\n",
       "Path                                                                                                \n",
       "pushkin-stseny-iz-rytsarskih-vremen.txt                                 Сцены из рыцарских времен   \n",
       "turgenev-holostjak.txt                                                                   Холостяк   \n",
       "gogol-zhenitba.txt                                                                       Женитьба   \n",
       "krylov-sonnyj-poroshok-ili-pohischennaja-krestjanka.txt  Сонный порошок или похищенная крестьянка   \n",
       "blok-neznakomka.txt                                                                    Незнакомка   \n",
       "\n",
       "                                                         Words  \\\n",
       "Path                                                             \n",
       "pushkin-stseny-iz-rytsarskih-vremen.txt                   3399   \n",
       "turgenev-holostjak.txt                                   21501   \n",
       "gogol-zhenitba.txt                                       13094   \n",
       "krylov-sonnyj-poroshok-ili-pohischennaja-krestjanka.txt   7605   \n",
       "blok-neznakomka.txt                                       4222   \n",
       "\n",
       "                                                         Words, per direction  \\\n",
       "Path                                                                            \n",
       "pushkin-stseny-iz-rytsarskih-vremen.txt                              3.131579   \n",
       "turgenev-holostjak.txt                                               4.506550   \n",
       "gogol-zhenitba.txt                                                   3.925197   \n",
       "krylov-sonnyj-poroshok-ili-pohischennaja-krestjanka.txt              4.215909   \n",
       "blok-neznakomka.txt                                                 16.462500   \n",
       "\n",
       "                                                         Year  \\\n",
       "Path                                                            \n",
       "pushkin-stseny-iz-rytsarskih-vremen.txt                  1837   \n",
       "turgenev-holostjak.txt                                   1849   \n",
       "gogol-zhenitba.txt                                       1842   \n",
       "krylov-sonnyj-poroshok-ili-pohischennaja-krestjanka.txt  1800   \n",
       "blok-neznakomka.txt                                      1907   \n",
       "\n",
       "                                                         Directions, per act  \\\n",
       "Path                                                                           \n",
       "pushkin-stseny-iz-rytsarskih-vremen.txt                            38.000000   \n",
       "turgenev-holostjak.txt                                            687.000000   \n",
       "gogol-zhenitba.txt                                                127.000000   \n",
       "krylov-sonnyj-poroshok-ili-pohischennaja-krestjanka.txt            29.333333   \n",
       "blok-neznakomka.txt                                                80.000000   \n",
       "\n",
       "                                                         Words, per act  \\\n",
       "Path                                                                      \n",
       "pushkin-stseny-iz-rytsarskih-vremen.txt                          3399.0   \n",
       "turgenev-holostjak.txt                                          21501.0   \n",
       "gogol-zhenitba.txt                                               6547.0   \n",
       "krylov-sonnyj-poroshok-ili-pohischennaja-krestjanka.txt          2535.0   \n",
       "blok-neznakomka.txt                                              4222.0   \n",
       "\n",
       "                                                         Lemmas, per act  \n",
       "Path                                                                      \n",
       "pushkin-stseny-iz-rytsarskih-vremen.txt                       996.000000  \n",
       "turgenev-holostjak.txt                                       2785.000000  \n",
       "gogol-zhenitba.txt                                           1093.500000  \n",
       "krylov-sonnyj-poroshok-ili-pohischennaja-krestjanka.txt       516.666667  \n",
       "blok-neznakomka.txt                                          1342.000000  "
      ]
     },
     "execution_count": 19,
     "metadata": {},
     "output_type": "execute_result"
    }
   ],
   "source": [
    "df_info.head()"
   ]
  },
  {
   "cell_type": "markdown",
   "metadata": {},
   "source": [
    "## Merging datasets\n",
    "\n",
    "Now, we have to merge the datasets."
   ]
  },
  {
   "cell_type": "code",
   "execution_count": 20,
   "metadata": {},
   "outputs": [
    {
     "data": {
      "text/html": [
       "<div>\n",
       "<style scoped>\n",
       "    .dataframe tbody tr th:only-of-type {\n",
       "        vertical-align: middle;\n",
       "    }\n",
       "\n",
       "    .dataframe tbody tr th {\n",
       "        vertical-align: top;\n",
       "    }\n",
       "\n",
       "    .dataframe thead th {\n",
       "        text-align: right;\n",
       "    }\n",
       "</style>\n",
       "<table border=\"1\" class=\"dataframe\">\n",
       "  <thead>\n",
       "    <tr style=\"text-align: right;\">\n",
       "      <th></th>\n",
       "      <th>Acts</th>\n",
       "      <th>Author</th>\n",
       "      <th>Directions</th>\n",
       "      <th>Lemmas</th>\n",
       "      <th>Lemmas, per direction</th>\n",
       "      <th>Title</th>\n",
       "      <th>Words</th>\n",
       "      <th>Words, per direction</th>\n",
       "      <th>Year</th>\n",
       "      <th>Directions, per act</th>\n",
       "      <th>Words, per act</th>\n",
       "      <th>Lemmas, per act</th>\n",
       "      <th>ADJ</th>\n",
       "      <th>ADVB</th>\n",
       "      <th>INTJ</th>\n",
       "      <th>NOUN</th>\n",
       "      <th>PREP</th>\n",
       "      <th>VERB</th>\n",
       "    </tr>\n",
       "  </thead>\n",
       "  <tbody>\n",
       "    <tr>\n",
       "      <th>blok-balaganchik.txt</th>\n",
       "      <td>1</td>\n",
       "      <td>Блок, Александр Александрович</td>\n",
       "      <td>38</td>\n",
       "      <td>910</td>\n",
       "      <td>22.263158</td>\n",
       "      <td>Балаганчик</td>\n",
       "      <td>2240</td>\n",
       "      <td>22.736842</td>\n",
       "      <td>1906</td>\n",
       "      <td>38.000000</td>\n",
       "      <td>2240.000000</td>\n",
       "      <td>910.000000</td>\n",
       "      <td>3.289474</td>\n",
       "      <td>1.315789</td>\n",
       "      <td>0.000000</td>\n",
       "      <td>7.815789</td>\n",
       "      <td>3.315789</td>\n",
       "      <td>3.368421</td>\n",
       "    </tr>\n",
       "    <tr>\n",
       "      <th>blok-korol-na-ploschadi.txt</th>\n",
       "      <td>3</td>\n",
       "      <td>Блок, Александр Александрович</td>\n",
       "      <td>133</td>\n",
       "      <td>1475</td>\n",
       "      <td>14.631579</td>\n",
       "      <td>Король на площади</td>\n",
       "      <td>5535</td>\n",
       "      <td>12.466165</td>\n",
       "      <td>1907</td>\n",
       "      <td>44.333333</td>\n",
       "      <td>1845.000000</td>\n",
       "      <td>491.666667</td>\n",
       "      <td>1.421053</td>\n",
       "      <td>0.872180</td>\n",
       "      <td>0.045113</td>\n",
       "      <td>4.428571</td>\n",
       "      <td>1.684211</td>\n",
       "      <td>2.090226</td>\n",
       "    </tr>\n",
       "    <tr>\n",
       "      <th>blok-neznakomka.txt</th>\n",
       "      <td>1</td>\n",
       "      <td>Блок, Александр Александрович</td>\n",
       "      <td>80</td>\n",
       "      <td>1342</td>\n",
       "      <td>18.025000</td>\n",
       "      <td>Незнакомка</td>\n",
       "      <td>4222</td>\n",
       "      <td>16.462500</td>\n",
       "      <td>1907</td>\n",
       "      <td>80.000000</td>\n",
       "      <td>4222.000000</td>\n",
       "      <td>1342.000000</td>\n",
       "      <td>2.462500</td>\n",
       "      <td>0.950000</td>\n",
       "      <td>0.000000</td>\n",
       "      <td>5.450000</td>\n",
       "      <td>2.125000</td>\n",
       "      <td>2.837500</td>\n",
       "    </tr>\n",
       "    <tr>\n",
       "      <th>bulgakov-dni-turbinyh.txt</th>\n",
       "      <td>4</td>\n",
       "      <td>Булгаков, Михаил Афанасьевич</td>\n",
       "      <td>372</td>\n",
       "      <td>2901</td>\n",
       "      <td>5.634409</td>\n",
       "      <td>Дни Турбиных</td>\n",
       "      <td>16426</td>\n",
       "      <td>3.739247</td>\n",
       "      <td>1926</td>\n",
       "      <td>93.000000</td>\n",
       "      <td>4106.500000</td>\n",
       "      <td>725.250000</td>\n",
       "      <td>0.416667</td>\n",
       "      <td>0.131720</td>\n",
       "      <td>0.018817</td>\n",
       "      <td>1.478495</td>\n",
       "      <td>0.540323</td>\n",
       "      <td>0.833333</td>\n",
       "    </tr>\n",
       "    <tr>\n",
       "      <th>bulgakov-ivan-vasilevich.txt</th>\n",
       "      <td>3</td>\n",
       "      <td>Булгаков, Михаил Афанасьевич</td>\n",
       "      <td>319</td>\n",
       "      <td>2195</td>\n",
       "      <td>6.507837</td>\n",
       "      <td>Иван Васильевич</td>\n",
       "      <td>10303</td>\n",
       "      <td>4.721003</td>\n",
       "      <td>1936</td>\n",
       "      <td>106.333333</td>\n",
       "      <td>3434.333333</td>\n",
       "      <td>731.666667</td>\n",
       "      <td>0.391850</td>\n",
       "      <td>0.156740</td>\n",
       "      <td>0.006270</td>\n",
       "      <td>2.015674</td>\n",
       "      <td>0.689655</td>\n",
       "      <td>1.068966</td>\n",
       "    </tr>\n",
       "  </tbody>\n",
       "</table>\n",
       "</div>"
      ],
      "text/plain": [
       "                              Acts                         Author  Directions  \\\n",
       "blok-balaganchik.txt             1  Блок, Александр Александрович          38   \n",
       "blok-korol-na-ploschadi.txt      3  Блок, Александр Александрович         133   \n",
       "blok-neznakomka.txt              1  Блок, Александр Александрович          80   \n",
       "bulgakov-dni-turbinyh.txt        4   Булгаков, Михаил Афанасьевич         372   \n",
       "bulgakov-ivan-vasilevich.txt     3   Булгаков, Михаил Афанасьевич         319   \n",
       "\n",
       "                              Lemmas  Lemmas, per direction  \\\n",
       "blok-balaganchik.txt             910              22.263158   \n",
       "blok-korol-na-ploschadi.txt     1475              14.631579   \n",
       "blok-neznakomka.txt             1342              18.025000   \n",
       "bulgakov-dni-turbinyh.txt       2901               5.634409   \n",
       "bulgakov-ivan-vasilevich.txt    2195               6.507837   \n",
       "\n",
       "                                          Title  Words  Words, per direction  \\\n",
       "blok-balaganchik.txt                 Балаганчик   2240             22.736842   \n",
       "blok-korol-na-ploschadi.txt   Король на площади   5535             12.466165   \n",
       "blok-neznakomka.txt                  Незнакомка   4222             16.462500   \n",
       "bulgakov-dni-turbinyh.txt          Дни Турбиных  16426              3.739247   \n",
       "bulgakov-ivan-vasilevich.txt    Иван Васильевич  10303              4.721003   \n",
       "\n",
       "                              Year  Directions, per act  Words, per act  \\\n",
       "blok-balaganchik.txt          1906            38.000000     2240.000000   \n",
       "blok-korol-na-ploschadi.txt   1907            44.333333     1845.000000   \n",
       "blok-neznakomka.txt           1907            80.000000     4222.000000   \n",
       "bulgakov-dni-turbinyh.txt     1926            93.000000     4106.500000   \n",
       "bulgakov-ivan-vasilevich.txt  1936           106.333333     3434.333333   \n",
       "\n",
       "                              Lemmas, per act       ADJ      ADVB      INTJ  \\\n",
       "blok-balaganchik.txt               910.000000  3.289474  1.315789  0.000000   \n",
       "blok-korol-na-ploschadi.txt        491.666667  1.421053  0.872180  0.045113   \n",
       "blok-neznakomka.txt               1342.000000  2.462500  0.950000  0.000000   \n",
       "bulgakov-dni-turbinyh.txt          725.250000  0.416667  0.131720  0.018817   \n",
       "bulgakov-ivan-vasilevich.txt       731.666667  0.391850  0.156740  0.006270   \n",
       "\n",
       "                                  NOUN      PREP      VERB  \n",
       "blok-balaganchik.txt          7.815789  3.315789  3.368421  \n",
       "blok-korol-na-ploschadi.txt   4.428571  1.684211  2.090226  \n",
       "blok-neznakomka.txt           5.450000  2.125000  2.837500  \n",
       "bulgakov-dni-turbinyh.txt     1.478495  0.540323  0.833333  \n",
       "bulgakov-ivan-vasilevich.txt  2.015674  0.689655  1.068966  "
      ]
     },
     "execution_count": 20,
     "metadata": {},
     "output_type": "execute_result"
    }
   ],
   "source": [
    "df = pd.concat([df_info, df_mean], axis=1)\n",
    "df.head()"
   ]
  },
  {
   "cell_type": "markdown",
   "metadata": {},
   "source": [
    "## Saving datasets\n",
    "\n",
    "Let's save the resulting dataset for further use."
   ]
  },
  {
   "cell_type": "markdown",
   "metadata": {},
   "source": [
    "Shares:"
   ]
  },
  {
   "cell_type": "code",
   "execution_count": 21,
   "metadata": {},
   "outputs": [],
   "source": [
    "share_df.to_csv(csv_path + os.sep + \"shares_dirs.csv\", index=False, sep=\";\", encoding=\"utf-8\")"
   ]
  },
  {
   "cell_type": "markdown",
   "metadata": {},
   "source": [
    "Play data:"
   ]
  },
  {
   "cell_type": "code",
   "execution_count": 22,
   "metadata": {},
   "outputs": [],
   "source": [
    "df.to_csv(csv_path + os.sep + \"joint_data.csv\", index=False, sep=\";\", encoding=\"utf-8\")"
   ]
  }
 ],
 "metadata": {
  "kernelspec": {
   "display_name": "Python 3",
   "language": "python",
   "name": "python3"
  },
  "language_info": {
   "codemirror_mode": {
    "name": "ipython",
    "version": 3
   },
   "file_extension": ".py",
   "mimetype": "text/x-python",
   "name": "python",
   "nbconvert_exporter": "python",
   "pygments_lexer": "ipython3",
   "version": "3.6.4"
  }
 },
 "nbformat": 4,
 "nbformat_minor": 2
}
