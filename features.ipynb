{
 "cells": [
  {
   "cell_type": "markdown",
   "metadata": {},
   "source": [
    "# Directions and their features"
   ]
  },
  {
   "cell_type": "markdown",
   "metadata": {},
   "source": [
    "## Imports and globals\n",
    "Run this before everything else!"
   ]
  },
  {
   "cell_type": "code",
   "execution_count": 1,
   "metadata": {
    "collapsed": true
   },
   "outputs": [],
   "source": [
    "import os\n",
    "from pymystem3 import Mystem\n",
    "from statistics import mean\n",
    "from lxml import etree\n",
    "import pandas as pd"
   ]
  },
  {
   "cell_type": "code",
   "execution_count": 2,
   "metadata": {
    "collapsed": true
   },
   "outputs": [],
   "source": [
    "mystem = Mystem()"
   ]
  },
  {
   "cell_type": "code",
   "execution_count": 3,
   "metadata": {
    "collapsed": true
   },
   "outputs": [],
   "source": [
    "directions_path = \"..\" + os.sep + \"data\"\n",
    "corpus_path = \"..\" + os.sep + \"RusDraCor\""
   ]
  },
  {
   "cell_type": "markdown",
   "metadata": {},
   "source": [
    "## Preparations"
   ]
  },
  {
   "cell_type": "code",
   "execution_count": 4,
   "metadata": {
    "collapsed": true
   },
   "outputs": [],
   "source": [
    "# this is required because I'm using a Mac, which sometimes creates system folders like .DS_Store;\n",
    "# in any other case -- never mind\n",
    "directions_files = [item for item in os.listdir(directions_path) if item.endswith(\".txt\")]\n",
    "play_files = [item for item in os.listdir(corpus_path) if item.endswith(\".xml\")]"
   ]
  },
  {
   "cell_type": "markdown",
   "metadata": {},
   "source": [
    "## Parts-of-speech\n",
    "We will count the following parts-of-speech:\n",
    "\n",
    "* nouns,\n",
    "* adjectives,\n",
    "* verbs,\n",
    "* adverbs,\n",
    "* interjections.\n",
    "\n",
    "The values will be respresented as a _fraction_, a result of division of the POS to the total amount of words in the direction.\n",
    "\n",
    "$$ \\text{POS count} = \\frac{\\text{amount of POS in a direction}}{\\text{total amount of words}} $$\n",
    "\n",
    "Tokenization and word count will be performed via ```pymystem3.Mystem()```, a Python wrapper for [Mystem](https://tech.yandex.ru/mystem/)."
   ]
  },
  {
   "cell_type": "code",
   "execution_count": 5,
   "metadata": {
    "collapsed": true
   },
   "outputs": [],
   "source": [
    "def count_pos(direction):\n",
    "    pos_dict = {\"S\": 0, \"A\": 0, \"V\": 0, \"ADV\": 0, \"INTJ\": 0, \"words\": 0}\n",
    "    analyses = mystem.analyze(direction)\n",
    "    for analysis in analyses:\n",
    "        if \"analysis\" in analysis:\n",
    "            try:\n",
    "                pos = analysis[\"analysis\"][0][\"gr\"].split(\",\")[0]\n",
    "                if \"=\" in pos:\n",
    "                        pos = pos[:pos.index(\"=\")]\n",
    "                        if pos in pos_dict.keys():\n",
    "                            pos_dict[pos] += 1\n",
    "                        elif pos == \"ADVPRO\":\n",
    "                            pos_dict[\"ADV\"] += 1\n",
    "                        pos_dict[\"words\"] += 1\n",
    "            except:\n",
    "                pass\n",
    "    return pos_dict"
   ]
  },
  {
   "cell_type": "code",
   "execution_count": 6,
   "metadata": {
    "collapsed": true
   },
   "outputs": [],
   "source": [
    "def get_pos_amounts_words(directions_file):\n",
    "    pos_list = {\"S\": [], \"A\": [], \"V\": [], \"ADV\": [], \"INTJ\": [], \"words\": []}\n",
    "    full_path = str(directions_path) + os.sep + directions_file\n",
    "    with open(full_path, \"r\", encoding=\"utf-8\") as directions_f:\n",
    "        directions = [line.strip(\"\\n\") for line in directions_f.readlines() if line != \"\\n\"]\n",
    "    for st_dir in directions:\n",
    "        pos_this = count_pos(st_dir)\n",
    "        for item in pos_this:\n",
    "            pos_list[item].append(pos_this[item])\n",
    "    return pos_list"
   ]
  },
  {
   "cell_type": "markdown",
   "metadata": {},
   "source": [
    "Now let's crawl the files and create a dataset."
   ]
  },
  {
   "cell_type": "code",
   "execution_count": 7,
   "metadata": {},
   "outputs": [],
   "source": [
    "plays_info = []\n",
    "dummy = {\"path\": \"\", \"S\": 0, \"A\": 0, \"V\": 0, \"ADV\": 0, \"INTJ\": 0, \"words\": 0}\n",
    "for directions_file in directions_files:\n",
    "    stats = get_pos_amounts_words(directions_file)\n",
    "    for key in stats:\n",
    "        stats[key] = mean(stats[key])\n",
    "    stats[\"path\"] = directions_file\n",
    "    plays_info.append(stats)"
   ]
  },
  {
   "cell_type": "code",
   "execution_count": 8,
   "metadata": {
    "collapsed": true
   },
   "outputs": [],
   "source": [
    "df = pd.DataFrame(plays_info)"
   ]
  },
  {
   "cell_type": "code",
   "execution_count": 9,
   "metadata": {},
   "outputs": [
    {
     "data": {
      "text/html": [
       "<div>\n",
       "<style>\n",
       "    .dataframe thead tr:only-child th {\n",
       "        text-align: right;\n",
       "    }\n",
       "\n",
       "    .dataframe thead th {\n",
       "        text-align: left;\n",
       "    }\n",
       "\n",
       "    .dataframe tbody tr th {\n",
       "        vertical-align: top;\n",
       "    }\n",
       "</style>\n",
       "<table border=\"1\" class=\"dataframe\">\n",
       "  <thead>\n",
       "    <tr style=\"text-align: right;\">\n",
       "      <th></th>\n",
       "      <th>A</th>\n",
       "      <th>ADV</th>\n",
       "      <th>INTJ</th>\n",
       "      <th>S</th>\n",
       "      <th>V</th>\n",
       "      <th>path</th>\n",
       "      <th>words</th>\n",
       "    </tr>\n",
       "  </thead>\n",
       "  <tbody>\n",
       "    <tr>\n",
       "      <th>0</th>\n",
       "      <td>0.151515</td>\n",
       "      <td>0.303030</td>\n",
       "      <td>0.000000</td>\n",
       "      <td>0</td>\n",
       "      <td>0.030303</td>\n",
       "      <td>sumarokov-horev.txt</td>\n",
       "      <td>1.787879</td>\n",
       "    </tr>\n",
       "    <tr>\n",
       "      <th>1</th>\n",
       "      <td>0.371859</td>\n",
       "      <td>0.296482</td>\n",
       "      <td>0.000000</td>\n",
       "      <td>0</td>\n",
       "      <td>0.135678</td>\n",
       "      <td>gorky-egor-bulychov-i-drugie.txt</td>\n",
       "      <td>1.793970</td>\n",
       "    </tr>\n",
       "    <tr>\n",
       "      <th>2</th>\n",
       "      <td>0.180556</td>\n",
       "      <td>0.277778</td>\n",
       "      <td>0.020833</td>\n",
       "      <td>0</td>\n",
       "      <td>0.125000</td>\n",
       "      <td>turgenev-vecher-v-sorrente.txt</td>\n",
       "      <td>2.006944</td>\n",
       "    </tr>\n",
       "    <tr>\n",
       "      <th>3</th>\n",
       "      <td>0.145161</td>\n",
       "      <td>0.209677</td>\n",
       "      <td>0.112903</td>\n",
       "      <td>0</td>\n",
       "      <td>0.096774</td>\n",
       "      <td>gumilyov-gondla.txt</td>\n",
       "      <td>1.645161</td>\n",
       "    </tr>\n",
       "    <tr>\n",
       "      <th>4</th>\n",
       "      <td>0.126506</td>\n",
       "      <td>0.108434</td>\n",
       "      <td>0.012048</td>\n",
       "      <td>0</td>\n",
       "      <td>0.060241</td>\n",
       "      <td>chekhov-leshii.txt</td>\n",
       "      <td>1.080321</td>\n",
       "    </tr>\n",
       "  </tbody>\n",
       "</table>\n",
       "</div>"
      ],
      "text/plain": [
       "          A       ADV      INTJ  S         V  \\\n",
       "0  0.151515  0.303030  0.000000  0  0.030303   \n",
       "1  0.371859  0.296482  0.000000  0  0.135678   \n",
       "2  0.180556  0.277778  0.020833  0  0.125000   \n",
       "3  0.145161  0.209677  0.112903  0  0.096774   \n",
       "4  0.126506  0.108434  0.012048  0  0.060241   \n",
       "\n",
       "                               path     words  \n",
       "0               sumarokov-horev.txt  1.787879  \n",
       "1  gorky-egor-bulychov-i-drugie.txt  1.793970  \n",
       "2    turgenev-vecher-v-sorrente.txt  2.006944  \n",
       "3               gumilyov-gondla.txt  1.645161  \n",
       "4                chekhov-leshii.txt  1.080321  "
      ]
     },
     "execution_count": 9,
     "metadata": {},
     "output_type": "execute_result"
    }
   ],
   "source": [
    "df.head()"
   ]
  },
  {
   "cell_type": "markdown",
   "metadata": {},
   "source": [
    "## Saving the information\n",
    "Now, let's save the data."
   ]
  },
  {
   "cell_type": "code",
   "execution_count": 10,
   "metadata": {
    "collapsed": true
   },
   "outputs": [],
   "source": [
    "df.to_csv(\"..\" + os.sep + \"data\" + os.sep + \"mean_values.csv\", sep=\";\", encoding=\"utf-8\")"
   ]
  }
 ],
 "metadata": {
  "kernelspec": {
   "display_name": "Python 3",
   "language": "python",
   "name": "python3"
  },
  "language_info": {
   "codemirror_mode": {
    "name": "ipython",
    "version": 3
   },
   "file_extension": ".py",
   "mimetype": "text/x-python",
   "name": "python",
   "nbconvert_exporter": "python",
   "pygments_lexer": "ipython3",
   "version": "3.6.2"
  }
 },
 "nbformat": 4,
 "nbformat_minor": 2
}
